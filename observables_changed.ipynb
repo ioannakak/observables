{
 "cells": [
  {
   "cell_type": "markdown",
   "metadata": {},
   "source": [
    "# Observables from twopoppy\n",
    "\n",
    "You need to **clone** (not download) the `twopoppy code`:\n",
    "\n",
    "    git clone https://github.com/birnstiel/two-pop-py\n",
    "    \n",
    "Then go in the repository and install it e.g. with\n",
    "\n",
    "    pip install -e ."
   ]
  },
  {
   "cell_type": "markdown",
   "metadata": {},
   "source": [
    "All the imports and setup stuff:"
   ]
  },
  {
   "cell_type": "code",
   "execution_count": 1,
   "metadata": {
    "collapsed": true
   },
   "outputs": [],
   "source": [
    "from planck_B_nu import planck_B_nu\n",
    "import numpy as np\n",
    "import matplotlib.pyplot as plt\n",
    "from astropy import constants as c\n",
    "from astropy import units as u\n",
    "from scipy.integrate import cumtrapz\n",
    "import os, pandas as pd\n",
    "\n",
    "\n",
    "#import twopoppy\n",
    "#from twopoppy.wrapper import model_wrapper\n",
    "#from twopoppy.args import args\n",
    "from twopoppy import model\n",
    "\n",
    "c_light = c.c.cgs.value\n",
    "au = u.au.to('cm')\n",
    "pc = u.pc.to('cm')\n",
    "M_sun = c.M_sun.cgs.value\n",
    "year = u.year.to('s')\n",
    "arcsec_sq = (u.arcsec**2).to(u.sr)  # arcsec**2 in steradian\n",
    "\n",
    "%matplotlib inline\n",
    "plt.style.use({'figure.dpi': 200})"
   ]
  },
  {
   "cell_type": "code",
   "execution_count": 2,
   "metadata": {},
   "outputs": [
    {
     "data": {
      "text/plain": [
       "<module 'twopoppy.model' from '/home/apo/anaconda3/lib/python3.6/site-packages/twopoppy-0.0.0-py3.6.egg/twopoppy/model.py'>"
      ]
     },
     "execution_count": 2,
     "metadata": {},
     "output_type": "execute_result"
    }
   ],
   "source": [
    "from importlib import reload\n",
    "reload(model)"
   ]
  },
  {
   "cell_type": "markdown",
   "metadata": {},
   "source": [
    "Get some data"
   ]
  },
  {
   "cell_type": "code",
   "execution_count": 2,
   "metadata": {
    "collapsed": true
   },
   "outputs": [],
   "source": [
    "n_r       = 200\n",
    "n_t       = 100\n",
    "r_in      = 5*au\n",
    "r_out     = 300*au\n",
    "r         = np.logspace(np.log10(r_in),np.log10(r_out),n_r)"
   ]
  },
  {
   "cell_type": "code",
   "execution_count": 19,
   "metadata": {
    "collapsed": true
   },
   "outputs": [],
   "source": [
    "# model parameters\n",
    "\n",
    "r_c    = 20*au        # disk characteristic radius [cm]\n",
    "v_frag = 1000.        # fragmentation velocity [cm s^-1]\n",
    "rho_s  = 1.2          # material density of in Drazkowska\n",
    "M_star = M_sun        # stellar mass [g]\n",
    "M_disk = 0.005*M_star  # gas disk mass [g]\n",
    "d2g    = 0.01         # dust-to-gas ratio [-]\n",
    "a_0    = 1e-5         # initial particle size [cm]\n",
    "# snapshot time [s]\n",
    "\n",
    "time  = np.logspace(2,6,n_t)*year\n",
    "\n",
    "# initial conditions: gas and dust surface densities [g cm^-2]\n",
    "\n",
    "sig_g = (r/r_c)**-1*np.exp(-(r/r_c))\n",
    "sig_g = sig_g/np.trapz(2*np.pi*r*sig_g,x=r)*M_disk\n",
    "sig_d = d2g*sig_g\n",
    "\n",
    "# power-law temperature [K]\n",
    "\n",
    "Temp     = 200.*(r/au)**-0.5\n",
    "\n",
    "# alpha profile: a dip at 30*au - no scientific reason\n",
    "alpha = 1e-2*np.ones_like(r)\n",
    "#alpha = 1e-2*np.ones_like(r)-9e-3*np.exp(-(r-30*au)**2/(2*(5*au)**2))\n",
    "\n",
    "# v_gas is only for non-evolving gas disks, where you still\n",
    "# want the dust to feel a gas velocity (e.g. a steady-state disk)\n",
    "v_gas = np.zeros_like(r)\n",
    "\n",
    "estick = 1.0"
   ]
  },
  {
   "cell_type": "code",
   "execution_count": 20,
   "metadata": {},
   "outputs": [
    {
     "name": "stdout",
     "output_type": "stream",
     "text": [
      "toy model running ... Done!\n"
     ]
    }
   ],
   "source": [
    "res = model.run(r, a_0, time, sig_g, sig_d, v_gas, Temp, alpha, M_star, v_frag, rho_s, 1)\n",
    "\n",
    "t     = res[0]\n",
    "sig_d = res[1]\n",
    "sig_g = res[2]\n",
    "v_bar = res[3]\n",
    "v_gas = res[4]\n",
    "v_0   = res[5]\n",
    "v_1   = res[6]\n",
    "a_dr  = res[7]\n",
    "a_fr  = res[8]\n",
    "a_df  = res[9]\n",
    "a_t   = res[10]"
   ]
  },
  {
   "cell_type": "markdown",
   "metadata": {},
   "source": [
    "\n",
    "## Load opacity"
   ]
  },
  {
   "cell_type": "code",
   "execution_count": 21,
   "metadata": {
    "collapsed": true
   },
   "outputs": [],
   "source": [
    "opacity = np.load('opacity.npz') # load an npz file (array)\n",
    "k_a = opacity['k_a'] #len(k_a) = 1500\n",
    "k_s = opacity['k_s'] #len(k_s) = 1500\n",
    "lam = opacity['lam']  #all the three are contained in opacity.npz\n",
    "a_opac = opacity['a'] #len(a_opac) = 1500\n",
    "n_lam = len(lam)"
   ]
  },
  {
   "cell_type": "markdown",
   "metadata": {},
   "source": [
    "Plotting the opacity"
   ]
  },
  {
   "cell_type": "code",
   "execution_count": 22,
   "metadata": {},
   "outputs": [
    {
     "data": {
      "image/png": "[encoded data removed]",
      "text/plain": [
       "<matplotlib.figure.Figure at 0x7fb4382d4828>"
      ]
     },
     "metadata": {},
     "output_type": "display_data"
    }
   ],
   "source": [
    "f, ax = plt.subplots()\n",
    "for ilam in range(n_lam):\n",
    "    ax.loglog(a_opac, k_a[:, ilam], label='$\\lambda = {:.3g}$ mm'.format(10 * lam[ilam]))\n",
    "ax.legend()\n",
    "ax.set_xlabel('particle size [cm]')\n",
    "ax.set_ylabel('$\\kappa_\\mathrm{abs}$ [cm$^2$/g]');"
   ]
  },
  {
   "cell_type": "markdown",
   "metadata": {},
   "source": [
    "## Calculate optical depth and emission profiles"
   ]
  },
  {
   "cell_type": "markdown",
   "metadata": {},
   "source": [
    "Define the function that reconstructs the size distribution"
   ]
  },
  {
   "cell_type": "code",
   "execution_count": 3,
   "metadata": {},
   "outputs": [
    {
     "ename": "NameError",
     "evalue": "name 'a_0' is not defined",
     "output_type": "error",
     "traceback": [
      "\u001b[0;31m---------------------------------------------------------------------------\u001b[0m",
      "\u001b[0;31mNameError\u001b[0m                                 Traceback (most recent call last)",
      "\u001b[0;32m<ipython-input-3-abc47c1729d9>\u001b[0m in \u001b[0;36m<module>\u001b[0;34m()\u001b[0m\n\u001b[0;32m----> 1\u001b[0;31m \u001b[0ma\u001b[0m \u001b[0;34m=\u001b[0m \u001b[0mnp\u001b[0m\u001b[0;34m.\u001b[0m\u001b[0mlogspace\u001b[0m\u001b[0;34m(\u001b[0m\u001b[0mnp\u001b[0m\u001b[0;34m.\u001b[0m\u001b[0mlog10\u001b[0m\u001b[0;34m(\u001b[0m\u001b[0ma_0\u001b[0m\u001b[0;34m)\u001b[0m\u001b[0;34m,\u001b[0m \u001b[0mnp\u001b[0m\u001b[0;34m.\u001b[0m\u001b[0mlog10\u001b[0m\u001b[0;34m(\u001b[0m\u001b[0;36m5\u001b[0m \u001b[0;34m*\u001b[0m \u001b[0ma_t\u001b[0m\u001b[0;34m.\u001b[0m\u001b[0mmax\u001b[0m\u001b[0;34m(\u001b[0m\u001b[0;34m)\u001b[0m\u001b[0;34m)\u001b[0m\u001b[0;34m,\u001b[0m \u001b[0;36m150\u001b[0m\u001b[0;34m)\u001b[0m\u001b[0;34m\u001b[0m\u001b[0m\n\u001b[0m",
      "\u001b[0;31mNameError\u001b[0m: name 'a_0' is not defined"
     ]
    }
   ],
   "source": [
    "a = np.logspace(np.log10(a_0), np.log10(5 * a_t.max()), 150) "
   ]
  },
  {
   "cell_type": "code",
   "execution_count": 24,
   "metadata": {
    "collapsed": true
   },
   "outputs": [],
   "source": [
    "from twopoppy.distribution_reconstruction import reconstruct_size_distribution as rsd"
   ]
  },
  {
   "cell_type": "code",
   "execution_count": 30,
   "metadata": {
    "collapsed": true
   },
   "outputs": [],
   "source": [
    "def get_distri( it, r, a, time, sig_g, sig_d, alpha, rho_s, Temp, M_star, v_frag, a0=a_0):\n",
    "    \n",
    "    it =0\n",
    "    if Temp.ndim == 1:\n",
    "        T = Temp\n",
    "    else:\n",
    "        T = Temp[it]\n",
    "    \n",
    "    distri = rsd(\n",
    "        r, \n",
    "        a, \n",
    "        time[it],\n",
    "        sig_g[it],\n",
    "        sig_d[it], \n",
    "        alpha, \n",
    "        rho_s, \n",
    "        T, \n",
    "        M_star, \n",
    "        v_frag,\n",
    "        a_0 = 1e-5) \n",
    "    return distri[:2]\n",
    "\n"
   ]
  },
  {
   "cell_type": "markdown",
   "metadata": {},
   "source": [
    "Define the function that will do all the work for us:\n",
    "\n",
    "- interpolate the opacity on the particle size grid provided by the simulation itself\n",
    "- calculate the size distribution and from that\n",
    "- calculate optical depth, intensity profiles and from those\n",
    "- r_eff and fluxes"
   ]
  },
  {
   "cell_type": "code",
   "execution_count": 31,
   "metadata": {
    "collapsed": true
   },
   "outputs": [],
   "source": [
    "def get_results(r, t, a, Temp, sample_time, it, lam, a_opac, k_a, distance=140 * pc, flux_fraction=0.68):\n",
    "    \"\"\"\n",
    "    Calculates the radial profiles of the (vertical) optical depth and the intensity for a given simulation\n",
    "    at a given time (using the closest simulation snapshot).\n",
    "    \n",
    "    Arguments:\n",
    "    ----------\n",
    "    \n",
    "    res : twopoppy.results.results\n",
    "        twopoppy simulation results object\n",
    "        \n",
    "    time : float\n",
    "        time at which to calculate the results [s]\n",
    "        \n",
    "    lam : array\n",
    "        wavelengths at which to calculate the results [cm]\n",
    "        \n",
    "    a_opac : array\n",
    "        particle size grid on which the opacities are defined [cm]\n",
    "        \n",
    "    k_a : array\n",
    "        absorption opacity as function of wavelength (grid lam) and\n",
    "        particle size (grid a_opac) [cm^2/g]\n",
    "        \n",
    "    Keywords:\n",
    "    ---------\n",
    "    \n",
    "    distance : float\n",
    "        distance to source [cm]\n",
    "        \n",
    "    flux_fraction : float\n",
    "        at which fraction of the total flux the effective radius is defined [-]\n",
    "        \n",
    "    Output:\n",
    "    -------\n",
    "    \n",
    "    rf : array\n",
    "        effective radii for every wavelength [cm]\n",
    "    \n",
    "    flux_t : array\n",
    "        integrated flux for every wavelength [Jy]\n",
    "        \n",
    "    tau,Inu : array\n",
    "        optical depth and intensity profiles at every wavelength [-, Jy/arcsec**2]\n",
    "        \n",
    "    sig_da, : array\n",
    "        reconstructed particle size distribution on grid (res.a, res.x)\n",
    "        \n",
    "    a_max : array\n",
    "        maximum particle size [cm]\n",
    "    \"\"\"\n",
    "\n",
    "    # interpolate opacity on the same particle size grid as the size distribution\n",
    "   \n",
    "    kappa = np.array([10.**np.interp(np.log10(a), np.log10(a_opac), np.log10(k)) for k in k_a.T]).T  #interpolates the opacity\n",
    "    \n",
    "    it = np.abs(t - sample_time).argmin()\n",
    "    \n",
    "    if Temp.ndim == 1:\n",
    "        T = Temp\n",
    "    else:\n",
    "        T = Temp[it]\n",
    "        \n",
    "    # reconstruct the size distribution\n",
    "        \n",
    "    sig_da, a_max = get_distri(2, r, a, time, sig_g, sig_d, alpha, rho_s, T, M_star, v_frag,a_0)\n",
    "    \n",
    "    # calculate planck function at every wavelength and radius\n",
    "\n",
    "    Bnu = planck_B_nu(c_light / (np.array(lam, ndmin=2).T), np.array(T, ndmin=2))  # shape = (n_lam, n_r)\n",
    "\n",
    "    # calculate optical depth\n",
    "\n",
    "    tau = (kappa.T[:, :, np.newaxis] * sig_da[np.newaxis, :, :])  # shape = (n_l, n_a, n_r)\n",
    "    tau = tau.sum(1)  # shape = (n_l, n_r)\n",
    "\n",
    "    # calculate intensity at every wavelength and radius for this snapshot\n",
    "    # here the intensity is still in plain CGS units (per sterad)\n",
    "\n",
    "    intens = Bnu * (1 - np.exp(-tau))\n",
    "\n",
    "    # calculate the fluxes\n",
    "    \n",
    "    flux = distance**-2 * cumtrapz(2 * np.pi * r * intens, x=r, axis=1, initial=0)\n",
    "    \n",
    "    flux_t = flux[:, -1] / 1e-23  # store the integrated flux density in Jy (sanity check: TW Hya @ 870 micron and 54 parsec is about 1.5 Jy)\n",
    "\n",
    "    # converted intensity to Jy/arcsec**2\n",
    "\n",
    "    Inu = intens * arcsec_sq / 1e-23\n",
    "    \n",
    "#   interpolate radius whithin which >=68% of the dust mass is  # Effective radius (see Tripani)\n",
    "#   rf = np.array([np.interp(flux_fraction, _f / _f[-1], res.x) for _f in flux])\n",
    "    \n",
    "    rf = np.array([np.interp(flux_fraction, _f / _f[-1], r) for _f in flux])\n",
    "    \n",
    "    path = '/home/apo/Codes/two-pop-py/results.csv'\n",
    "    \n",
    "    import pandas as pd\n",
    "    \n",
    "    data_dict = {'mdisk': [M_disk/M_sun], 'alpha' : [alpha[0]], 'r_c [AU]' : [r_c/au], 'v_frag' : [v_frag], 'reff [AU]' : [rf/au], 'fluxmm' : [flux_t]}\n",
    "    df = pd.DataFrame(data=data_dict)\n",
    "    column_order = [ 'mdisk', 'alpha', 'r_c [AU]', 'v_frag', 'reff [AU]', 'fluxmm']\n",
    "    df = df[column_order]\n",
    "\n",
    "    #df = df.append(data_dict, ignore_index=True)\n",
    "    with open('/home/apo/Codes/two-pop-py/results.csv', 'a') as f:\n",
    "        df.to_csv(f, header=False)\n",
    "     \n",
    "    return rf, flux_t, tau, Inu, sig_da, a_max"
   ]
  },
  {
   "cell_type": "markdown",
   "metadata": {},
   "source": [
    "Now we call the function, passing our selected simulation, the time at which we want the results, and size/wavelength/opacity grids"
   ]
  },
  {
   "cell_type": "code",
   "execution_count": 3,
   "metadata": {},
   "outputs": [
    {
     "name": "stdout",
     "output_type": "stream",
     "text": [
      "toy model running ... Done!\n"
     ]
    },
    {
     "name": "stderr",
     "output_type": "stream",
     "text": [
      "/home/apo/anaconda3/lib/python3.6/site-packages/twopoppy-0.0.0-py3.6.egg/twopoppy/distribution_reconstruction.py:30: RuntimeWarning: invalid value encountered in log10\n",
      "  return 10**(np.interp(np.log10(x_int), np.log10(x), np.log10(R)))\n",
      "/home/apo/anaconda3/lib/python3.6/site-packages/twopoppy-0.0.0-py3.6.egg/twopoppy/distribution_reconstruction.py:412: RuntimeWarning: overflow encountered in power\n",
      "  np.exp(A * ((r[mask] / ra)**p[mask] - 1.)))\n"
     ]
    },
    {
     "name": "stdout",
     "output_type": "stream",
     "text": [
      "toy model running ... Done!\n"
     ]
    },
    {
     "name": "stderr",
     "output_type": "stream",
     "text": [
      "/home/apo/anaconda3/lib/python3.6/site-packages/twopoppy-0.0.0-py3.6.egg/twopoppy/distribution_reconstruction.py:213: RuntimeWarning: invalid value encountered in sqrt\n",
      "  a_fr = sig_g / (pi * rho_s) * (b - np.sqrt(b**2 - 4.))\n",
      "/home/apo/anaconda3/lib/python3.6/site-packages/twopoppy-0.0.0-py3.6.egg/twopoppy/distribution_reconstruction.py:30: RuntimeWarning: invalid value encountered in log10\n",
      "  return 10**(np.interp(np.log10(x_int), np.log10(x), np.log10(R)))\n",
      "/home/apo/anaconda3/lib/python3.6/site-packages/twopoppy-0.0.0-py3.6.egg/twopoppy/distribution_reconstruction.py:412: RuntimeWarning: overflow encountered in power\n",
      "  np.exp(A * ((r[mask] / ra)**p[mask] - 1.)))\n"
     ]
    },
    {
     "name": "stdout",
     "output_type": "stream",
     "text": [
      "toy model running ... Done!\n"
     ]
    },
    {
     "name": "stderr",
     "output_type": "stream",
     "text": [
      "/home/apo/anaconda3/lib/python3.6/site-packages/twopoppy-0.0.0-py3.6.egg/twopoppy/distribution_reconstruction.py:213: RuntimeWarning: invalid value encountered in sqrt\n",
      "  a_fr = sig_g / (pi * rho_s) * (b - np.sqrt(b**2 - 4.))\n",
      "/home/apo/anaconda3/lib/python3.6/site-packages/twopoppy-0.0.0-py3.6.egg/twopoppy/distribution_reconstruction.py:30: RuntimeWarning: invalid value encountered in log10\n",
      "  return 10**(np.interp(np.log10(x_int), np.log10(x), np.log10(R)))\n",
      "/home/apo/anaconda3/lib/python3.6/site-packages/twopoppy-0.0.0-py3.6.egg/twopoppy/distribution_reconstruction.py:412: RuntimeWarning: overflow encountered in power\n",
      "  np.exp(A * ((r[mask] / ra)**p[mask] - 1.)))\n"
     ]
    },
    {
     "name": "stdout",
     "output_type": "stream",
     "text": [
      "toy model running ... Done!\n"
     ]
    },
    {
     "name": "stderr",
     "output_type": "stream",
     "text": [
      "/home/apo/anaconda3/lib/python3.6/site-packages/twopoppy-0.0.0-py3.6.egg/twopoppy/distribution_reconstruction.py:213: RuntimeWarning: invalid value encountered in sqrt\n",
      "  a_fr = sig_g / (pi * rho_s) * (b - np.sqrt(b**2 - 4.))\n",
      "/home/apo/anaconda3/lib/python3.6/site-packages/twopoppy-0.0.0-py3.6.egg/twopoppy/distribution_reconstruction.py:30: RuntimeWarning: invalid value encountered in log10\n",
      "  return 10**(np.interp(np.log10(x_int), np.log10(x), np.log10(R)))\n",
      "/home/apo/anaconda3/lib/python3.6/site-packages/twopoppy-0.0.0-py3.6.egg/twopoppy/distribution_reconstruction.py:412: RuntimeWarning: overflow encountered in power\n",
      "  np.exp(A * ((r[mask] / ra)**p[mask] - 1.)))\n"
     ]
    },
    {
     "name": "stdout",
     "output_type": "stream",
     "text": [
      "toy model running ... Done!\n"
     ]
    },
    {
     "name": "stderr",
     "output_type": "stream",
     "text": [
      "/home/apo/anaconda3/lib/python3.6/site-packages/twopoppy-0.0.0-py3.6.egg/twopoppy/distribution_reconstruction.py:30: RuntimeWarning: invalid value encountered in log10\n",
      "  return 10**(np.interp(np.log10(x_int), np.log10(x), np.log10(R)))\n",
      "/home/apo/anaconda3/lib/python3.6/site-packages/twopoppy-0.0.0-py3.6.egg/twopoppy/distribution_reconstruction.py:412: RuntimeWarning: overflow encountered in power\n",
      "  np.exp(A * ((r[mask] / ra)**p[mask] - 1.)))\n"
     ]
    },
    {
     "name": "stdout",
     "output_type": "stream",
     "text": [
      "toy model running ... Done!\n"
     ]
    },
    {
     "name": "stderr",
     "output_type": "stream",
     "text": [
      "/home/apo/anaconda3/lib/python3.6/site-packages/twopoppy-0.0.0-py3.6.egg/twopoppy/distribution_reconstruction.py:213: RuntimeWarning: invalid value encountered in sqrt\n",
      "  a_fr = sig_g / (pi * rho_s) * (b - np.sqrt(b**2 - 4.))\n",
      "/home/apo/anaconda3/lib/python3.6/site-packages/twopoppy-0.0.0-py3.6.egg/twopoppy/distribution_reconstruction.py:30: RuntimeWarning: invalid value encountered in log10\n",
      "  return 10**(np.interp(np.log10(x_int), np.log10(x), np.log10(R)))\n",
      "/home/apo/anaconda3/lib/python3.6/site-packages/twopoppy-0.0.0-py3.6.egg/twopoppy/distribution_reconstruction.py:412: RuntimeWarning: overflow encountered in power\n",
      "  np.exp(A * ((r[mask] / ra)**p[mask] - 1.)))\n"
     ]
    },
    {
     "name": "stdout",
     "output_type": "stream",
     "text": [
      "toy model running ... Done!\n"
     ]
    },
    {
     "name": "stderr",
     "output_type": "stream",
     "text": [
      "/home/apo/anaconda3/lib/python3.6/site-packages/twopoppy-0.0.0-py3.6.egg/twopoppy/distribution_reconstruction.py:213: RuntimeWarning: invalid value encountered in sqrt\n",
      "  a_fr = sig_g / (pi * rho_s) * (b - np.sqrt(b**2 - 4.))\n",
      "/home/apo/anaconda3/lib/python3.6/site-packages/twopoppy-0.0.0-py3.6.egg/twopoppy/distribution_reconstruction.py:30: RuntimeWarning: invalid value encountered in log10\n",
      "  return 10**(np.interp(np.log10(x_int), np.log10(x), np.log10(R)))\n",
      "/home/apo/anaconda3/lib/python3.6/site-packages/twopoppy-0.0.0-py3.6.egg/twopoppy/distribution_reconstruction.py:412: RuntimeWarning: overflow encountered in power\n",
      "  np.exp(A * ((r[mask] / ra)**p[mask] - 1.)))\n"
     ]
    },
    {
     "name": "stdout",
     "output_type": "stream",
     "text": [
      "toy model running ... Done!\n"
     ]
    },
    {
     "name": "stderr",
     "output_type": "stream",
     "text": [
      "/home/apo/anaconda3/lib/python3.6/site-packages/twopoppy-0.0.0-py3.6.egg/twopoppy/distribution_reconstruction.py:213: RuntimeWarning: invalid value encountered in sqrt\n",
      "  a_fr = sig_g / (pi * rho_s) * (b - np.sqrt(b**2 - 4.))\n",
      "/home/apo/anaconda3/lib/python3.6/site-packages/twopoppy-0.0.0-py3.6.egg/twopoppy/distribution_reconstruction.py:30: RuntimeWarning: invalid value encountered in log10\n",
      "  return 10**(np.interp(np.log10(x_int), np.log10(x), np.log10(R)))\n",
      "/home/apo/anaconda3/lib/python3.6/site-packages/twopoppy-0.0.0-py3.6.egg/twopoppy/distribution_reconstruction.py:412: RuntimeWarning: overflow encountered in power\n",
      "  np.exp(A * ((r[mask] / ra)**p[mask] - 1.)))\n"
     ]
    },
    {
     "name": "stdout",
     "output_type": "stream",
     "text": [
      "toy model running ... Done!\n"
     ]
    },
    {
     "name": "stderr",
     "output_type": "stream",
     "text": [
      "/home/apo/anaconda3/lib/python3.6/site-packages/twopoppy-0.0.0-py3.6.egg/twopoppy/distribution_reconstruction.py:30: RuntimeWarning: invalid value encountered in log10\n",
      "  return 10**(np.interp(np.log10(x_int), np.log10(x), np.log10(R)))\n",
      "/home/apo/anaconda3/lib/python3.6/site-packages/twopoppy-0.0.0-py3.6.egg/twopoppy/distribution_reconstruction.py:412: RuntimeWarning: overflow encountered in power\n",
      "  np.exp(A * ((r[mask] / ra)**p[mask] - 1.)))\n"
     ]
    },
    {
     "name": "stdout",
     "output_type": "stream",
     "text": [
      "toy model running ... Done!\n"
     ]
    },
    {
     "name": "stderr",
     "output_type": "stream",
     "text": [
      "/home/apo/anaconda3/lib/python3.6/site-packages/twopoppy-0.0.0-py3.6.egg/twopoppy/distribution_reconstruction.py:213: RuntimeWarning: invalid value encountered in sqrt\n",
      "  a_fr = sig_g / (pi * rho_s) * (b - np.sqrt(b**2 - 4.))\n",
      "/home/apo/anaconda3/lib/python3.6/site-packages/twopoppy-0.0.0-py3.6.egg/twopoppy/distribution_reconstruction.py:30: RuntimeWarning: invalid value encountered in log10\n",
      "  return 10**(np.interp(np.log10(x_int), np.log10(x), np.log10(R)))\n",
      "/home/apo/anaconda3/lib/python3.6/site-packages/twopoppy-0.0.0-py3.6.egg/twopoppy/distribution_reconstruction.py:412: RuntimeWarning: overflow encountered in power\n",
      "  np.exp(A * ((r[mask] / ra)**p[mask] - 1.)))\n"
     ]
    },
    {
     "name": "stdout",
     "output_type": "stream",
     "text": [
      "toy model running ... Done!\n"
     ]
    },
    {
     "name": "stderr",
     "output_type": "stream",
     "text": [
      "/home/apo/anaconda3/lib/python3.6/site-packages/twopoppy-0.0.0-py3.6.egg/twopoppy/distribution_reconstruction.py:213: RuntimeWarning: invalid value encountered in sqrt\n",
      "  a_fr = sig_g / (pi * rho_s) * (b - np.sqrt(b**2 - 4.))\n",
      "/home/apo/anaconda3/lib/python3.6/site-packages/twopoppy-0.0.0-py3.6.egg/twopoppy/distribution_reconstruction.py:30: RuntimeWarning: invalid value encountered in log10\n",
      "  return 10**(np.interp(np.log10(x_int), np.log10(x), np.log10(R)))\n",
      "/home/apo/anaconda3/lib/python3.6/site-packages/twopoppy-0.0.0-py3.6.egg/twopoppy/distribution_reconstruction.py:412: RuntimeWarning: overflow encountered in power\n",
      "  np.exp(A * ((r[mask] / ra)**p[mask] - 1.)))\n"
     ]
    },
    {
     "name": "stdout",
     "output_type": "stream",
     "text": [
      "toy model running ... Done!\n"
     ]
    },
    {
     "name": "stderr",
     "output_type": "stream",
     "text": [
      "/home/apo/anaconda3/lib/python3.6/site-packages/twopoppy-0.0.0-py3.6.egg/twopoppy/distribution_reconstruction.py:213: RuntimeWarning: invalid value encountered in sqrt\n",
      "  a_fr = sig_g / (pi * rho_s) * (b - np.sqrt(b**2 - 4.))\n",
      "/home/apo/anaconda3/lib/python3.6/site-packages/twopoppy-0.0.0-py3.6.egg/twopoppy/distribution_reconstruction.py:30: RuntimeWarning: invalid value encountered in log10\n",
      "  return 10**(np.interp(np.log10(x_int), np.log10(x), np.log10(R)))\n",
      "/home/apo/anaconda3/lib/python3.6/site-packages/twopoppy-0.0.0-py3.6.egg/twopoppy/distribution_reconstruction.py:412: RuntimeWarning: overflow encountered in power\n",
      "  np.exp(A * ((r[mask] / ra)**p[mask] - 1.)))\n"
     ]
    },
    {
     "name": "stdout",
     "output_type": "stream",
     "text": [
      "toy model running ... Done!\n"
     ]
    },
    {
     "name": "stderr",
     "output_type": "stream",
     "text": [
      "/home/apo/anaconda3/lib/python3.6/site-packages/twopoppy-0.0.0-py3.6.egg/twopoppy/distribution_reconstruction.py:30: RuntimeWarning: invalid value encountered in log10\n",
      "  return 10**(np.interp(np.log10(x_int), np.log10(x), np.log10(R)))\n",
      "/home/apo/anaconda3/lib/python3.6/site-packages/twopoppy-0.0.0-py3.6.egg/twopoppy/distribution_reconstruction.py:412: RuntimeWarning: overflow encountered in power\n",
      "  np.exp(A * ((r[mask] / ra)**p[mask] - 1.)))\n"
     ]
    },
    {
     "name": "stdout",
     "output_type": "stream",
     "text": [
      "toy model running ... Done!\n"
     ]
    },
    {
     "name": "stderr",
     "output_type": "stream",
     "text": [
      "/home/apo/anaconda3/lib/python3.6/site-packages/twopoppy-0.0.0-py3.6.egg/twopoppy/distribution_reconstruction.py:213: RuntimeWarning: invalid value encountered in sqrt\n",
      "  a_fr = sig_g / (pi * rho_s) * (b - np.sqrt(b**2 - 4.))\n",
      "/home/apo/anaconda3/lib/python3.6/site-packages/twopoppy-0.0.0-py3.6.egg/twopoppy/distribution_reconstruction.py:30: RuntimeWarning: invalid value encountered in log10\n",
      "  return 10**(np.interp(np.log10(x_int), np.log10(x), np.log10(R)))\n",
      "/home/apo/anaconda3/lib/python3.6/site-packages/twopoppy-0.0.0-py3.6.egg/twopoppy/distribution_reconstruction.py:412: RuntimeWarning: overflow encountered in power\n",
      "  np.exp(A * ((r[mask] / ra)**p[mask] - 1.)))\n"
     ]
    },
    {
     "name": "stdout",
     "output_type": "stream",
     "text": [
      "toy model running ... Done!\n"
     ]
    },
    {
     "name": "stderr",
     "output_type": "stream",
     "text": [
      "/home/apo/anaconda3/lib/python3.6/site-packages/twopoppy-0.0.0-py3.6.egg/twopoppy/distribution_reconstruction.py:213: RuntimeWarning: invalid value encountered in sqrt\n",
      "  a_fr = sig_g / (pi * rho_s) * (b - np.sqrt(b**2 - 4.))\n",
      "/home/apo/anaconda3/lib/python3.6/site-packages/twopoppy-0.0.0-py3.6.egg/twopoppy/distribution_reconstruction.py:30: RuntimeWarning: invalid value encountered in log10\n",
      "  return 10**(np.interp(np.log10(x_int), np.log10(x), np.log10(R)))\n",
      "/home/apo/anaconda3/lib/python3.6/site-packages/twopoppy-0.0.0-py3.6.egg/twopoppy/distribution_reconstruction.py:412: RuntimeWarning: overflow encountered in power\n",
      "  np.exp(A * ((r[mask] / ra)**p[mask] - 1.)))\n"
     ]
    },
    {
     "name": "stdout",
     "output_type": "stream",
     "text": [
      "toy model running ... Done!\n"
     ]
    },
    {
     "name": "stderr",
     "output_type": "stream",
     "text": [
      "/home/apo/anaconda3/lib/python3.6/site-packages/twopoppy-0.0.0-py3.6.egg/twopoppy/distribution_reconstruction.py:213: RuntimeWarning: invalid value encountered in sqrt\n",
      "  a_fr = sig_g / (pi * rho_s) * (b - np.sqrt(b**2 - 4.))\n",
      "/home/apo/anaconda3/lib/python3.6/site-packages/twopoppy-0.0.0-py3.6.egg/twopoppy/distribution_reconstruction.py:30: RuntimeWarning: invalid value encountered in log10\n",
      "  return 10**(np.interp(np.log10(x_int), np.log10(x), np.log10(R)))\n",
      "/home/apo/anaconda3/lib/python3.6/site-packages/twopoppy-0.0.0-py3.6.egg/twopoppy/distribution_reconstruction.py:412: RuntimeWarning: overflow encountered in power\n",
      "  np.exp(A * ((r[mask] / ra)**p[mask] - 1.)))\n"
     ]
    },
    {
     "name": "stdout",
     "output_type": "stream",
     "text": [
      "toy model running ... Done!\n"
     ]
    },
    {
     "name": "stderr",
     "output_type": "stream",
     "text": [
      "/home/apo/anaconda3/lib/python3.6/site-packages/twopoppy-0.0.0-py3.6.egg/twopoppy/distribution_reconstruction.py:30: RuntimeWarning: invalid value encountered in log10\n",
      "  return 10**(np.interp(np.log10(x_int), np.log10(x), np.log10(R)))\n",
      "/home/apo/anaconda3/lib/python3.6/site-packages/twopoppy-0.0.0-py3.6.egg/twopoppy/distribution_reconstruction.py:412: RuntimeWarning: overflow encountered in power\n",
      "  np.exp(A * ((r[mask] / ra)**p[mask] - 1.)))\n"
     ]
    },
    {
     "name": "stdout",
     "output_type": "stream",
     "text": [
      "toy model running ... Done!\n"
     ]
    },
    {
     "name": "stderr",
     "output_type": "stream",
     "text": [
      "/home/apo/anaconda3/lib/python3.6/site-packages/twopoppy-0.0.0-py3.6.egg/twopoppy/distribution_reconstruction.py:213: RuntimeWarning: invalid value encountered in sqrt\n",
      "  a_fr = sig_g / (pi * rho_s) * (b - np.sqrt(b**2 - 4.))\n",
      "/home/apo/anaconda3/lib/python3.6/site-packages/twopoppy-0.0.0-py3.6.egg/twopoppy/distribution_reconstruction.py:30: RuntimeWarning: invalid value encountered in log10\n",
      "  return 10**(np.interp(np.log10(x_int), np.log10(x), np.log10(R)))\n",
      "/home/apo/anaconda3/lib/python3.6/site-packages/twopoppy-0.0.0-py3.6.egg/twopoppy/distribution_reconstruction.py:412: RuntimeWarning: overflow encountered in power\n",
      "  np.exp(A * ((r[mask] / ra)**p[mask] - 1.)))\n"
     ]
    },
    {
     "name": "stdout",
     "output_type": "stream",
     "text": [
      "toy model running ... Done!\n"
     ]
    },
    {
     "name": "stderr",
     "output_type": "stream",
     "text": [
      "/home/apo/anaconda3/lib/python3.6/site-packages/twopoppy-0.0.0-py3.6.egg/twopoppy/distribution_reconstruction.py:213: RuntimeWarning: invalid value encountered in sqrt\n",
      "  a_fr = sig_g / (pi * rho_s) * (b - np.sqrt(b**2 - 4.))\n",
      "/home/apo/anaconda3/lib/python3.6/site-packages/twopoppy-0.0.0-py3.6.egg/twopoppy/distribution_reconstruction.py:30: RuntimeWarning: invalid value encountered in log10\n",
      "  return 10**(np.interp(np.log10(x_int), np.log10(x), np.log10(R)))\n",
      "/home/apo/anaconda3/lib/python3.6/site-packages/twopoppy-0.0.0-py3.6.egg/twopoppy/distribution_reconstruction.py:412: RuntimeWarning: overflow encountered in power\n",
      "  np.exp(A * ((r[mask] / ra)**p[mask] - 1.)))\n"
     ]
    },
    {
     "name": "stdout",
     "output_type": "stream",
     "text": [
      "toy model running ... Done!\n"
     ]
    },
    {
     "name": "stderr",
     "output_type": "stream",
     "text": [
      "/home/apo/anaconda3/lib/python3.6/site-packages/twopoppy-0.0.0-py3.6.egg/twopoppy/distribution_reconstruction.py:213: RuntimeWarning: invalid value encountered in sqrt\n",
      "  a_fr = sig_g / (pi * rho_s) * (b - np.sqrt(b**2 - 4.))\n",
      "/home/apo/anaconda3/lib/python3.6/site-packages/twopoppy-0.0.0-py3.6.egg/twopoppy/distribution_reconstruction.py:30: RuntimeWarning: invalid value encountered in log10\n",
      "  return 10**(np.interp(np.log10(x_int), np.log10(x), np.log10(R)))\n",
      "/home/apo/anaconda3/lib/python3.6/site-packages/twopoppy-0.0.0-py3.6.egg/twopoppy/distribution_reconstruction.py:412: RuntimeWarning: overflow encountered in power\n",
      "  np.exp(A * ((r[mask] / ra)**p[mask] - 1.)))\n"
     ]
    },
    {
     "name": "stdout",
     "output_type": "stream",
     "text": [
      "toy model running ... Done!\n"
     ]
    },
    {
     "name": "stderr",
     "output_type": "stream",
     "text": [
      "/home/apo/anaconda3/lib/python3.6/site-packages/twopoppy-0.0.0-py3.6.egg/twopoppy/distribution_reconstruction.py:30: RuntimeWarning: invalid value encountered in log10\n",
      "  return 10**(np.interp(np.log10(x_int), np.log10(x), np.log10(R)))\n",
      "/home/apo/anaconda3/lib/python3.6/site-packages/twopoppy-0.0.0-py3.6.egg/twopoppy/distribution_reconstruction.py:412: RuntimeWarning: overflow encountered in power\n",
      "  np.exp(A * ((r[mask] / ra)**p[mask] - 1.)))\n"
     ]
    },
    {
     "name": "stdout",
     "output_type": "stream",
     "text": [
      "toy model running ... Done!\n"
     ]
    },
    {
     "name": "stderr",
     "output_type": "stream",
     "text": [
      "/home/apo/anaconda3/lib/python3.6/site-packages/twopoppy-0.0.0-py3.6.egg/twopoppy/distribution_reconstruction.py:213: RuntimeWarning: invalid value encountered in sqrt\n",
      "  a_fr = sig_g / (pi * rho_s) * (b - np.sqrt(b**2 - 4.))\n",
      "/home/apo/anaconda3/lib/python3.6/site-packages/twopoppy-0.0.0-py3.6.egg/twopoppy/distribution_reconstruction.py:30: RuntimeWarning: invalid value encountered in log10\n",
      "  return 10**(np.interp(np.log10(x_int), np.log10(x), np.log10(R)))\n",
      "/home/apo/anaconda3/lib/python3.6/site-packages/twopoppy-0.0.0-py3.6.egg/twopoppy/distribution_reconstruction.py:412: RuntimeWarning: overflow encountered in power\n",
      "  np.exp(A * ((r[mask] / ra)**p[mask] - 1.)))\n"
     ]
    },
    {
     "name": "stdout",
     "output_type": "stream",
     "text": [
      "toy model running ... Done!\n"
     ]
    },
    {
     "name": "stderr",
     "output_type": "stream",
     "text": [
      "/home/apo/anaconda3/lib/python3.6/site-packages/twopoppy-0.0.0-py3.6.egg/twopoppy/distribution_reconstruction.py:213: RuntimeWarning: invalid value encountered in sqrt\n",
      "  a_fr = sig_g / (pi * rho_s) * (b - np.sqrt(b**2 - 4.))\n",
      "/home/apo/anaconda3/lib/python3.6/site-packages/twopoppy-0.0.0-py3.6.egg/twopoppy/distribution_reconstruction.py:30: RuntimeWarning: invalid value encountered in log10\n",
      "  return 10**(np.interp(np.log10(x_int), np.log10(x), np.log10(R)))\n",
      "/home/apo/anaconda3/lib/python3.6/site-packages/twopoppy-0.0.0-py3.6.egg/twopoppy/distribution_reconstruction.py:412: RuntimeWarning: overflow encountered in power\n",
      "  np.exp(A * ((r[mask] / ra)**p[mask] - 1.)))\n"
     ]
    },
    {
     "name": "stdout",
     "output_type": "stream",
     "text": [
      "toy model running ... Done!\n"
     ]
    },
    {
     "name": "stderr",
     "output_type": "stream",
     "text": [
      "/home/apo/anaconda3/lib/python3.6/site-packages/twopoppy-0.0.0-py3.6.egg/twopoppy/distribution_reconstruction.py:213: RuntimeWarning: invalid value encountered in sqrt\n",
      "  a_fr = sig_g / (pi * rho_s) * (b - np.sqrt(b**2 - 4.))\n",
      "/home/apo/anaconda3/lib/python3.6/site-packages/twopoppy-0.0.0-py3.6.egg/twopoppy/distribution_reconstruction.py:30: RuntimeWarning: invalid value encountered in log10\n",
      "  return 10**(np.interp(np.log10(x_int), np.log10(x), np.log10(R)))\n",
      "/home/apo/anaconda3/lib/python3.6/site-packages/twopoppy-0.0.0-py3.6.egg/twopoppy/distribution_reconstruction.py:412: RuntimeWarning: overflow encountered in power\n",
      "  np.exp(A * ((r[mask] / ra)**p[mask] - 1.)))\n"
     ]
    },
    {
     "name": "stdout",
     "output_type": "stream",
     "text": [
      "toy model running ... Done!\n"
     ]
    },
    {
     "name": "stderr",
     "output_type": "stream",
     "text": [
      "/home/apo/anaconda3/lib/python3.6/site-packages/twopoppy-0.0.0-py3.6.egg/twopoppy/distribution_reconstruction.py:30: RuntimeWarning: invalid value encountered in log10\n",
      "  return 10**(np.interp(np.log10(x_int), np.log10(x), np.log10(R)))\n",
      "/home/apo/anaconda3/lib/python3.6/site-packages/twopoppy-0.0.0-py3.6.egg/twopoppy/distribution_reconstruction.py:412: RuntimeWarning: overflow encountered in power\n",
      "  np.exp(A * ((r[mask] / ra)**p[mask] - 1.)))\n"
     ]
    },
    {
     "name": "stdout",
     "output_type": "stream",
     "text": [
      "toy model running ... Done!\n"
     ]
    },
    {
     "name": "stderr",
     "output_type": "stream",
     "text": [
      "/home/apo/anaconda3/lib/python3.6/site-packages/twopoppy-0.0.0-py3.6.egg/twopoppy/distribution_reconstruction.py:213: RuntimeWarning: invalid value encountered in sqrt\n",
      "  a_fr = sig_g / (pi * rho_s) * (b - np.sqrt(b**2 - 4.))\n",
      "/home/apo/anaconda3/lib/python3.6/site-packages/twopoppy-0.0.0-py3.6.egg/twopoppy/distribution_reconstruction.py:30: RuntimeWarning: invalid value encountered in log10\n",
      "  return 10**(np.interp(np.log10(x_int), np.log10(x), np.log10(R)))\n",
      "/home/apo/anaconda3/lib/python3.6/site-packages/twopoppy-0.0.0-py3.6.egg/twopoppy/distribution_reconstruction.py:412: RuntimeWarning: overflow encountered in power\n",
      "  np.exp(A * ((r[mask] / ra)**p[mask] - 1.)))\n"
     ]
    },
    {
     "name": "stdout",
     "output_type": "stream",
     "text": [
      "toy model running ... Done!\n"
     ]
    },
    {
     "name": "stderr",
     "output_type": "stream",
     "text": [
      "/home/apo/anaconda3/lib/python3.6/site-packages/twopoppy-0.0.0-py3.6.egg/twopoppy/distribution_reconstruction.py:213: RuntimeWarning: invalid value encountered in sqrt\n",
      "  a_fr = sig_g / (pi * rho_s) * (b - np.sqrt(b**2 - 4.))\n",
      "/home/apo/anaconda3/lib/python3.6/site-packages/twopoppy-0.0.0-py3.6.egg/twopoppy/distribution_reconstruction.py:30: RuntimeWarning: invalid value encountered in log10\n",
      "  return 10**(np.interp(np.log10(x_int), np.log10(x), np.log10(R)))\n",
      "/home/apo/anaconda3/lib/python3.6/site-packages/twopoppy-0.0.0-py3.6.egg/twopoppy/distribution_reconstruction.py:412: RuntimeWarning: overflow encountered in power\n",
      "  np.exp(A * ((r[mask] / ra)**p[mask] - 1.)))\n"
     ]
    },
    {
     "name": "stdout",
     "output_type": "stream",
     "text": [
      "toy model running ... Done!\n"
     ]
    },
    {
     "name": "stderr",
     "output_type": "stream",
     "text": [
      "/home/apo/anaconda3/lib/python3.6/site-packages/twopoppy-0.0.0-py3.6.egg/twopoppy/distribution_reconstruction.py:213: RuntimeWarning: invalid value encountered in sqrt\n",
      "  a_fr = sig_g / (pi * rho_s) * (b - np.sqrt(b**2 - 4.))\n",
      "/home/apo/anaconda3/lib/python3.6/site-packages/twopoppy-0.0.0-py3.6.egg/twopoppy/distribution_reconstruction.py:30: RuntimeWarning: invalid value encountered in log10\n",
      "  return 10**(np.interp(np.log10(x_int), np.log10(x), np.log10(R)))\n",
      "/home/apo/anaconda3/lib/python3.6/site-packages/twopoppy-0.0.0-py3.6.egg/twopoppy/distribution_reconstruction.py:412: RuntimeWarning: overflow encountered in power\n",
      "  np.exp(A * ((r[mask] / ra)**p[mask] - 1.)))\n"
     ]
    },
    {
     "name": "stdout",
     "output_type": "stream",
     "text": [
      "toy model running ... Done!\n"
     ]
    },
    {
     "name": "stderr",
     "output_type": "stream",
     "text": [
      "/home/apo/anaconda3/lib/python3.6/site-packages/twopoppy-0.0.0-py3.6.egg/twopoppy/distribution_reconstruction.py:30: RuntimeWarning: invalid value encountered in log10\n",
      "  return 10**(np.interp(np.log10(x_int), np.log10(x), np.log10(R)))\n",
      "/home/apo/anaconda3/lib/python3.6/site-packages/twopoppy-0.0.0-py3.6.egg/twopoppy/distribution_reconstruction.py:412: RuntimeWarning: overflow encountered in power\n",
      "  np.exp(A * ((r[mask] / ra)**p[mask] - 1.)))\n"
     ]
    },
    {
     "name": "stdout",
     "output_type": "stream",
     "text": [
      "toy model running ... Done!\n"
     ]
    },
    {
     "name": "stderr",
     "output_type": "stream",
     "text": [
      "/home/apo/anaconda3/lib/python3.6/site-packages/twopoppy-0.0.0-py3.6.egg/twopoppy/distribution_reconstruction.py:213: RuntimeWarning: invalid value encountered in sqrt\n",
      "  a_fr = sig_g / (pi * rho_s) * (b - np.sqrt(b**2 - 4.))\n",
      "/home/apo/anaconda3/lib/python3.6/site-packages/twopoppy-0.0.0-py3.6.egg/twopoppy/distribution_reconstruction.py:30: RuntimeWarning: invalid value encountered in log10\n",
      "  return 10**(np.interp(np.log10(x_int), np.log10(x), np.log10(R)))\n",
      "/home/apo/anaconda3/lib/python3.6/site-packages/twopoppy-0.0.0-py3.6.egg/twopoppy/distribution_reconstruction.py:412: RuntimeWarning: overflow encountered in power\n",
      "  np.exp(A * ((r[mask] / ra)**p[mask] - 1.)))\n"
     ]
    },
    {
     "name": "stdout",
     "output_type": "stream",
     "text": [
      "toy model running ... Done!\n"
     ]
    },
    {
     "name": "stderr",
     "output_type": "stream",
     "text": [
      "/home/apo/anaconda3/lib/python3.6/site-packages/twopoppy-0.0.0-py3.6.egg/twopoppy/distribution_reconstruction.py:213: RuntimeWarning: invalid value encountered in sqrt\n",
      "  a_fr = sig_g / (pi * rho_s) * (b - np.sqrt(b**2 - 4.))\n",
      "/home/apo/anaconda3/lib/python3.6/site-packages/twopoppy-0.0.0-py3.6.egg/twopoppy/distribution_reconstruction.py:30: RuntimeWarning: invalid value encountered in log10\n",
      "  return 10**(np.interp(np.log10(x_int), np.log10(x), np.log10(R)))\n",
      "/home/apo/anaconda3/lib/python3.6/site-packages/twopoppy-0.0.0-py3.6.egg/twopoppy/distribution_reconstruction.py:412: RuntimeWarning: overflow encountered in power\n",
      "  np.exp(A * ((r[mask] / ra)**p[mask] - 1.)))\n"
     ]
    },
    {
     "name": "stdout",
     "output_type": "stream",
     "text": [
      "toy model running ... Done!\n"
     ]
    },
    {
     "name": "stderr",
     "output_type": "stream",
     "text": [
      "/home/apo/anaconda3/lib/python3.6/site-packages/twopoppy-0.0.0-py3.6.egg/twopoppy/distribution_reconstruction.py:213: RuntimeWarning: invalid value encountered in sqrt\n",
      "  a_fr = sig_g / (pi * rho_s) * (b - np.sqrt(b**2 - 4.))\n",
      "/home/apo/anaconda3/lib/python3.6/site-packages/twopoppy-0.0.0-py3.6.egg/twopoppy/distribution_reconstruction.py:30: RuntimeWarning: invalid value encountered in log10\n",
      "  return 10**(np.interp(np.log10(x_int), np.log10(x), np.log10(R)))\n",
      "/home/apo/anaconda3/lib/python3.6/site-packages/twopoppy-0.0.0-py3.6.egg/twopoppy/distribution_reconstruction.py:412: RuntimeWarning: overflow encountered in power\n",
      "  np.exp(A * ((r[mask] / ra)**p[mask] - 1.)))\n"
     ]
    },
    {
     "name": "stdout",
     "output_type": "stream",
     "text": [
      "toy model running ... Done!\n"
     ]
    },
    {
     "name": "stderr",
     "output_type": "stream",
     "text": [
      "/home/apo/anaconda3/lib/python3.6/site-packages/twopoppy-0.0.0-py3.6.egg/twopoppy/distribution_reconstruction.py:30: RuntimeWarning: invalid value encountered in log10\n",
      "  return 10**(np.interp(np.log10(x_int), np.log10(x), np.log10(R)))\n",
      "/home/apo/anaconda3/lib/python3.6/site-packages/twopoppy-0.0.0-py3.6.egg/twopoppy/distribution_reconstruction.py:412: RuntimeWarning: overflow encountered in power\n",
      "  np.exp(A * ((r[mask] / ra)**p[mask] - 1.)))\n"
     ]
    },
    {
     "name": "stdout",
     "output_type": "stream",
     "text": [
      "toy model running ... Done!\n"
     ]
    },
    {
     "name": "stderr",
     "output_type": "stream",
     "text": [
      "/home/apo/anaconda3/lib/python3.6/site-packages/twopoppy-0.0.0-py3.6.egg/twopoppy/distribution_reconstruction.py:213: RuntimeWarning: invalid value encountered in sqrt\n",
      "  a_fr = sig_g / (pi * rho_s) * (b - np.sqrt(b**2 - 4.))\n",
      "/home/apo/anaconda3/lib/python3.6/site-packages/twopoppy-0.0.0-py3.6.egg/twopoppy/distribution_reconstruction.py:30: RuntimeWarning: invalid value encountered in log10\n",
      "  return 10**(np.interp(np.log10(x_int), np.log10(x), np.log10(R)))\n",
      "/home/apo/anaconda3/lib/python3.6/site-packages/twopoppy-0.0.0-py3.6.egg/twopoppy/distribution_reconstruction.py:412: RuntimeWarning: overflow encountered in power\n",
      "  np.exp(A * ((r[mask] / ra)**p[mask] - 1.)))\n"
     ]
    },
    {
     "name": "stdout",
     "output_type": "stream",
     "text": [
      "toy model running ... Done!\n"
     ]
    },
    {
     "name": "stderr",
     "output_type": "stream",
     "text": [
      "/home/apo/anaconda3/lib/python3.6/site-packages/twopoppy-0.0.0-py3.6.egg/twopoppy/distribution_reconstruction.py:213: RuntimeWarning: invalid value encountered in sqrt\n",
      "  a_fr = sig_g / (pi * rho_s) * (b - np.sqrt(b**2 - 4.))\n",
      "/home/apo/anaconda3/lib/python3.6/site-packages/twopoppy-0.0.0-py3.6.egg/twopoppy/distribution_reconstruction.py:30: RuntimeWarning: invalid value encountered in log10\n",
      "  return 10**(np.interp(np.log10(x_int), np.log10(x), np.log10(R)))\n",
      "/home/apo/anaconda3/lib/python3.6/site-packages/twopoppy-0.0.0-py3.6.egg/twopoppy/distribution_reconstruction.py:412: RuntimeWarning: overflow encountered in power\n",
      "  np.exp(A * ((r[mask] / ra)**p[mask] - 1.)))\n"
     ]
    },
    {
     "name": "stdout",
     "output_type": "stream",
     "text": [
      "toy model running ... Done!\n"
     ]
    },
    {
     "name": "stderr",
     "output_type": "stream",
     "text": [
      "/home/apo/anaconda3/lib/python3.6/site-packages/twopoppy-0.0.0-py3.6.egg/twopoppy/distribution_reconstruction.py:213: RuntimeWarning: invalid value encountered in sqrt\n",
      "  a_fr = sig_g / (pi * rho_s) * (b - np.sqrt(b**2 - 4.))\n",
      "/home/apo/anaconda3/lib/python3.6/site-packages/twopoppy-0.0.0-py3.6.egg/twopoppy/distribution_reconstruction.py:30: RuntimeWarning: invalid value encountered in log10\n",
      "  return 10**(np.interp(np.log10(x_int), np.log10(x), np.log10(R)))\n",
      "/home/apo/anaconda3/lib/python3.6/site-packages/twopoppy-0.0.0-py3.6.egg/twopoppy/distribution_reconstruction.py:412: RuntimeWarning: overflow encountered in power\n",
      "  np.exp(A * ((r[mask] / ra)**p[mask] - 1.)))\n"
     ]
    },
    {
     "name": "stdout",
     "output_type": "stream",
     "text": [
      "toy model running ... Done!\n"
     ]
    },
    {
     "name": "stderr",
     "output_type": "stream",
     "text": [
      "/home/apo/anaconda3/lib/python3.6/site-packages/twopoppy-0.0.0-py3.6.egg/twopoppy/distribution_reconstruction.py:30: RuntimeWarning: invalid value encountered in log10\n",
      "  return 10**(np.interp(np.log10(x_int), np.log10(x), np.log10(R)))\n",
      "/home/apo/anaconda3/lib/python3.6/site-packages/twopoppy-0.0.0-py3.6.egg/twopoppy/distribution_reconstruction.py:412: RuntimeWarning: overflow encountered in power\n",
      "  np.exp(A * ((r[mask] / ra)**p[mask] - 1.)))\n"
     ]
    },
    {
     "name": "stdout",
     "output_type": "stream",
     "text": [
      "toy model running ... Done!\n"
     ]
    },
    {
     "name": "stderr",
     "output_type": "stream",
     "text": [
      "/home/apo/anaconda3/lib/python3.6/site-packages/twopoppy-0.0.0-py3.6.egg/twopoppy/distribution_reconstruction.py:213: RuntimeWarning: invalid value encountered in sqrt\n",
      "  a_fr = sig_g / (pi * rho_s) * (b - np.sqrt(b**2 - 4.))\n",
      "/home/apo/anaconda3/lib/python3.6/site-packages/twopoppy-0.0.0-py3.6.egg/twopoppy/distribution_reconstruction.py:30: RuntimeWarning: invalid value encountered in log10\n",
      "  return 10**(np.interp(np.log10(x_int), np.log10(x), np.log10(R)))\n",
      "/home/apo/anaconda3/lib/python3.6/site-packages/twopoppy-0.0.0-py3.6.egg/twopoppy/distribution_reconstruction.py:412: RuntimeWarning: overflow encountered in power\n",
      "  np.exp(A * ((r[mask] / ra)**p[mask] - 1.)))\n"
     ]
    },
    {
     "name": "stdout",
     "output_type": "stream",
     "text": [
      "toy model running ... Done!\n"
     ]
    },
    {
     "name": "stderr",
     "output_type": "stream",
     "text": [
      "/home/apo/anaconda3/lib/python3.6/site-packages/twopoppy-0.0.0-py3.6.egg/twopoppy/distribution_reconstruction.py:213: RuntimeWarning: invalid value encountered in sqrt\n",
      "  a_fr = sig_g / (pi * rho_s) * (b - np.sqrt(b**2 - 4.))\n",
      "/home/apo/anaconda3/lib/python3.6/site-packages/twopoppy-0.0.0-py3.6.egg/twopoppy/distribution_reconstruction.py:30: RuntimeWarning: invalid value encountered in log10\n",
      "  return 10**(np.interp(np.log10(x_int), np.log10(x), np.log10(R)))\n",
      "/home/apo/anaconda3/lib/python3.6/site-packages/twopoppy-0.0.0-py3.6.egg/twopoppy/distribution_reconstruction.py:412: RuntimeWarning: overflow encountered in power\n",
      "  np.exp(A * ((r[mask] / ra)**p[mask] - 1.)))\n"
     ]
    },
    {
     "name": "stdout",
     "output_type": "stream",
     "text": [
      "toy model running ... Done!\n"
     ]
    },
    {
     "name": "stderr",
     "output_type": "stream",
     "text": [
      "/home/apo/anaconda3/lib/python3.6/site-packages/twopoppy-0.0.0-py3.6.egg/twopoppy/distribution_reconstruction.py:213: RuntimeWarning: invalid value encountered in sqrt\n",
      "  a_fr = sig_g / (pi * rho_s) * (b - np.sqrt(b**2 - 4.))\n",
      "/home/apo/anaconda3/lib/python3.6/site-packages/twopoppy-0.0.0-py3.6.egg/twopoppy/distribution_reconstruction.py:30: RuntimeWarning: invalid value encountered in log10\n",
      "  return 10**(np.interp(np.log10(x_int), np.log10(x), np.log10(R)))\n",
      "/home/apo/anaconda3/lib/python3.6/site-packages/twopoppy-0.0.0-py3.6.egg/twopoppy/distribution_reconstruction.py:412: RuntimeWarning: overflow encountered in power\n",
      "  np.exp(A * ((r[mask] / ra)**p[mask] - 1.)))\n"
     ]
    },
    {
     "name": "stdout",
     "output_type": "stream",
     "text": [
      "toy model running ... Done!\n"
     ]
    },
    {
     "name": "stderr",
     "output_type": "stream",
     "text": [
      "/home/apo/anaconda3/lib/python3.6/site-packages/twopoppy-0.0.0-py3.6.egg/twopoppy/distribution_reconstruction.py:30: RuntimeWarning: invalid value encountered in log10\n",
      "  return 10**(np.interp(np.log10(x_int), np.log10(x), np.log10(R)))\n",
      "/home/apo/anaconda3/lib/python3.6/site-packages/twopoppy-0.0.0-py3.6.egg/twopoppy/distribution_reconstruction.py:412: RuntimeWarning: overflow encountered in power\n",
      "  np.exp(A * ((r[mask] / ra)**p[mask] - 1.)))\n"
     ]
    },
    {
     "name": "stdout",
     "output_type": "stream",
     "text": [
      "toy model running ... Done!\n"
     ]
    },
    {
     "name": "stderr",
     "output_type": "stream",
     "text": [
      "/home/apo/anaconda3/lib/python3.6/site-packages/twopoppy-0.0.0-py3.6.egg/twopoppy/distribution_reconstruction.py:213: RuntimeWarning: invalid value encountered in sqrt\n",
      "  a_fr = sig_g / (pi * rho_s) * (b - np.sqrt(b**2 - 4.))\n",
      "/home/apo/anaconda3/lib/python3.6/site-packages/twopoppy-0.0.0-py3.6.egg/twopoppy/distribution_reconstruction.py:30: RuntimeWarning: invalid value encountered in log10\n",
      "  return 10**(np.interp(np.log10(x_int), np.log10(x), np.log10(R)))\n",
      "/home/apo/anaconda3/lib/python3.6/site-packages/twopoppy-0.0.0-py3.6.egg/twopoppy/distribution_reconstruction.py:412: RuntimeWarning: overflow encountered in power\n",
      "  np.exp(A * ((r[mask] / ra)**p[mask] - 1.)))\n"
     ]
    },
    {
     "name": "stdout",
     "output_type": "stream",
     "text": [
      "toy model running ... Done!\n"
     ]
    },
    {
     "name": "stderr",
     "output_type": "stream",
     "text": [
      "/home/apo/anaconda3/lib/python3.6/site-packages/twopoppy-0.0.0-py3.6.egg/twopoppy/distribution_reconstruction.py:213: RuntimeWarning: invalid value encountered in sqrt\n",
      "  a_fr = sig_g / (pi * rho_s) * (b - np.sqrt(b**2 - 4.))\n",
      "/home/apo/anaconda3/lib/python3.6/site-packages/twopoppy-0.0.0-py3.6.egg/twopoppy/distribution_reconstruction.py:30: RuntimeWarning: invalid value encountered in log10\n",
      "  return 10**(np.interp(np.log10(x_int), np.log10(x), np.log10(R)))\n",
      "/home/apo/anaconda3/lib/python3.6/site-packages/twopoppy-0.0.0-py3.6.egg/twopoppy/distribution_reconstruction.py:412: RuntimeWarning: overflow encountered in power\n",
      "  np.exp(A * ((r[mask] / ra)**p[mask] - 1.)))\n"
     ]
    },
    {
     "name": "stdout",
     "output_type": "stream",
     "text": [
      "toy model running ... Done!\n"
     ]
    },
    {
     "name": "stderr",
     "output_type": "stream",
     "text": [
      "/home/apo/anaconda3/lib/python3.6/site-packages/twopoppy-0.0.0-py3.6.egg/twopoppy/distribution_reconstruction.py:213: RuntimeWarning: invalid value encountered in sqrt\n",
      "  a_fr = sig_g / (pi * rho_s) * (b - np.sqrt(b**2 - 4.))\n",
      "/home/apo/anaconda3/lib/python3.6/site-packages/twopoppy-0.0.0-py3.6.egg/twopoppy/distribution_reconstruction.py:30: RuntimeWarning: invalid value encountered in log10\n",
      "  return 10**(np.interp(np.log10(x_int), np.log10(x), np.log10(R)))\n",
      "/home/apo/anaconda3/lib/python3.6/site-packages/twopoppy-0.0.0-py3.6.egg/twopoppy/distribution_reconstruction.py:412: RuntimeWarning: overflow encountered in power\n",
      "  np.exp(A * ((r[mask] / ra)**p[mask] - 1.)))\n"
     ]
    },
    {
     "name": "stdout",
     "output_type": "stream",
     "text": [
      "toy model running ... Done!\n"
     ]
    },
    {
     "name": "stderr",
     "output_type": "stream",
     "text": [
      "/home/apo/anaconda3/lib/python3.6/site-packages/twopoppy-0.0.0-py3.6.egg/twopoppy/distribution_reconstruction.py:30: RuntimeWarning: invalid value encountered in log10\n",
      "  return 10**(np.interp(np.log10(x_int), np.log10(x), np.log10(R)))\n",
      "/home/apo/anaconda3/lib/python3.6/site-packages/twopoppy-0.0.0-py3.6.egg/twopoppy/distribution_reconstruction.py:412: RuntimeWarning: overflow encountered in power\n",
      "  np.exp(A * ((r[mask] / ra)**p[mask] - 1.)))\n"
     ]
    },
    {
     "name": "stdout",
     "output_type": "stream",
     "text": [
      "toy model running ... Done!\n"
     ]
    },
    {
     "name": "stderr",
     "output_type": "stream",
     "text": [
      "/home/apo/anaconda3/lib/python3.6/site-packages/twopoppy-0.0.0-py3.6.egg/twopoppy/distribution_reconstruction.py:213: RuntimeWarning: invalid value encountered in sqrt\n",
      "  a_fr = sig_g / (pi * rho_s) * (b - np.sqrt(b**2 - 4.))\n",
      "/home/apo/anaconda3/lib/python3.6/site-packages/twopoppy-0.0.0-py3.6.egg/twopoppy/distribution_reconstruction.py:30: RuntimeWarning: invalid value encountered in log10\n",
      "  return 10**(np.interp(np.log10(x_int), np.log10(x), np.log10(R)))\n",
      "/home/apo/anaconda3/lib/python3.6/site-packages/twopoppy-0.0.0-py3.6.egg/twopoppy/distribution_reconstruction.py:412: RuntimeWarning: overflow encountered in power\n",
      "  np.exp(A * ((r[mask] / ra)**p[mask] - 1.)))\n"
     ]
    },
    {
     "name": "stdout",
     "output_type": "stream",
     "text": [
      "toy model running ... Done!\n"
     ]
    },
    {
     "name": "stderr",
     "output_type": "stream",
     "text": [
      "/home/apo/anaconda3/lib/python3.6/site-packages/twopoppy-0.0.0-py3.6.egg/twopoppy/distribution_reconstruction.py:213: RuntimeWarning: invalid value encountered in sqrt\n",
      "  a_fr = sig_g / (pi * rho_s) * (b - np.sqrt(b**2 - 4.))\n",
      "/home/apo/anaconda3/lib/python3.6/site-packages/twopoppy-0.0.0-py3.6.egg/twopoppy/distribution_reconstruction.py:30: RuntimeWarning: invalid value encountered in log10\n",
      "  return 10**(np.interp(np.log10(x_int), np.log10(x), np.log10(R)))\n",
      "/home/apo/anaconda3/lib/python3.6/site-packages/twopoppy-0.0.0-py3.6.egg/twopoppy/distribution_reconstruction.py:412: RuntimeWarning: overflow encountered in power\n",
      "  np.exp(A * ((r[mask] / ra)**p[mask] - 1.)))\n"
     ]
    },
    {
     "name": "stdout",
     "output_type": "stream",
     "text": [
      "toy model running ... Done!\n"
     ]
    },
    {
     "name": "stderr",
     "output_type": "stream",
     "text": [
      "/home/apo/anaconda3/lib/python3.6/site-packages/twopoppy-0.0.0-py3.6.egg/twopoppy/distribution_reconstruction.py:213: RuntimeWarning: invalid value encountered in sqrt\n",
      "  a_fr = sig_g / (pi * rho_s) * (b - np.sqrt(b**2 - 4.))\n",
      "/home/apo/anaconda3/lib/python3.6/site-packages/twopoppy-0.0.0-py3.6.egg/twopoppy/distribution_reconstruction.py:30: RuntimeWarning: invalid value encountered in log10\n",
      "  return 10**(np.interp(np.log10(x_int), np.log10(x), np.log10(R)))\n",
      "/home/apo/anaconda3/lib/python3.6/site-packages/twopoppy-0.0.0-py3.6.egg/twopoppy/distribution_reconstruction.py:412: RuntimeWarning: overflow encountered in power\n",
      "  np.exp(A * ((r[mask] / ra)**p[mask] - 1.)))\n"
     ]
    },
    {
     "name": "stdout",
     "output_type": "stream",
     "text": [
      "toy model running ... Done!\n"
     ]
    },
    {
     "name": "stderr",
     "output_type": "stream",
     "text": [
      "/home/apo/anaconda3/lib/python3.6/site-packages/twopoppy-0.0.0-py3.6.egg/twopoppy/distribution_reconstruction.py:30: RuntimeWarning: invalid value encountered in log10\n",
      "  return 10**(np.interp(np.log10(x_int), np.log10(x), np.log10(R)))\n",
      "/home/apo/anaconda3/lib/python3.6/site-packages/twopoppy-0.0.0-py3.6.egg/twopoppy/distribution_reconstruction.py:412: RuntimeWarning: overflow encountered in power\n",
      "  np.exp(A * ((r[mask] / ra)**p[mask] - 1.)))\n"
     ]
    },
    {
     "name": "stdout",
     "output_type": "stream",
     "text": [
      "toy model running ... Done!\n"
     ]
    },
    {
     "name": "stderr",
     "output_type": "stream",
     "text": [
      "/home/apo/anaconda3/lib/python3.6/site-packages/twopoppy-0.0.0-py3.6.egg/twopoppy/distribution_reconstruction.py:213: RuntimeWarning: invalid value encountered in sqrt\n",
      "  a_fr = sig_g / (pi * rho_s) * (b - np.sqrt(b**2 - 4.))\n",
      "/home/apo/anaconda3/lib/python3.6/site-packages/twopoppy-0.0.0-py3.6.egg/twopoppy/distribution_reconstruction.py:30: RuntimeWarning: invalid value encountered in log10\n",
      "  return 10**(np.interp(np.log10(x_int), np.log10(x), np.log10(R)))\n",
      "/home/apo/anaconda3/lib/python3.6/site-packages/twopoppy-0.0.0-py3.6.egg/twopoppy/distribution_reconstruction.py:412: RuntimeWarning: overflow encountered in power\n",
      "  np.exp(A * ((r[mask] / ra)**p[mask] - 1.)))\n"
     ]
    },
    {
     "name": "stdout",
     "output_type": "stream",
     "text": [
      "toy model running ... Done!\n"
     ]
    },
    {
     "name": "stderr",
     "output_type": "stream",
     "text": [
      "/home/apo/anaconda3/lib/python3.6/site-packages/twopoppy-0.0.0-py3.6.egg/twopoppy/distribution_reconstruction.py:213: RuntimeWarning: invalid value encountered in sqrt\n",
      "  a_fr = sig_g / (pi * rho_s) * (b - np.sqrt(b**2 - 4.))\n",
      "/home/apo/anaconda3/lib/python3.6/site-packages/twopoppy-0.0.0-py3.6.egg/twopoppy/distribution_reconstruction.py:30: RuntimeWarning: invalid value encountered in log10\n",
      "  return 10**(np.interp(np.log10(x_int), np.log10(x), np.log10(R)))\n",
      "/home/apo/anaconda3/lib/python3.6/site-packages/twopoppy-0.0.0-py3.6.egg/twopoppy/distribution_reconstruction.py:412: RuntimeWarning: overflow encountered in power\n",
      "  np.exp(A * ((r[mask] / ra)**p[mask] - 1.)))\n"
     ]
    },
    {
     "name": "stdout",
     "output_type": "stream",
     "text": [
      "toy model running ... Done!\n"
     ]
    },
    {
     "name": "stderr",
     "output_type": "stream",
     "text": [
      "/home/apo/anaconda3/lib/python3.6/site-packages/twopoppy-0.0.0-py3.6.egg/twopoppy/distribution_reconstruction.py:213: RuntimeWarning: invalid value encountered in sqrt\n",
      "  a_fr = sig_g / (pi * rho_s) * (b - np.sqrt(b**2 - 4.))\n",
      "/home/apo/anaconda3/lib/python3.6/site-packages/twopoppy-0.0.0-py3.6.egg/twopoppy/distribution_reconstruction.py:30: RuntimeWarning: invalid value encountered in log10\n",
      "  return 10**(np.interp(np.log10(x_int), np.log10(x), np.log10(R)))\n",
      "/home/apo/anaconda3/lib/python3.6/site-packages/twopoppy-0.0.0-py3.6.egg/twopoppy/distribution_reconstruction.py:412: RuntimeWarning: overflow encountered in power\n",
      "  np.exp(A * ((r[mask] / ra)**p[mask] - 1.)))\n"
     ]
    },
    {
     "name": "stdout",
     "output_type": "stream",
     "text": [
      "toy model running ... Done!\n"
     ]
    },
    {
     "name": "stderr",
     "output_type": "stream",
     "text": [
      "/home/apo/anaconda3/lib/python3.6/site-packages/twopoppy-0.0.0-py3.6.egg/twopoppy/distribution_reconstruction.py:30: RuntimeWarning: invalid value encountered in log10\n",
      "  return 10**(np.interp(np.log10(x_int), np.log10(x), np.log10(R)))\n",
      "/home/apo/anaconda3/lib/python3.6/site-packages/twopoppy-0.0.0-py3.6.egg/twopoppy/distribution_reconstruction.py:412: RuntimeWarning: overflow encountered in power\n",
      "  np.exp(A * ((r[mask] / ra)**p[mask] - 1.)))\n"
     ]
    },
    {
     "name": "stdout",
     "output_type": "stream",
     "text": [
      "toy model running ... Done!\n"
     ]
    },
    {
     "name": "stderr",
     "output_type": "stream",
     "text": [
      "/home/apo/anaconda3/lib/python3.6/site-packages/twopoppy-0.0.0-py3.6.egg/twopoppy/distribution_reconstruction.py:213: RuntimeWarning: invalid value encountered in sqrt\n",
      "  a_fr = sig_g / (pi * rho_s) * (b - np.sqrt(b**2 - 4.))\n",
      "/home/apo/anaconda3/lib/python3.6/site-packages/twopoppy-0.0.0-py3.6.egg/twopoppy/distribution_reconstruction.py:30: RuntimeWarning: invalid value encountered in log10\n",
      "  return 10**(np.interp(np.log10(x_int), np.log10(x), np.log10(R)))\n",
      "/home/apo/anaconda3/lib/python3.6/site-packages/twopoppy-0.0.0-py3.6.egg/twopoppy/distribution_reconstruction.py:412: RuntimeWarning: overflow encountered in power\n",
      "  np.exp(A * ((r[mask] / ra)**p[mask] - 1.)))\n"
     ]
    },
    {
     "name": "stdout",
     "output_type": "stream",
     "text": [
      "toy model running ... Done!\n"
     ]
    },
    {
     "name": "stderr",
     "output_type": "stream",
     "text": [
      "/home/apo/anaconda3/lib/python3.6/site-packages/twopoppy-0.0.0-py3.6.egg/twopoppy/distribution_reconstruction.py:213: RuntimeWarning: invalid value encountered in sqrt\n",
      "  a_fr = sig_g / (pi * rho_s) * (b - np.sqrt(b**2 - 4.))\n",
      "/home/apo/anaconda3/lib/python3.6/site-packages/twopoppy-0.0.0-py3.6.egg/twopoppy/distribution_reconstruction.py:30: RuntimeWarning: invalid value encountered in log10\n",
      "  return 10**(np.interp(np.log10(x_int), np.log10(x), np.log10(R)))\n",
      "/home/apo/anaconda3/lib/python3.6/site-packages/twopoppy-0.0.0-py3.6.egg/twopoppy/distribution_reconstruction.py:412: RuntimeWarning: overflow encountered in power\n",
      "  np.exp(A * ((r[mask] / ra)**p[mask] - 1.)))\n"
     ]
    },
    {
     "name": "stdout",
     "output_type": "stream",
     "text": [
      "toy model running ... Done!\n"
     ]
    },
    {
     "name": "stderr",
     "output_type": "stream",
     "text": [
      "/home/apo/anaconda3/lib/python3.6/site-packages/twopoppy-0.0.0-py3.6.egg/twopoppy/distribution_reconstruction.py:213: RuntimeWarning: invalid value encountered in sqrt\n",
      "  a_fr = sig_g / (pi * rho_s) * (b - np.sqrt(b**2 - 4.))\n",
      "/home/apo/anaconda3/lib/python3.6/site-packages/twopoppy-0.0.0-py3.6.egg/twopoppy/distribution_reconstruction.py:30: RuntimeWarning: invalid value encountered in log10\n",
      "  return 10**(np.interp(np.log10(x_int), np.log10(x), np.log10(R)))\n",
      "/home/apo/anaconda3/lib/python3.6/site-packages/twopoppy-0.0.0-py3.6.egg/twopoppy/distribution_reconstruction.py:412: RuntimeWarning: overflow encountered in power\n",
      "  np.exp(A * ((r[mask] / ra)**p[mask] - 1.)))\n"
     ]
    },
    {
     "name": "stdout",
     "output_type": "stream",
     "text": [
      "toy model running ... Done!\n"
     ]
    },
    {
     "name": "stderr",
     "output_type": "stream",
     "text": [
      "/home/apo/anaconda3/lib/python3.6/site-packages/twopoppy-0.0.0-py3.6.egg/twopoppy/distribution_reconstruction.py:30: RuntimeWarning: invalid value encountered in log10\n",
      "  return 10**(np.interp(np.log10(x_int), np.log10(x), np.log10(R)))\n",
      "/home/apo/anaconda3/lib/python3.6/site-packages/twopoppy-0.0.0-py3.6.egg/twopoppy/distribution_reconstruction.py:412: RuntimeWarning: overflow encountered in power\n",
      "  np.exp(A * ((r[mask] / ra)**p[mask] - 1.)))\n"
     ]
    },
    {
     "name": "stdout",
     "output_type": "stream",
     "text": [
      "toy model running ... Done!\n"
     ]
    },
    {
     "name": "stderr",
     "output_type": "stream",
     "text": [
      "/home/apo/anaconda3/lib/python3.6/site-packages/twopoppy-0.0.0-py3.6.egg/twopoppy/distribution_reconstruction.py:213: RuntimeWarning: invalid value encountered in sqrt\n",
      "  a_fr = sig_g / (pi * rho_s) * (b - np.sqrt(b**2 - 4.))\n",
      "/home/apo/anaconda3/lib/python3.6/site-packages/twopoppy-0.0.0-py3.6.egg/twopoppy/distribution_reconstruction.py:30: RuntimeWarning: invalid value encountered in log10\n",
      "  return 10**(np.interp(np.log10(x_int), np.log10(x), np.log10(R)))\n",
      "/home/apo/anaconda3/lib/python3.6/site-packages/twopoppy-0.0.0-py3.6.egg/twopoppy/distribution_reconstruction.py:412: RuntimeWarning: overflow encountered in power\n",
      "  np.exp(A * ((r[mask] / ra)**p[mask] - 1.)))\n"
     ]
    },
    {
     "name": "stdout",
     "output_type": "stream",
     "text": [
      "toy model running ... Done!\n"
     ]
    },
    {
     "name": "stderr",
     "output_type": "stream",
     "text": [
      "/home/apo/anaconda3/lib/python3.6/site-packages/twopoppy-0.0.0-py3.6.egg/twopoppy/distribution_reconstruction.py:213: RuntimeWarning: invalid value encountered in sqrt\n",
      "  a_fr = sig_g / (pi * rho_s) * (b - np.sqrt(b**2 - 4.))\n",
      "/home/apo/anaconda3/lib/python3.6/site-packages/twopoppy-0.0.0-py3.6.egg/twopoppy/distribution_reconstruction.py:30: RuntimeWarning: invalid value encountered in log10\n",
      "  return 10**(np.interp(np.log10(x_int), np.log10(x), np.log10(R)))\n",
      "/home/apo/anaconda3/lib/python3.6/site-packages/twopoppy-0.0.0-py3.6.egg/twopoppy/distribution_reconstruction.py:412: RuntimeWarning: overflow encountered in power\n",
      "  np.exp(A * ((r[mask] / ra)**p[mask] - 1.)))\n"
     ]
    },
    {
     "name": "stdout",
     "output_type": "stream",
     "text": [
      "toy model running ... Done!\n"
     ]
    },
    {
     "name": "stderr",
     "output_type": "stream",
     "text": [
      "/home/apo/anaconda3/lib/python3.6/site-packages/twopoppy-0.0.0-py3.6.egg/twopoppy/distribution_reconstruction.py:213: RuntimeWarning: invalid value encountered in sqrt\n",
      "  a_fr = sig_g / (pi * rho_s) * (b - np.sqrt(b**2 - 4.))\n",
      "/home/apo/anaconda3/lib/python3.6/site-packages/twopoppy-0.0.0-py3.6.egg/twopoppy/distribution_reconstruction.py:30: RuntimeWarning: invalid value encountered in log10\n",
      "  return 10**(np.interp(np.log10(x_int), np.log10(x), np.log10(R)))\n",
      "/home/apo/anaconda3/lib/python3.6/site-packages/twopoppy-0.0.0-py3.6.egg/twopoppy/distribution_reconstruction.py:412: RuntimeWarning: overflow encountered in power\n",
      "  np.exp(A * ((r[mask] / ra)**p[mask] - 1.)))\n"
     ]
    },
    {
     "name": "stdout",
     "output_type": "stream",
     "text": [
      "toy model running ... Done!\n"
     ]
    },
    {
     "name": "stderr",
     "output_type": "stream",
     "text": [
      "/home/apo/anaconda3/lib/python3.6/site-packages/twopoppy-0.0.0-py3.6.egg/twopoppy/distribution_reconstruction.py:30: RuntimeWarning: invalid value encountered in log10\n",
      "  return 10**(np.interp(np.log10(x_int), np.log10(x), np.log10(R)))\n",
      "/home/apo/anaconda3/lib/python3.6/site-packages/twopoppy-0.0.0-py3.6.egg/twopoppy/distribution_reconstruction.py:412: RuntimeWarning: overflow encountered in power\n",
      "  np.exp(A * ((r[mask] / ra)**p[mask] - 1.)))\n"
     ]
    },
    {
     "name": "stdout",
     "output_type": "stream",
     "text": [
      "toy model running ... Done!\n"
     ]
    },
    {
     "name": "stderr",
     "output_type": "stream",
     "text": [
      "/home/apo/anaconda3/lib/python3.6/site-packages/twopoppy-0.0.0-py3.6.egg/twopoppy/distribution_reconstruction.py:213: RuntimeWarning: invalid value encountered in sqrt\n",
      "  a_fr = sig_g / (pi * rho_s) * (b - np.sqrt(b**2 - 4.))\n",
      "/home/apo/anaconda3/lib/python3.6/site-packages/twopoppy-0.0.0-py3.6.egg/twopoppy/distribution_reconstruction.py:30: RuntimeWarning: invalid value encountered in log10\n",
      "  return 10**(np.interp(np.log10(x_int), np.log10(x), np.log10(R)))\n",
      "/home/apo/anaconda3/lib/python3.6/site-packages/twopoppy-0.0.0-py3.6.egg/twopoppy/distribution_reconstruction.py:412: RuntimeWarning: overflow encountered in power\n",
      "  np.exp(A * ((r[mask] / ra)**p[mask] - 1.)))\n"
     ]
    },
    {
     "name": "stdout",
     "output_type": "stream",
     "text": [
      "toy model running ... Done!\n"
     ]
    },
    {
     "name": "stderr",
     "output_type": "stream",
     "text": [
      "/home/apo/anaconda3/lib/python3.6/site-packages/twopoppy-0.0.0-py3.6.egg/twopoppy/distribution_reconstruction.py:213: RuntimeWarning: invalid value encountered in sqrt\n",
      "  a_fr = sig_g / (pi * rho_s) * (b - np.sqrt(b**2 - 4.))\n",
      "/home/apo/anaconda3/lib/python3.6/site-packages/twopoppy-0.0.0-py3.6.egg/twopoppy/distribution_reconstruction.py:30: RuntimeWarning: invalid value encountered in log10\n",
      "  return 10**(np.interp(np.log10(x_int), np.log10(x), np.log10(R)))\n",
      "/home/apo/anaconda3/lib/python3.6/site-packages/twopoppy-0.0.0-py3.6.egg/twopoppy/distribution_reconstruction.py:412: RuntimeWarning: overflow encountered in power\n",
      "  np.exp(A * ((r[mask] / ra)**p[mask] - 1.)))\n"
     ]
    },
    {
     "name": "stdout",
     "output_type": "stream",
     "text": [
      "toy model running ... Done!\n"
     ]
    },
    {
     "name": "stderr",
     "output_type": "stream",
     "text": [
      "/home/apo/anaconda3/lib/python3.6/site-packages/twopoppy-0.0.0-py3.6.egg/twopoppy/distribution_reconstruction.py:213: RuntimeWarning: invalid value encountered in sqrt\n",
      "  a_fr = sig_g / (pi * rho_s) * (b - np.sqrt(b**2 - 4.))\n",
      "/home/apo/anaconda3/lib/python3.6/site-packages/twopoppy-0.0.0-py3.6.egg/twopoppy/distribution_reconstruction.py:30: RuntimeWarning: invalid value encountered in log10\n",
      "  return 10**(np.interp(np.log10(x_int), np.log10(x), np.log10(R)))\n",
      "/home/apo/anaconda3/lib/python3.6/site-packages/twopoppy-0.0.0-py3.6.egg/twopoppy/distribution_reconstruction.py:412: RuntimeWarning: overflow encountered in power\n",
      "  np.exp(A * ((r[mask] / ra)**p[mask] - 1.)))\n"
     ]
    },
    {
     "name": "stdout",
     "output_type": "stream",
     "text": [
      "toy model running ... Done!\n"
     ]
    },
    {
     "name": "stderr",
     "output_type": "stream",
     "text": [
      "/home/apo/anaconda3/lib/python3.6/site-packages/twopoppy-0.0.0-py3.6.egg/twopoppy/distribution_reconstruction.py:30: RuntimeWarning: invalid value encountered in log10\n",
      "  return 10**(np.interp(np.log10(x_int), np.log10(x), np.log10(R)))\n",
      "/home/apo/anaconda3/lib/python3.6/site-packages/twopoppy-0.0.0-py3.6.egg/twopoppy/distribution_reconstruction.py:412: RuntimeWarning: overflow encountered in power\n",
      "  np.exp(A * ((r[mask] / ra)**p[mask] - 1.)))\n"
     ]
    },
    {
     "name": "stdout",
     "output_type": "stream",
     "text": [
      "toy model running ... Done!\n"
     ]
    },
    {
     "name": "stderr",
     "output_type": "stream",
     "text": [
      "/home/apo/anaconda3/lib/python3.6/site-packages/twopoppy-0.0.0-py3.6.egg/twopoppy/distribution_reconstruction.py:213: RuntimeWarning: invalid value encountered in sqrt\n",
      "  a_fr = sig_g / (pi * rho_s) * (b - np.sqrt(b**2 - 4.))\n",
      "/home/apo/anaconda3/lib/python3.6/site-packages/twopoppy-0.0.0-py3.6.egg/twopoppy/distribution_reconstruction.py:30: RuntimeWarning: invalid value encountered in log10\n",
      "  return 10**(np.interp(np.log10(x_int), np.log10(x), np.log10(R)))\n",
      "/home/apo/anaconda3/lib/python3.6/site-packages/twopoppy-0.0.0-py3.6.egg/twopoppy/distribution_reconstruction.py:412: RuntimeWarning: overflow encountered in power\n",
      "  np.exp(A * ((r[mask] / ra)**p[mask] - 1.)))\n"
     ]
    },
    {
     "name": "stdout",
     "output_type": "stream",
     "text": [
      "toy model running ... Done!\n"
     ]
    },
    {
     "name": "stderr",
     "output_type": "stream",
     "text": [
      "/home/apo/anaconda3/lib/python3.6/site-packages/twopoppy-0.0.0-py3.6.egg/twopoppy/distribution_reconstruction.py:213: RuntimeWarning: invalid value encountered in sqrt\n",
      "  a_fr = sig_g / (pi * rho_s) * (b - np.sqrt(b**2 - 4.))\n",
      "/home/apo/anaconda3/lib/python3.6/site-packages/twopoppy-0.0.0-py3.6.egg/twopoppy/distribution_reconstruction.py:30: RuntimeWarning: invalid value encountered in log10\n",
      "  return 10**(np.interp(np.log10(x_int), np.log10(x), np.log10(R)))\n",
      "/home/apo/anaconda3/lib/python3.6/site-packages/twopoppy-0.0.0-py3.6.egg/twopoppy/distribution_reconstruction.py:412: RuntimeWarning: overflow encountered in power\n",
      "  np.exp(A * ((r[mask] / ra)**p[mask] - 1.)))\n"
     ]
    },
    {
     "name": "stdout",
     "output_type": "stream",
     "text": [
      "toy model running ... Done!\n"
     ]
    },
    {
     "name": "stderr",
     "output_type": "stream",
     "text": [
      "/home/apo/anaconda3/lib/python3.6/site-packages/twopoppy-0.0.0-py3.6.egg/twopoppy/distribution_reconstruction.py:213: RuntimeWarning: invalid value encountered in sqrt\n",
      "  a_fr = sig_g / (pi * rho_s) * (b - np.sqrt(b**2 - 4.))\n",
      "/home/apo/anaconda3/lib/python3.6/site-packages/twopoppy-0.0.0-py3.6.egg/twopoppy/distribution_reconstruction.py:30: RuntimeWarning: invalid value encountered in log10\n",
      "  return 10**(np.interp(np.log10(x_int), np.log10(x), np.log10(R)))\n",
      "/home/apo/anaconda3/lib/python3.6/site-packages/twopoppy-0.0.0-py3.6.egg/twopoppy/distribution_reconstruction.py:412: RuntimeWarning: overflow encountered in power\n",
      "  np.exp(A * ((r[mask] / ra)**p[mask] - 1.)))\n"
     ]
    },
    {
     "name": "stdout",
     "output_type": "stream",
     "text": [
      "toy model running ... Done!\n"
     ]
    },
    {
     "name": "stderr",
     "output_type": "stream",
     "text": [
      "/home/apo/anaconda3/lib/python3.6/site-packages/twopoppy-0.0.0-py3.6.egg/twopoppy/distribution_reconstruction.py:30: RuntimeWarning: invalid value encountered in log10\n",
      "  return 10**(np.interp(np.log10(x_int), np.log10(x), np.log10(R)))\n",
      "/home/apo/anaconda3/lib/python3.6/site-packages/twopoppy-0.0.0-py3.6.egg/twopoppy/distribution_reconstruction.py:412: RuntimeWarning: overflow encountered in power\n",
      "  np.exp(A * ((r[mask] / ra)**p[mask] - 1.)))\n"
     ]
    },
    {
     "name": "stdout",
     "output_type": "stream",
     "text": [
      "toy model running ... Done!\n"
     ]
    },
    {
     "name": "stderr",
     "output_type": "stream",
     "text": [
      "/home/apo/anaconda3/lib/python3.6/site-packages/twopoppy-0.0.0-py3.6.egg/twopoppy/distribution_reconstruction.py:213: RuntimeWarning: invalid value encountered in sqrt\n",
      "  a_fr = sig_g / (pi * rho_s) * (b - np.sqrt(b**2 - 4.))\n",
      "/home/apo/anaconda3/lib/python3.6/site-packages/twopoppy-0.0.0-py3.6.egg/twopoppy/distribution_reconstruction.py:30: RuntimeWarning: invalid value encountered in log10\n",
      "  return 10**(np.interp(np.log10(x_int), np.log10(x), np.log10(R)))\n",
      "/home/apo/anaconda3/lib/python3.6/site-packages/twopoppy-0.0.0-py3.6.egg/twopoppy/distribution_reconstruction.py:412: RuntimeWarning: overflow encountered in power\n",
      "  np.exp(A * ((r[mask] / ra)**p[mask] - 1.)))\n"
     ]
    },
    {
     "name": "stdout",
     "output_type": "stream",
     "text": [
      "toy model running ... Done!\n"
     ]
    },
    {
     "name": "stderr",
     "output_type": "stream",
     "text": [
      "/home/apo/anaconda3/lib/python3.6/site-packages/twopoppy-0.0.0-py3.6.egg/twopoppy/distribution_reconstruction.py:213: RuntimeWarning: invalid value encountered in sqrt\n",
      "  a_fr = sig_g / (pi * rho_s) * (b - np.sqrt(b**2 - 4.))\n",
      "/home/apo/anaconda3/lib/python3.6/site-packages/twopoppy-0.0.0-py3.6.egg/twopoppy/distribution_reconstruction.py:30: RuntimeWarning: invalid value encountered in log10\n",
      "  return 10**(np.interp(np.log10(x_int), np.log10(x), np.log10(R)))\n",
      "/home/apo/anaconda3/lib/python3.6/site-packages/twopoppy-0.0.0-py3.6.egg/twopoppy/distribution_reconstruction.py:412: RuntimeWarning: overflow encountered in power\n",
      "  np.exp(A * ((r[mask] / ra)**p[mask] - 1.)))\n"
     ]
    },
    {
     "name": "stdout",
     "output_type": "stream",
     "text": [
      "toy model running ... Done!\n"
     ]
    },
    {
     "name": "stderr",
     "output_type": "stream",
     "text": [
      "/home/apo/anaconda3/lib/python3.6/site-packages/twopoppy-0.0.0-py3.6.egg/twopoppy/distribution_reconstruction.py:213: RuntimeWarning: invalid value encountered in sqrt\n",
      "  a_fr = sig_g / (pi * rho_s) * (b - np.sqrt(b**2 - 4.))\n",
      "/home/apo/anaconda3/lib/python3.6/site-packages/twopoppy-0.0.0-py3.6.egg/twopoppy/distribution_reconstruction.py:30: RuntimeWarning: invalid value encountered in log10\n",
      "  return 10**(np.interp(np.log10(x_int), np.log10(x), np.log10(R)))\n",
      "/home/apo/anaconda3/lib/python3.6/site-packages/twopoppy-0.0.0-py3.6.egg/twopoppy/distribution_reconstruction.py:412: RuntimeWarning: overflow encountered in power\n",
      "  np.exp(A * ((r[mask] / ra)**p[mask] - 1.)))\n"
     ]
    },
    {
     "name": "stdout",
     "output_type": "stream",
     "text": [
      "toy model running ... Done!\n"
     ]
    },
    {
     "name": "stderr",
     "output_type": "stream",
     "text": [
      "/home/apo/anaconda3/lib/python3.6/site-packages/twopoppy-0.0.0-py3.6.egg/twopoppy/distribution_reconstruction.py:30: RuntimeWarning: invalid value encountered in log10\n",
      "  return 10**(np.interp(np.log10(x_int), np.log10(x), np.log10(R)))\n",
      "/home/apo/anaconda3/lib/python3.6/site-packages/twopoppy-0.0.0-py3.6.egg/twopoppy/distribution_reconstruction.py:412: RuntimeWarning: overflow encountered in power\n",
      "  np.exp(A * ((r[mask] / ra)**p[mask] - 1.)))\n"
     ]
    },
    {
     "name": "stdout",
     "output_type": "stream",
     "text": [
      "toy model running ... Done!\n"
     ]
    },
    {
     "name": "stderr",
     "output_type": "stream",
     "text": [
      "/home/apo/anaconda3/lib/python3.6/site-packages/twopoppy-0.0.0-py3.6.egg/twopoppy/distribution_reconstruction.py:213: RuntimeWarning: invalid value encountered in sqrt\n",
      "  a_fr = sig_g / (pi * rho_s) * (b - np.sqrt(b**2 - 4.))\n",
      "/home/apo/anaconda3/lib/python3.6/site-packages/twopoppy-0.0.0-py3.6.egg/twopoppy/distribution_reconstruction.py:30: RuntimeWarning: invalid value encountered in log10\n",
      "  return 10**(np.interp(np.log10(x_int), np.log10(x), np.log10(R)))\n",
      "/home/apo/anaconda3/lib/python3.6/site-packages/twopoppy-0.0.0-py3.6.egg/twopoppy/distribution_reconstruction.py:412: RuntimeWarning: overflow encountered in power\n",
      "  np.exp(A * ((r[mask] / ra)**p[mask] - 1.)))\n"
     ]
    },
    {
     "name": "stdout",
     "output_type": "stream",
     "text": [
      "toy model running ... Done!\n"
     ]
    },
    {
     "name": "stderr",
     "output_type": "stream",
     "text": [
      "/home/apo/anaconda3/lib/python3.6/site-packages/twopoppy-0.0.0-py3.6.egg/twopoppy/distribution_reconstruction.py:213: RuntimeWarning: invalid value encountered in sqrt\n",
      "  a_fr = sig_g / (pi * rho_s) * (b - np.sqrt(b**2 - 4.))\n",
      "/home/apo/anaconda3/lib/python3.6/site-packages/twopoppy-0.0.0-py3.6.egg/twopoppy/distribution_reconstruction.py:30: RuntimeWarning: invalid value encountered in log10\n",
      "  return 10**(np.interp(np.log10(x_int), np.log10(x), np.log10(R)))\n",
      "/home/apo/anaconda3/lib/python3.6/site-packages/twopoppy-0.0.0-py3.6.egg/twopoppy/distribution_reconstruction.py:412: RuntimeWarning: overflow encountered in power\n",
      "  np.exp(A * ((r[mask] / ra)**p[mask] - 1.)))\n"
     ]
    },
    {
     "name": "stdout",
     "output_type": "stream",
     "text": [
      "toy model running ... Done!\n"
     ]
    },
    {
     "name": "stderr",
     "output_type": "stream",
     "text": [
      "/home/apo/anaconda3/lib/python3.6/site-packages/twopoppy-0.0.0-py3.6.egg/twopoppy/distribution_reconstruction.py:213: RuntimeWarning: invalid value encountered in sqrt\n",
      "  a_fr = sig_g / (pi * rho_s) * (b - np.sqrt(b**2 - 4.))\n",
      "/home/apo/anaconda3/lib/python3.6/site-packages/twopoppy-0.0.0-py3.6.egg/twopoppy/distribution_reconstruction.py:30: RuntimeWarning: invalid value encountered in log10\n",
      "  return 10**(np.interp(np.log10(x_int), np.log10(x), np.log10(R)))\n",
      "/home/apo/anaconda3/lib/python3.6/site-packages/twopoppy-0.0.0-py3.6.egg/twopoppy/distribution_reconstruction.py:412: RuntimeWarning: overflow encountered in power\n",
      "  np.exp(A * ((r[mask] / ra)**p[mask] - 1.)))\n"
     ]
    },
    {
     "name": "stdout",
     "output_type": "stream",
     "text": [
      "toy model running ... Done!\n"
     ]
    },
    {
     "name": "stderr",
     "output_type": "stream",
     "text": [
      "/home/apo/anaconda3/lib/python3.6/site-packages/twopoppy-0.0.0-py3.6.egg/twopoppy/distribution_reconstruction.py:30: RuntimeWarning: invalid value encountered in log10\n",
      "  return 10**(np.interp(np.log10(x_int), np.log10(x), np.log10(R)))\n",
      "/home/apo/anaconda3/lib/python3.6/site-packages/twopoppy-0.0.0-py3.6.egg/twopoppy/distribution_reconstruction.py:412: RuntimeWarning: overflow encountered in power\n",
      "  np.exp(A * ((r[mask] / ra)**p[mask] - 1.)))\n"
     ]
    },
    {
     "name": "stdout",
     "output_type": "stream",
     "text": [
      "toy model running ... Done!\n"
     ]
    },
    {
     "name": "stderr",
     "output_type": "stream",
     "text": [
      "/home/apo/anaconda3/lib/python3.6/site-packages/twopoppy-0.0.0-py3.6.egg/twopoppy/distribution_reconstruction.py:213: RuntimeWarning: invalid value encountered in sqrt\n",
      "  a_fr = sig_g / (pi * rho_s) * (b - np.sqrt(b**2 - 4.))\n",
      "/home/apo/anaconda3/lib/python3.6/site-packages/twopoppy-0.0.0-py3.6.egg/twopoppy/distribution_reconstruction.py:30: RuntimeWarning: invalid value encountered in log10\n",
      "  return 10**(np.interp(np.log10(x_int), np.log10(x), np.log10(R)))\n",
      "/home/apo/anaconda3/lib/python3.6/site-packages/twopoppy-0.0.0-py3.6.egg/twopoppy/distribution_reconstruction.py:412: RuntimeWarning: overflow encountered in power\n",
      "  np.exp(A * ((r[mask] / ra)**p[mask] - 1.)))\n"
     ]
    },
    {
     "name": "stdout",
     "output_type": "stream",
     "text": [
      "toy model running ... Done!\n"
     ]
    },
    {
     "name": "stderr",
     "output_type": "stream",
     "text": [
      "/home/apo/anaconda3/lib/python3.6/site-packages/twopoppy-0.0.0-py3.6.egg/twopoppy/distribution_reconstruction.py:213: RuntimeWarning: invalid value encountered in sqrt\n",
      "  a_fr = sig_g / (pi * rho_s) * (b - np.sqrt(b**2 - 4.))\n",
      "/home/apo/anaconda3/lib/python3.6/site-packages/twopoppy-0.0.0-py3.6.egg/twopoppy/distribution_reconstruction.py:30: RuntimeWarning: invalid value encountered in log10\n",
      "  return 10**(np.interp(np.log10(x_int), np.log10(x), np.log10(R)))\n",
      "/home/apo/anaconda3/lib/python3.6/site-packages/twopoppy-0.0.0-py3.6.egg/twopoppy/distribution_reconstruction.py:412: RuntimeWarning: overflow encountered in power\n",
      "  np.exp(A * ((r[mask] / ra)**p[mask] - 1.)))\n"
     ]
    },
    {
     "name": "stdout",
     "output_type": "stream",
     "text": [
      "toy model running ... Done!\n"
     ]
    },
    {
     "name": "stderr",
     "output_type": "stream",
     "text": [
      "/home/apo/anaconda3/lib/python3.6/site-packages/twopoppy-0.0.0-py3.6.egg/twopoppy/distribution_reconstruction.py:213: RuntimeWarning: invalid value encountered in sqrt\n",
      "  a_fr = sig_g / (pi * rho_s) * (b - np.sqrt(b**2 - 4.))\n",
      "/home/apo/anaconda3/lib/python3.6/site-packages/twopoppy-0.0.0-py3.6.egg/twopoppy/distribution_reconstruction.py:30: RuntimeWarning: invalid value encountered in log10\n",
      "  return 10**(np.interp(np.log10(x_int), np.log10(x), np.log10(R)))\n",
      "/home/apo/anaconda3/lib/python3.6/site-packages/twopoppy-0.0.0-py3.6.egg/twopoppy/distribution_reconstruction.py:412: RuntimeWarning: overflow encountered in power\n",
      "  np.exp(A * ((r[mask] / ra)**p[mask] - 1.)))\n"
     ]
    },
    {
     "name": "stdout",
     "output_type": "stream",
     "text": [
      "toy model running ... Done!\n"
     ]
    },
    {
     "name": "stderr",
     "output_type": "stream",
     "text": [
      "/home/apo/anaconda3/lib/python3.6/site-packages/twopoppy-0.0.0-py3.6.egg/twopoppy/distribution_reconstruction.py:30: RuntimeWarning: invalid value encountered in log10\n",
      "  return 10**(np.interp(np.log10(x_int), np.log10(x), np.log10(R)))\n",
      "/home/apo/anaconda3/lib/python3.6/site-packages/twopoppy-0.0.0-py3.6.egg/twopoppy/distribution_reconstruction.py:412: RuntimeWarning: overflow encountered in power\n",
      "  np.exp(A * ((r[mask] / ra)**p[mask] - 1.)))\n"
     ]
    },
    {
     "name": "stdout",
     "output_type": "stream",
     "text": [
      "toy model running ... Done!\n"
     ]
    },
    {
     "name": "stderr",
     "output_type": "stream",
     "text": [
      "/home/apo/anaconda3/lib/python3.6/site-packages/twopoppy-0.0.0-py3.6.egg/twopoppy/distribution_reconstruction.py:213: RuntimeWarning: invalid value encountered in sqrt\n",
      "  a_fr = sig_g / (pi * rho_s) * (b - np.sqrt(b**2 - 4.))\n",
      "/home/apo/anaconda3/lib/python3.6/site-packages/twopoppy-0.0.0-py3.6.egg/twopoppy/distribution_reconstruction.py:30: RuntimeWarning: invalid value encountered in log10\n",
      "  return 10**(np.interp(np.log10(x_int), np.log10(x), np.log10(R)))\n",
      "/home/apo/anaconda3/lib/python3.6/site-packages/twopoppy-0.0.0-py3.6.egg/twopoppy/distribution_reconstruction.py:412: RuntimeWarning: overflow encountered in power\n",
      "  np.exp(A * ((r[mask] / ra)**p[mask] - 1.)))\n"
     ]
    },
    {
     "name": "stdout",
     "output_type": "stream",
     "text": [
      "toy model running ... Done!\n"
     ]
    },
    {
     "name": "stderr",
     "output_type": "stream",
     "text": [
      "/home/apo/anaconda3/lib/python3.6/site-packages/twopoppy-0.0.0-py3.6.egg/twopoppy/distribution_reconstruction.py:213: RuntimeWarning: invalid value encountered in sqrt\n",
      "  a_fr = sig_g / (pi * rho_s) * (b - np.sqrt(b**2 - 4.))\n",
      "/home/apo/anaconda3/lib/python3.6/site-packages/twopoppy-0.0.0-py3.6.egg/twopoppy/distribution_reconstruction.py:30: RuntimeWarning: invalid value encountered in log10\n",
      "  return 10**(np.interp(np.log10(x_int), np.log10(x), np.log10(R)))\n",
      "/home/apo/anaconda3/lib/python3.6/site-packages/twopoppy-0.0.0-py3.6.egg/twopoppy/distribution_reconstruction.py:412: RuntimeWarning: overflow encountered in power\n",
      "  np.exp(A * ((r[mask] / ra)**p[mask] - 1.)))\n"
     ]
    },
    {
     "name": "stdout",
     "output_type": "stream",
     "text": [
      "toy model running ... Done!\n"
     ]
    },
    {
     "name": "stderr",
     "output_type": "stream",
     "text": [
      "/home/apo/anaconda3/lib/python3.6/site-packages/twopoppy-0.0.0-py3.6.egg/twopoppy/distribution_reconstruction.py:213: RuntimeWarning: invalid value encountered in sqrt\n",
      "  a_fr = sig_g / (pi * rho_s) * (b - np.sqrt(b**2 - 4.))\n",
      "/home/apo/anaconda3/lib/python3.6/site-packages/twopoppy-0.0.0-py3.6.egg/twopoppy/distribution_reconstruction.py:30: RuntimeWarning: invalid value encountered in log10\n",
      "  return 10**(np.interp(np.log10(x_int), np.log10(x), np.log10(R)))\n",
      "/home/apo/anaconda3/lib/python3.6/site-packages/twopoppy-0.0.0-py3.6.egg/twopoppy/distribution_reconstruction.py:412: RuntimeWarning: overflow encountered in power\n",
      "  np.exp(A * ((r[mask] / ra)**p[mask] - 1.)))\n"
     ]
    },
    {
     "name": "stdout",
     "output_type": "stream",
     "text": [
      "toy model running ... Done!\n"
     ]
    },
    {
     "name": "stderr",
     "output_type": "stream",
     "text": [
      "/home/apo/anaconda3/lib/python3.6/site-packages/twopoppy-0.0.0-py3.6.egg/twopoppy/distribution_reconstruction.py:30: RuntimeWarning: invalid value encountered in log10\n",
      "  return 10**(np.interp(np.log10(x_int), np.log10(x), np.log10(R)))\n",
      "/home/apo/anaconda3/lib/python3.6/site-packages/twopoppy-0.0.0-py3.6.egg/twopoppy/distribution_reconstruction.py:412: RuntimeWarning: overflow encountered in power\n",
      "  np.exp(A * ((r[mask] / ra)**p[mask] - 1.)))\n"
     ]
    },
    {
     "name": "stdout",
     "output_type": "stream",
     "text": [
      "toy model running ... Done!\n"
     ]
    },
    {
     "name": "stderr",
     "output_type": "stream",
     "text": [
      "/home/apo/anaconda3/lib/python3.6/site-packages/twopoppy-0.0.0-py3.6.egg/twopoppy/distribution_reconstruction.py:213: RuntimeWarning: invalid value encountered in sqrt\n",
      "  a_fr = sig_g / (pi * rho_s) * (b - np.sqrt(b**2 - 4.))\n",
      "/home/apo/anaconda3/lib/python3.6/site-packages/twopoppy-0.0.0-py3.6.egg/twopoppy/distribution_reconstruction.py:30: RuntimeWarning: invalid value encountered in log10\n",
      "  return 10**(np.interp(np.log10(x_int), np.log10(x), np.log10(R)))\n",
      "/home/apo/anaconda3/lib/python3.6/site-packages/twopoppy-0.0.0-py3.6.egg/twopoppy/distribution_reconstruction.py:412: RuntimeWarning: overflow encountered in power\n",
      "  np.exp(A * ((r[mask] / ra)**p[mask] - 1.)))\n"
     ]
    },
    {
     "name": "stdout",
     "output_type": "stream",
     "text": [
      "toy model running ... Done!\n"
     ]
    },
    {
     "name": "stderr",
     "output_type": "stream",
     "text": [
      "/home/apo/anaconda3/lib/python3.6/site-packages/twopoppy-0.0.0-py3.6.egg/twopoppy/distribution_reconstruction.py:213: RuntimeWarning: invalid value encountered in sqrt\n",
      "  a_fr = sig_g / (pi * rho_s) * (b - np.sqrt(b**2 - 4.))\n",
      "/home/apo/anaconda3/lib/python3.6/site-packages/twopoppy-0.0.0-py3.6.egg/twopoppy/distribution_reconstruction.py:30: RuntimeWarning: invalid value encountered in log10\n",
      "  return 10**(np.interp(np.log10(x_int), np.log10(x), np.log10(R)))\n",
      "/home/apo/anaconda3/lib/python3.6/site-packages/twopoppy-0.0.0-py3.6.egg/twopoppy/distribution_reconstruction.py:412: RuntimeWarning: overflow encountered in power\n",
      "  np.exp(A * ((r[mask] / ra)**p[mask] - 1.)))\n"
     ]
    },
    {
     "name": "stdout",
     "output_type": "stream",
     "text": [
      "toy model running ... Done!\n"
     ]
    },
    {
     "name": "stderr",
     "output_type": "stream",
     "text": [
      "/home/apo/anaconda3/lib/python3.6/site-packages/twopoppy-0.0.0-py3.6.egg/twopoppy/distribution_reconstruction.py:213: RuntimeWarning: invalid value encountered in sqrt\n",
      "  a_fr = sig_g / (pi * rho_s) * (b - np.sqrt(b**2 - 4.))\n",
      "/home/apo/anaconda3/lib/python3.6/site-packages/twopoppy-0.0.0-py3.6.egg/twopoppy/distribution_reconstruction.py:30: RuntimeWarning: invalid value encountered in log10\n",
      "  return 10**(np.interp(np.log10(x_int), np.log10(x), np.log10(R)))\n",
      "/home/apo/anaconda3/lib/python3.6/site-packages/twopoppy-0.0.0-py3.6.egg/twopoppy/distribution_reconstruction.py:412: RuntimeWarning: overflow encountered in power\n",
      "  np.exp(A * ((r[mask] / ra)**p[mask] - 1.)))\n"
     ]
    },
    {
     "name": "stdout",
     "output_type": "stream",
     "text": [
      "toy model running ... Done!\n"
     ]
    },
    {
     "name": "stderr",
     "output_type": "stream",
     "text": [
      "/home/apo/anaconda3/lib/python3.6/site-packages/twopoppy-0.0.0-py3.6.egg/twopoppy/distribution_reconstruction.py:30: RuntimeWarning: invalid value encountered in log10\n",
      "  return 10**(np.interp(np.log10(x_int), np.log10(x), np.log10(R)))\n",
      "/home/apo/anaconda3/lib/python3.6/site-packages/twopoppy-0.0.0-py3.6.egg/twopoppy/distribution_reconstruction.py:412: RuntimeWarning: overflow encountered in power\n",
      "  np.exp(A * ((r[mask] / ra)**p[mask] - 1.)))\n"
     ]
    },
    {
     "name": "stdout",
     "output_type": "stream",
     "text": [
      "toy model running ... Done!\n"
     ]
    },
    {
     "name": "stderr",
     "output_type": "stream",
     "text": [
      "/home/apo/anaconda3/lib/python3.6/site-packages/twopoppy-0.0.0-py3.6.egg/twopoppy/distribution_reconstruction.py:213: RuntimeWarning: invalid value encountered in sqrt\n",
      "  a_fr = sig_g / (pi * rho_s) * (b - np.sqrt(b**2 - 4.))\n",
      "/home/apo/anaconda3/lib/python3.6/site-packages/twopoppy-0.0.0-py3.6.egg/twopoppy/distribution_reconstruction.py:30: RuntimeWarning: invalid value encountered in log10\n",
      "  return 10**(np.interp(np.log10(x_int), np.log10(x), np.log10(R)))\n",
      "/home/apo/anaconda3/lib/python3.6/site-packages/twopoppy-0.0.0-py3.6.egg/twopoppy/distribution_reconstruction.py:412: RuntimeWarning: overflow encountered in power\n",
      "  np.exp(A * ((r[mask] / ra)**p[mask] - 1.)))\n"
     ]
    },
    {
     "name": "stdout",
     "output_type": "stream",
     "text": [
      "toy model running ... Done!\n"
     ]
    },
    {
     "name": "stderr",
     "output_type": "stream",
     "text": [
      "/home/apo/anaconda3/lib/python3.6/site-packages/twopoppy-0.0.0-py3.6.egg/twopoppy/distribution_reconstruction.py:213: RuntimeWarning: invalid value encountered in sqrt\n",
      "  a_fr = sig_g / (pi * rho_s) * (b - np.sqrt(b**2 - 4.))\n",
      "/home/apo/anaconda3/lib/python3.6/site-packages/twopoppy-0.0.0-py3.6.egg/twopoppy/distribution_reconstruction.py:30: RuntimeWarning: invalid value encountered in log10\n",
      "  return 10**(np.interp(np.log10(x_int), np.log10(x), np.log10(R)))\n",
      "/home/apo/anaconda3/lib/python3.6/site-packages/twopoppy-0.0.0-py3.6.egg/twopoppy/distribution_reconstruction.py:412: RuntimeWarning: overflow encountered in power\n",
      "  np.exp(A * ((r[mask] / ra)**p[mask] - 1.)))\n"
     ]
    },
    {
     "name": "stdout",
     "output_type": "stream",
     "text": [
      "toy model running ... Done!\n"
     ]
    },
    {
     "name": "stderr",
     "output_type": "stream",
     "text": [
      "/home/apo/anaconda3/lib/python3.6/site-packages/twopoppy-0.0.0-py3.6.egg/twopoppy/distribution_reconstruction.py:213: RuntimeWarning: invalid value encountered in sqrt\n",
      "  a_fr = sig_g / (pi * rho_s) * (b - np.sqrt(b**2 - 4.))\n",
      "/home/apo/anaconda3/lib/python3.6/site-packages/twopoppy-0.0.0-py3.6.egg/twopoppy/distribution_reconstruction.py:30: RuntimeWarning: invalid value encountered in log10\n",
      "  return 10**(np.interp(np.log10(x_int), np.log10(x), np.log10(R)))\n",
      "/home/apo/anaconda3/lib/python3.6/site-packages/twopoppy-0.0.0-py3.6.egg/twopoppy/distribution_reconstruction.py:412: RuntimeWarning: overflow encountered in power\n",
      "  np.exp(A * ((r[mask] / ra)**p[mask] - 1.)))\n"
     ]
    },
    {
     "name": "stdout",
     "output_type": "stream",
     "text": [
      "toy model running ... Done!\n"
     ]
    },
    {
     "name": "stderr",
     "output_type": "stream",
     "text": [
      "/home/apo/anaconda3/lib/python3.6/site-packages/twopoppy-0.0.0-py3.6.egg/twopoppy/distribution_reconstruction.py:30: RuntimeWarning: invalid value encountered in log10\n",
      "  return 10**(np.interp(np.log10(x_int), np.log10(x), np.log10(R)))\n",
      "/home/apo/anaconda3/lib/python3.6/site-packages/twopoppy-0.0.0-py3.6.egg/twopoppy/distribution_reconstruction.py:412: RuntimeWarning: overflow encountered in power\n",
      "  np.exp(A * ((r[mask] / ra)**p[mask] - 1.)))\n"
     ]
    },
    {
     "name": "stdout",
     "output_type": "stream",
     "text": [
      "toy model running ... Done!\n"
     ]
    },
    {
     "name": "stderr",
     "output_type": "stream",
     "text": [
      "/home/apo/anaconda3/lib/python3.6/site-packages/twopoppy-0.0.0-py3.6.egg/twopoppy/distribution_reconstruction.py:213: RuntimeWarning: invalid value encountered in sqrt\n",
      "  a_fr = sig_g / (pi * rho_s) * (b - np.sqrt(b**2 - 4.))\n",
      "/home/apo/anaconda3/lib/python3.6/site-packages/twopoppy-0.0.0-py3.6.egg/twopoppy/distribution_reconstruction.py:30: RuntimeWarning: invalid value encountered in log10\n",
      "  return 10**(np.interp(np.log10(x_int), np.log10(x), np.log10(R)))\n",
      "/home/apo/anaconda3/lib/python3.6/site-packages/twopoppy-0.0.0-py3.6.egg/twopoppy/distribution_reconstruction.py:412: RuntimeWarning: overflow encountered in power\n",
      "  np.exp(A * ((r[mask] / ra)**p[mask] - 1.)))\n"
     ]
    },
    {
     "name": "stdout",
     "output_type": "stream",
     "text": [
      "toy model running ... Done!\n"
     ]
    },
    {
     "name": "stderr",
     "output_type": "stream",
     "text": [
      "/home/apo/anaconda3/lib/python3.6/site-packages/twopoppy-0.0.0-py3.6.egg/twopoppy/distribution_reconstruction.py:213: RuntimeWarning: invalid value encountered in sqrt\n",
      "  a_fr = sig_g / (pi * rho_s) * (b - np.sqrt(b**2 - 4.))\n",
      "/home/apo/anaconda3/lib/python3.6/site-packages/twopoppy-0.0.0-py3.6.egg/twopoppy/distribution_reconstruction.py:30: RuntimeWarning: invalid value encountered in log10\n",
      "  return 10**(np.interp(np.log10(x_int), np.log10(x), np.log10(R)))\n",
      "/home/apo/anaconda3/lib/python3.6/site-packages/twopoppy-0.0.0-py3.6.egg/twopoppy/distribution_reconstruction.py:412: RuntimeWarning: overflow encountered in power\n",
      "  np.exp(A * ((r[mask] / ra)**p[mask] - 1.)))\n"
     ]
    },
    {
     "name": "stdout",
     "output_type": "stream",
     "text": [
      "toy model running ... Done!\n"
     ]
    },
    {
     "name": "stderr",
     "output_type": "stream",
     "text": [
      "/home/apo/anaconda3/lib/python3.6/site-packages/twopoppy-0.0.0-py3.6.egg/twopoppy/distribution_reconstruction.py:213: RuntimeWarning: invalid value encountered in sqrt\n",
      "  a_fr = sig_g / (pi * rho_s) * (b - np.sqrt(b**2 - 4.))\n",
      "/home/apo/anaconda3/lib/python3.6/site-packages/twopoppy-0.0.0-py3.6.egg/twopoppy/distribution_reconstruction.py:30: RuntimeWarning: invalid value encountered in log10\n",
      "  return 10**(np.interp(np.log10(x_int), np.log10(x), np.log10(R)))\n",
      "/home/apo/anaconda3/lib/python3.6/site-packages/twopoppy-0.0.0-py3.6.egg/twopoppy/distribution_reconstruction.py:412: RuntimeWarning: overflow encountered in power\n",
      "  np.exp(A * ((r[mask] / ra)**p[mask] - 1.)))\n"
     ]
    },
    {
     "name": "stdout",
     "output_type": "stream",
     "text": [
      "toy model running ... Done!\n"
     ]
    },
    {
     "name": "stderr",
     "output_type": "stream",
     "text": [
      "/home/apo/anaconda3/lib/python3.6/site-packages/twopoppy-0.0.0-py3.6.egg/twopoppy/distribution_reconstruction.py:30: RuntimeWarning: invalid value encountered in log10\n",
      "  return 10**(np.interp(np.log10(x_int), np.log10(x), np.log10(R)))\n",
      "/home/apo/anaconda3/lib/python3.6/site-packages/twopoppy-0.0.0-py3.6.egg/twopoppy/distribution_reconstruction.py:412: RuntimeWarning: overflow encountered in power\n",
      "  np.exp(A * ((r[mask] / ra)**p[mask] - 1.)))\n"
     ]
    },
    {
     "name": "stdout",
     "output_type": "stream",
     "text": [
      "toy model running ... Done!\n"
     ]
    },
    {
     "name": "stderr",
     "output_type": "stream",
     "text": [
      "/home/apo/anaconda3/lib/python3.6/site-packages/twopoppy-0.0.0-py3.6.egg/twopoppy/distribution_reconstruction.py:213: RuntimeWarning: invalid value encountered in sqrt\n",
      "  a_fr = sig_g / (pi * rho_s) * (b - np.sqrt(b**2 - 4.))\n",
      "/home/apo/anaconda3/lib/python3.6/site-packages/twopoppy-0.0.0-py3.6.egg/twopoppy/distribution_reconstruction.py:30: RuntimeWarning: invalid value encountered in log10\n",
      "  return 10**(np.interp(np.log10(x_int), np.log10(x), np.log10(R)))\n",
      "/home/apo/anaconda3/lib/python3.6/site-packages/twopoppy-0.0.0-py3.6.egg/twopoppy/distribution_reconstruction.py:412: RuntimeWarning: overflow encountered in power\n",
      "  np.exp(A * ((r[mask] / ra)**p[mask] - 1.)))\n"
     ]
    },
    {
     "name": "stdout",
     "output_type": "stream",
     "text": [
      "toy model running ... Done!\n"
     ]
    },
    {
     "name": "stderr",
     "output_type": "stream",
     "text": [
      "/home/apo/anaconda3/lib/python3.6/site-packages/twopoppy-0.0.0-py3.6.egg/twopoppy/distribution_reconstruction.py:213: RuntimeWarning: invalid value encountered in sqrt\n",
      "  a_fr = sig_g / (pi * rho_s) * (b - np.sqrt(b**2 - 4.))\n",
      "/home/apo/anaconda3/lib/python3.6/site-packages/twopoppy-0.0.0-py3.6.egg/twopoppy/distribution_reconstruction.py:30: RuntimeWarning: invalid value encountered in log10\n",
      "  return 10**(np.interp(np.log10(x_int), np.log10(x), np.log10(R)))\n",
      "/home/apo/anaconda3/lib/python3.6/site-packages/twopoppy-0.0.0-py3.6.egg/twopoppy/distribution_reconstruction.py:412: RuntimeWarning: overflow encountered in power\n",
      "  np.exp(A * ((r[mask] / ra)**p[mask] - 1.)))\n"
     ]
    },
    {
     "name": "stdout",
     "output_type": "stream",
     "text": [
      "toy model running ... Done!\n"
     ]
    },
    {
     "name": "stderr",
     "output_type": "stream",
     "text": [
      "/home/apo/anaconda3/lib/python3.6/site-packages/twopoppy-0.0.0-py3.6.egg/twopoppy/distribution_reconstruction.py:213: RuntimeWarning: invalid value encountered in sqrt\n",
      "  a_fr = sig_g / (pi * rho_s) * (b - np.sqrt(b**2 - 4.))\n",
      "/home/apo/anaconda3/lib/python3.6/site-packages/twopoppy-0.0.0-py3.6.egg/twopoppy/distribution_reconstruction.py:30: RuntimeWarning: invalid value encountered in log10\n",
      "  return 10**(np.interp(np.log10(x_int), np.log10(x), np.log10(R)))\n",
      "/home/apo/anaconda3/lib/python3.6/site-packages/twopoppy-0.0.0-py3.6.egg/twopoppy/distribution_reconstruction.py:412: RuntimeWarning: overflow encountered in power\n",
      "  np.exp(A * ((r[mask] / ra)**p[mask] - 1.)))\n"
     ]
    },
    {
     "name": "stdout",
     "output_type": "stream",
     "text": [
      "toy model running ... Done!\n"
     ]
    },
    {
     "name": "stderr",
     "output_type": "stream",
     "text": [
      "/home/apo/anaconda3/lib/python3.6/site-packages/twopoppy-0.0.0-py3.6.egg/twopoppy/distribution_reconstruction.py:30: RuntimeWarning: invalid value encountered in log10\n",
      "  return 10**(np.interp(np.log10(x_int), np.log10(x), np.log10(R)))\n",
      "/home/apo/anaconda3/lib/python3.6/site-packages/twopoppy-0.0.0-py3.6.egg/twopoppy/distribution_reconstruction.py:412: RuntimeWarning: overflow encountered in power\n",
      "  np.exp(A * ((r[mask] / ra)**p[mask] - 1.)))\n"
     ]
    },
    {
     "name": "stdout",
     "output_type": "stream",
     "text": [
      "toy model running ... Done!\n"
     ]
    },
    {
     "name": "stderr",
     "output_type": "stream",
     "text": [
      "/home/apo/anaconda3/lib/python3.6/site-packages/twopoppy-0.0.0-py3.6.egg/twopoppy/distribution_reconstruction.py:213: RuntimeWarning: invalid value encountered in sqrt\n",
      "  a_fr = sig_g / (pi * rho_s) * (b - np.sqrt(b**2 - 4.))\n",
      "/home/apo/anaconda3/lib/python3.6/site-packages/twopoppy-0.0.0-py3.6.egg/twopoppy/distribution_reconstruction.py:30: RuntimeWarning: invalid value encountered in log10\n",
      "  return 10**(np.interp(np.log10(x_int), np.log10(x), np.log10(R)))\n",
      "/home/apo/anaconda3/lib/python3.6/site-packages/twopoppy-0.0.0-py3.6.egg/twopoppy/distribution_reconstruction.py:412: RuntimeWarning: overflow encountered in power\n",
      "  np.exp(A * ((r[mask] / ra)**p[mask] - 1.)))\n"
     ]
    },
    {
     "name": "stdout",
     "output_type": "stream",
     "text": [
      "toy model running ... Done!\n"
     ]
    },
    {
     "name": "stderr",
     "output_type": "stream",
     "text": [
      "/home/apo/anaconda3/lib/python3.6/site-packages/twopoppy-0.0.0-py3.6.egg/twopoppy/distribution_reconstruction.py:213: RuntimeWarning: invalid value encountered in sqrt\n",
      "  a_fr = sig_g / (pi * rho_s) * (b - np.sqrt(b**2 - 4.))\n",
      "/home/apo/anaconda3/lib/python3.6/site-packages/twopoppy-0.0.0-py3.6.egg/twopoppy/distribution_reconstruction.py:30: RuntimeWarning: invalid value encountered in log10\n",
      "  return 10**(np.interp(np.log10(x_int), np.log10(x), np.log10(R)))\n",
      "/home/apo/anaconda3/lib/python3.6/site-packages/twopoppy-0.0.0-py3.6.egg/twopoppy/distribution_reconstruction.py:412: RuntimeWarning: overflow encountered in power\n",
      "  np.exp(A * ((r[mask] / ra)**p[mask] - 1.)))\n"
     ]
    },
    {
     "name": "stdout",
     "output_type": "stream",
     "text": [
      "toy model running ... Done!\n"
     ]
    },
    {
     "name": "stderr",
     "output_type": "stream",
     "text": [
      "/home/apo/anaconda3/lib/python3.6/site-packages/twopoppy-0.0.0-py3.6.egg/twopoppy/distribution_reconstruction.py:213: RuntimeWarning: invalid value encountered in sqrt\n",
      "  a_fr = sig_g / (pi * rho_s) * (b - np.sqrt(b**2 - 4.))\n",
      "/home/apo/anaconda3/lib/python3.6/site-packages/twopoppy-0.0.0-py3.6.egg/twopoppy/distribution_reconstruction.py:30: RuntimeWarning: invalid value encountered in log10\n",
      "  return 10**(np.interp(np.log10(x_int), np.log10(x), np.log10(R)))\n",
      "/home/apo/anaconda3/lib/python3.6/site-packages/twopoppy-0.0.0-py3.6.egg/twopoppy/distribution_reconstruction.py:412: RuntimeWarning: overflow encountered in power\n",
      "  np.exp(A * ((r[mask] / ra)**p[mask] - 1.)))\n"
     ]
    },
    {
     "name": "stdout",
     "output_type": "stream",
     "text": [
      "toy model running ... Done!\n"
     ]
    },
    {
     "name": "stderr",
     "output_type": "stream",
     "text": [
      "/home/apo/anaconda3/lib/python3.6/site-packages/twopoppy-0.0.0-py3.6.egg/twopoppy/distribution_reconstruction.py:30: RuntimeWarning: invalid value encountered in log10\n",
      "  return 10**(np.interp(np.log10(x_int), np.log10(x), np.log10(R)))\n",
      "/home/apo/anaconda3/lib/python3.6/site-packages/twopoppy-0.0.0-py3.6.egg/twopoppy/distribution_reconstruction.py:412: RuntimeWarning: overflow encountered in power\n",
      "  np.exp(A * ((r[mask] / ra)**p[mask] - 1.)))\n"
     ]
    },
    {
     "name": "stdout",
     "output_type": "stream",
     "text": [
      "toy model running ... Done!\n"
     ]
    },
    {
     "name": "stderr",
     "output_type": "stream",
     "text": [
      "/home/apo/anaconda3/lib/python3.6/site-packages/twopoppy-0.0.0-py3.6.egg/twopoppy/distribution_reconstruction.py:213: RuntimeWarning: invalid value encountered in sqrt\n",
      "  a_fr = sig_g / (pi * rho_s) * (b - np.sqrt(b**2 - 4.))\n",
      "/home/apo/anaconda3/lib/python3.6/site-packages/twopoppy-0.0.0-py3.6.egg/twopoppy/distribution_reconstruction.py:30: RuntimeWarning: invalid value encountered in log10\n",
      "  return 10**(np.interp(np.log10(x_int), np.log10(x), np.log10(R)))\n",
      "/home/apo/anaconda3/lib/python3.6/site-packages/twopoppy-0.0.0-py3.6.egg/twopoppy/distribution_reconstruction.py:412: RuntimeWarning: overflow encountered in power\n",
      "  np.exp(A * ((r[mask] / ra)**p[mask] - 1.)))\n"
     ]
    },
    {
     "name": "stdout",
     "output_type": "stream",
     "text": [
      "toy model running ... Done!\n"
     ]
    },
    {
     "name": "stderr",
     "output_type": "stream",
     "text": [
      "/home/apo/anaconda3/lib/python3.6/site-packages/twopoppy-0.0.0-py3.6.egg/twopoppy/distribution_reconstruction.py:213: RuntimeWarning: invalid value encountered in sqrt\n",
      "  a_fr = sig_g / (pi * rho_s) * (b - np.sqrt(b**2 - 4.))\n",
      "/home/apo/anaconda3/lib/python3.6/site-packages/twopoppy-0.0.0-py3.6.egg/twopoppy/distribution_reconstruction.py:30: RuntimeWarning: invalid value encountered in log10\n",
      "  return 10**(np.interp(np.log10(x_int), np.log10(x), np.log10(R)))\n",
      "/home/apo/anaconda3/lib/python3.6/site-packages/twopoppy-0.0.0-py3.6.egg/twopoppy/distribution_reconstruction.py:412: RuntimeWarning: overflow encountered in power\n",
      "  np.exp(A * ((r[mask] / ra)**p[mask] - 1.)))\n"
     ]
    },
    {
     "name": "stdout",
     "output_type": "stream",
     "text": [
      "toy model running ... Done!\n"
     ]
    },
    {
     "name": "stderr",
     "output_type": "stream",
     "text": [
      "/home/apo/anaconda3/lib/python3.6/site-packages/twopoppy-0.0.0-py3.6.egg/twopoppy/distribution_reconstruction.py:213: RuntimeWarning: invalid value encountered in sqrt\n",
      "  a_fr = sig_g / (pi * rho_s) * (b - np.sqrt(b**2 - 4.))\n",
      "/home/apo/anaconda3/lib/python3.6/site-packages/twopoppy-0.0.0-py3.6.egg/twopoppy/distribution_reconstruction.py:30: RuntimeWarning: invalid value encountered in log10\n",
      "  return 10**(np.interp(np.log10(x_int), np.log10(x), np.log10(R)))\n",
      "/home/apo/anaconda3/lib/python3.6/site-packages/twopoppy-0.0.0-py3.6.egg/twopoppy/distribution_reconstruction.py:412: RuntimeWarning: overflow encountered in power\n",
      "  np.exp(A * ((r[mask] / ra)**p[mask] - 1.)))\n"
     ]
    },
    {
     "name": "stdout",
     "output_type": "stream",
     "text": [
      "toy model running ... Done!\n"
     ]
    },
    {
     "name": "stderr",
     "output_type": "stream",
     "text": [
      "/home/apo/anaconda3/lib/python3.6/site-packages/twopoppy-0.0.0-py3.6.egg/twopoppy/distribution_reconstruction.py:30: RuntimeWarning: invalid value encountered in log10\n",
      "  return 10**(np.interp(np.log10(x_int), np.log10(x), np.log10(R)))\n",
      "/home/apo/anaconda3/lib/python3.6/site-packages/twopoppy-0.0.0-py3.6.egg/twopoppy/distribution_reconstruction.py:412: RuntimeWarning: overflow encountered in power\n",
      "  np.exp(A * ((r[mask] / ra)**p[mask] - 1.)))\n"
     ]
    },
    {
     "name": "stdout",
     "output_type": "stream",
     "text": [
      "toy model running ... Done!\n"
     ]
    },
    {
     "name": "stderr",
     "output_type": "stream",
     "text": [
      "/home/apo/anaconda3/lib/python3.6/site-packages/twopoppy-0.0.0-py3.6.egg/twopoppy/distribution_reconstruction.py:213: RuntimeWarning: invalid value encountered in sqrt\n",
      "  a_fr = sig_g / (pi * rho_s) * (b - np.sqrt(b**2 - 4.))\n",
      "/home/apo/anaconda3/lib/python3.6/site-packages/twopoppy-0.0.0-py3.6.egg/twopoppy/distribution_reconstruction.py:30: RuntimeWarning: invalid value encountered in log10\n",
      "  return 10**(np.interp(np.log10(x_int), np.log10(x), np.log10(R)))\n",
      "/home/apo/anaconda3/lib/python3.6/site-packages/twopoppy-0.0.0-py3.6.egg/twopoppy/distribution_reconstruction.py:412: RuntimeWarning: overflow encountered in power\n",
      "  np.exp(A * ((r[mask] / ra)**p[mask] - 1.)))\n"
     ]
    },
    {
     "name": "stdout",
     "output_type": "stream",
     "text": [
      "toy model running ... Done!\n"
     ]
    },
    {
     "name": "stderr",
     "output_type": "stream",
     "text": [
      "/home/apo/anaconda3/lib/python3.6/site-packages/twopoppy-0.0.0-py3.6.egg/twopoppy/distribution_reconstruction.py:213: RuntimeWarning: invalid value encountered in sqrt\n",
      "  a_fr = sig_g / (pi * rho_s) * (b - np.sqrt(b**2 - 4.))\n",
      "/home/apo/anaconda3/lib/python3.6/site-packages/twopoppy-0.0.0-py3.6.egg/twopoppy/distribution_reconstruction.py:30: RuntimeWarning: invalid value encountered in log10\n",
      "  return 10**(np.interp(np.log10(x_int), np.log10(x), np.log10(R)))\n",
      "/home/apo/anaconda3/lib/python3.6/site-packages/twopoppy-0.0.0-py3.6.egg/twopoppy/distribution_reconstruction.py:412: RuntimeWarning: overflow encountered in power\n",
      "  np.exp(A * ((r[mask] / ra)**p[mask] - 1.)))\n"
     ]
    },
    {
     "name": "stdout",
     "output_type": "stream",
     "text": [
      "toy model running ... Done!\n"
     ]
    },
    {
     "name": "stderr",
     "output_type": "stream",
     "text": [
      "/home/apo/anaconda3/lib/python3.6/site-packages/twopoppy-0.0.0-py3.6.egg/twopoppy/distribution_reconstruction.py:213: RuntimeWarning: invalid value encountered in sqrt\n",
      "  a_fr = sig_g / (pi * rho_s) * (b - np.sqrt(b**2 - 4.))\n",
      "/home/apo/anaconda3/lib/python3.6/site-packages/twopoppy-0.0.0-py3.6.egg/twopoppy/distribution_reconstruction.py:30: RuntimeWarning: invalid value encountered in log10\n",
      "  return 10**(np.interp(np.log10(x_int), np.log10(x), np.log10(R)))\n",
      "/home/apo/anaconda3/lib/python3.6/site-packages/twopoppy-0.0.0-py3.6.egg/twopoppy/distribution_reconstruction.py:412: RuntimeWarning: overflow encountered in power\n",
      "  np.exp(A * ((r[mask] / ra)**p[mask] - 1.)))\n"
     ]
    },
    {
     "name": "stdout",
     "output_type": "stream",
     "text": [
      "toy model running ... Done!\n"
     ]
    },
    {
     "name": "stderr",
     "output_type": "stream",
     "text": [
      "/home/apo/anaconda3/lib/python3.6/site-packages/twopoppy-0.0.0-py3.6.egg/twopoppy/distribution_reconstruction.py:30: RuntimeWarning: invalid value encountered in log10\n",
      "  return 10**(np.interp(np.log10(x_int), np.log10(x), np.log10(R)))\n",
      "/home/apo/anaconda3/lib/python3.6/site-packages/twopoppy-0.0.0-py3.6.egg/twopoppy/distribution_reconstruction.py:412: RuntimeWarning: overflow encountered in power\n",
      "  np.exp(A * ((r[mask] / ra)**p[mask] - 1.)))\n"
     ]
    },
    {
     "name": "stdout",
     "output_type": "stream",
     "text": [
      "toy model running ... Done!\n"
     ]
    },
    {
     "name": "stderr",
     "output_type": "stream",
     "text": [
      "/home/apo/anaconda3/lib/python3.6/site-packages/twopoppy-0.0.0-py3.6.egg/twopoppy/distribution_reconstruction.py:213: RuntimeWarning: invalid value encountered in sqrt\n",
      "  a_fr = sig_g / (pi * rho_s) * (b - np.sqrt(b**2 - 4.))\n",
      "/home/apo/anaconda3/lib/python3.6/site-packages/twopoppy-0.0.0-py3.6.egg/twopoppy/distribution_reconstruction.py:30: RuntimeWarning: invalid value encountered in log10\n",
      "  return 10**(np.interp(np.log10(x_int), np.log10(x), np.log10(R)))\n",
      "/home/apo/anaconda3/lib/python3.6/site-packages/twopoppy-0.0.0-py3.6.egg/twopoppy/distribution_reconstruction.py:412: RuntimeWarning: overflow encountered in power\n",
      "  np.exp(A * ((r[mask] / ra)**p[mask] - 1.)))\n"
     ]
    },
    {
     "name": "stdout",
     "output_type": "stream",
     "text": [
      "toy model running ... Done!\n"
     ]
    },
    {
     "name": "stderr",
     "output_type": "stream",
     "text": [
      "/home/apo/anaconda3/lib/python3.6/site-packages/twopoppy-0.0.0-py3.6.egg/twopoppy/distribution_reconstruction.py:213: RuntimeWarning: invalid value encountered in sqrt\n",
      "  a_fr = sig_g / (pi * rho_s) * (b - np.sqrt(b**2 - 4.))\n",
      "/home/apo/anaconda3/lib/python3.6/site-packages/twopoppy-0.0.0-py3.6.egg/twopoppy/distribution_reconstruction.py:30: RuntimeWarning: invalid value encountered in log10\n",
      "  return 10**(np.interp(np.log10(x_int), np.log10(x), np.log10(R)))\n",
      "/home/apo/anaconda3/lib/python3.6/site-packages/twopoppy-0.0.0-py3.6.egg/twopoppy/distribution_reconstruction.py:412: RuntimeWarning: overflow encountered in power\n",
      "  np.exp(A * ((r[mask] / ra)**p[mask] - 1.)))\n"
     ]
    },
    {
     "name": "stdout",
     "output_type": "stream",
     "text": [
      "toy model running ... Done!\n"
     ]
    },
    {
     "name": "stderr",
     "output_type": "stream",
     "text": [
      "/home/apo/anaconda3/lib/python3.6/site-packages/twopoppy-0.0.0-py3.6.egg/twopoppy/distribution_reconstruction.py:213: RuntimeWarning: invalid value encountered in sqrt\n",
      "  a_fr = sig_g / (pi * rho_s) * (b - np.sqrt(b**2 - 4.))\n",
      "/home/apo/anaconda3/lib/python3.6/site-packages/twopoppy-0.0.0-py3.6.egg/twopoppy/distribution_reconstruction.py:30: RuntimeWarning: invalid value encountered in log10\n",
      "  return 10**(np.interp(np.log10(x_int), np.log10(x), np.log10(R)))\n",
      "/home/apo/anaconda3/lib/python3.6/site-packages/twopoppy-0.0.0-py3.6.egg/twopoppy/distribution_reconstruction.py:412: RuntimeWarning: overflow encountered in power\n",
      "  np.exp(A * ((r[mask] / ra)**p[mask] - 1.)))\n"
     ]
    },
    {
     "name": "stdout",
     "output_type": "stream",
     "text": [
      "toy model running ... Done!\n"
     ]
    },
    {
     "name": "stderr",
     "output_type": "stream",
     "text": [
      "/home/apo/anaconda3/lib/python3.6/site-packages/twopoppy-0.0.0-py3.6.egg/twopoppy/distribution_reconstruction.py:30: RuntimeWarning: invalid value encountered in log10\n",
      "  return 10**(np.interp(np.log10(x_int), np.log10(x), np.log10(R)))\n",
      "/home/apo/anaconda3/lib/python3.6/site-packages/twopoppy-0.0.0-py3.6.egg/twopoppy/distribution_reconstruction.py:412: RuntimeWarning: overflow encountered in power\n",
      "  np.exp(A * ((r[mask] / ra)**p[mask] - 1.)))\n"
     ]
    },
    {
     "name": "stdout",
     "output_type": "stream",
     "text": [
      "toy model running ... Done!\n"
     ]
    },
    {
     "name": "stderr",
     "output_type": "stream",
     "text": [
      "/home/apo/anaconda3/lib/python3.6/site-packages/twopoppy-0.0.0-py3.6.egg/twopoppy/distribution_reconstruction.py:213: RuntimeWarning: invalid value encountered in sqrt\n",
      "  a_fr = sig_g / (pi * rho_s) * (b - np.sqrt(b**2 - 4.))\n",
      "/home/apo/anaconda3/lib/python3.6/site-packages/twopoppy-0.0.0-py3.6.egg/twopoppy/distribution_reconstruction.py:30: RuntimeWarning: invalid value encountered in log10\n",
      "  return 10**(np.interp(np.log10(x_int), np.log10(x), np.log10(R)))\n",
      "/home/apo/anaconda3/lib/python3.6/site-packages/twopoppy-0.0.0-py3.6.egg/twopoppy/distribution_reconstruction.py:412: RuntimeWarning: overflow encountered in power\n",
      "  np.exp(A * ((r[mask] / ra)**p[mask] - 1.)))\n"
     ]
    },
    {
     "name": "stdout",
     "output_type": "stream",
     "text": [
      "toy model running ... Done!\n"
     ]
    },
    {
     "name": "stderr",
     "output_type": "stream",
     "text": [
      "/home/apo/anaconda3/lib/python3.6/site-packages/twopoppy-0.0.0-py3.6.egg/twopoppy/distribution_reconstruction.py:213: RuntimeWarning: invalid value encountered in sqrt\n",
      "  a_fr = sig_g / (pi * rho_s) * (b - np.sqrt(b**2 - 4.))\n",
      "/home/apo/anaconda3/lib/python3.6/site-packages/twopoppy-0.0.0-py3.6.egg/twopoppy/distribution_reconstruction.py:30: RuntimeWarning: invalid value encountered in log10\n",
      "  return 10**(np.interp(np.log10(x_int), np.log10(x), np.log10(R)))\n",
      "/home/apo/anaconda3/lib/python3.6/site-packages/twopoppy-0.0.0-py3.6.egg/twopoppy/distribution_reconstruction.py:412: RuntimeWarning: overflow encountered in power\n",
      "  np.exp(A * ((r[mask] / ra)**p[mask] - 1.)))\n"
     ]
    },
    {
     "name": "stdout",
     "output_type": "stream",
     "text": [
      "toy model running ... Done!\n"
     ]
    },
    {
     "name": "stderr",
     "output_type": "stream",
     "text": [
      "/home/apo/anaconda3/lib/python3.6/site-packages/twopoppy-0.0.0-py3.6.egg/twopoppy/distribution_reconstruction.py:213: RuntimeWarning: invalid value encountered in sqrt\n",
      "  a_fr = sig_g / (pi * rho_s) * (b - np.sqrt(b**2 - 4.))\n",
      "/home/apo/anaconda3/lib/python3.6/site-packages/twopoppy-0.0.0-py3.6.egg/twopoppy/distribution_reconstruction.py:30: RuntimeWarning: invalid value encountered in log10\n",
      "  return 10**(np.interp(np.log10(x_int), np.log10(x), np.log10(R)))\n",
      "/home/apo/anaconda3/lib/python3.6/site-packages/twopoppy-0.0.0-py3.6.egg/twopoppy/distribution_reconstruction.py:412: RuntimeWarning: overflow encountered in power\n",
      "  np.exp(A * ((r[mask] / ra)**p[mask] - 1.)))\n"
     ]
    },
    {
     "name": "stdout",
     "output_type": "stream",
     "text": [
      "toy model running ... Done!\n"
     ]
    },
    {
     "name": "stderr",
     "output_type": "stream",
     "text": [
      "/home/apo/anaconda3/lib/python3.6/site-packages/twopoppy-0.0.0-py3.6.egg/twopoppy/distribution_reconstruction.py:30: RuntimeWarning: invalid value encountered in log10\n",
      "  return 10**(np.interp(np.log10(x_int), np.log10(x), np.log10(R)))\n",
      "/home/apo/anaconda3/lib/python3.6/site-packages/twopoppy-0.0.0-py3.6.egg/twopoppy/distribution_reconstruction.py:412: RuntimeWarning: overflow encountered in power\n",
      "  np.exp(A * ((r[mask] / ra)**p[mask] - 1.)))\n"
     ]
    },
    {
     "name": "stdout",
     "output_type": "stream",
     "text": [
      "toy model running ... Done!\n"
     ]
    },
    {
     "name": "stderr",
     "output_type": "stream",
     "text": [
      "/home/apo/anaconda3/lib/python3.6/site-packages/twopoppy-0.0.0-py3.6.egg/twopoppy/distribution_reconstruction.py:213: RuntimeWarning: invalid value encountered in sqrt\n",
      "  a_fr = sig_g / (pi * rho_s) * (b - np.sqrt(b**2 - 4.))\n",
      "/home/apo/anaconda3/lib/python3.6/site-packages/twopoppy-0.0.0-py3.6.egg/twopoppy/distribution_reconstruction.py:30: RuntimeWarning: invalid value encountered in log10\n",
      "  return 10**(np.interp(np.log10(x_int), np.log10(x), np.log10(R)))\n",
      "/home/apo/anaconda3/lib/python3.6/site-packages/twopoppy-0.0.0-py3.6.egg/twopoppy/distribution_reconstruction.py:412: RuntimeWarning: overflow encountered in power\n",
      "  np.exp(A * ((r[mask] / ra)**p[mask] - 1.)))\n"
     ]
    },
    {
     "name": "stdout",
     "output_type": "stream",
     "text": [
      "toy model running ... Done!\n"
     ]
    },
    {
     "name": "stderr",
     "output_type": "stream",
     "text": [
      "/home/apo/anaconda3/lib/python3.6/site-packages/twopoppy-0.0.0-py3.6.egg/twopoppy/distribution_reconstruction.py:213: RuntimeWarning: invalid value encountered in sqrt\n",
      "  a_fr = sig_g / (pi * rho_s) * (b - np.sqrt(b**2 - 4.))\n",
      "/home/apo/anaconda3/lib/python3.6/site-packages/twopoppy-0.0.0-py3.6.egg/twopoppy/distribution_reconstruction.py:30: RuntimeWarning: invalid value encountered in log10\n",
      "  return 10**(np.interp(np.log10(x_int), np.log10(x), np.log10(R)))\n",
      "/home/apo/anaconda3/lib/python3.6/site-packages/twopoppy-0.0.0-py3.6.egg/twopoppy/distribution_reconstruction.py:412: RuntimeWarning: overflow encountered in power\n",
      "  np.exp(A * ((r[mask] / ra)**p[mask] - 1.)))\n"
     ]
    },
    {
     "name": "stdout",
     "output_type": "stream",
     "text": [
      "toy model running ... Done!\n"
     ]
    },
    {
     "name": "stderr",
     "output_type": "stream",
     "text": [
      "/home/apo/anaconda3/lib/python3.6/site-packages/twopoppy-0.0.0-py3.6.egg/twopoppy/distribution_reconstruction.py:213: RuntimeWarning: invalid value encountered in sqrt\n",
      "  a_fr = sig_g / (pi * rho_s) * (b - np.sqrt(b**2 - 4.))\n",
      "/home/apo/anaconda3/lib/python3.6/site-packages/twopoppy-0.0.0-py3.6.egg/twopoppy/distribution_reconstruction.py:30: RuntimeWarning: invalid value encountered in log10\n",
      "  return 10**(np.interp(np.log10(x_int), np.log10(x), np.log10(R)))\n",
      "/home/apo/anaconda3/lib/python3.6/site-packages/twopoppy-0.0.0-py3.6.egg/twopoppy/distribution_reconstruction.py:412: RuntimeWarning: overflow encountered in power\n",
      "  np.exp(A * ((r[mask] / ra)**p[mask] - 1.)))\n"
     ]
    },
    {
     "name": "stdout",
     "output_type": "stream",
     "text": [
      "toy model running ... Done!\n"
     ]
    },
    {
     "name": "stderr",
     "output_type": "stream",
     "text": [
      "/home/apo/anaconda3/lib/python3.6/site-packages/twopoppy-0.0.0-py3.6.egg/twopoppy/distribution_reconstruction.py:30: RuntimeWarning: invalid value encountered in log10\n",
      "  return 10**(np.interp(np.log10(x_int), np.log10(x), np.log10(R)))\n",
      "/home/apo/anaconda3/lib/python3.6/site-packages/twopoppy-0.0.0-py3.6.egg/twopoppy/distribution_reconstruction.py:412: RuntimeWarning: overflow encountered in power\n",
      "  np.exp(A * ((r[mask] / ra)**p[mask] - 1.)))\n"
     ]
    },
    {
     "name": "stdout",
     "output_type": "stream",
     "text": [
      "toy model running ... Done!\n"
     ]
    },
    {
     "name": "stderr",
     "output_type": "stream",
     "text": [
      "/home/apo/anaconda3/lib/python3.6/site-packages/twopoppy-0.0.0-py3.6.egg/twopoppy/distribution_reconstruction.py:213: RuntimeWarning: invalid value encountered in sqrt\n",
      "  a_fr = sig_g / (pi * rho_s) * (b - np.sqrt(b**2 - 4.))\n",
      "/home/apo/anaconda3/lib/python3.6/site-packages/twopoppy-0.0.0-py3.6.egg/twopoppy/distribution_reconstruction.py:30: RuntimeWarning: invalid value encountered in log10\n",
      "  return 10**(np.interp(np.log10(x_int), np.log10(x), np.log10(R)))\n",
      "/home/apo/anaconda3/lib/python3.6/site-packages/twopoppy-0.0.0-py3.6.egg/twopoppy/distribution_reconstruction.py:412: RuntimeWarning: overflow encountered in power\n",
      "  np.exp(A * ((r[mask] / ra)**p[mask] - 1.)))\n"
     ]
    },
    {
     "name": "stdout",
     "output_type": "stream",
     "text": [
      "toy model running ... Done!\n"
     ]
    },
    {
     "name": "stderr",
     "output_type": "stream",
     "text": [
      "/home/apo/anaconda3/lib/python3.6/site-packages/twopoppy-0.0.0-py3.6.egg/twopoppy/distribution_reconstruction.py:213: RuntimeWarning: invalid value encountered in sqrt\n",
      "  a_fr = sig_g / (pi * rho_s) * (b - np.sqrt(b**2 - 4.))\n",
      "/home/apo/anaconda3/lib/python3.6/site-packages/twopoppy-0.0.0-py3.6.egg/twopoppy/distribution_reconstruction.py:30: RuntimeWarning: invalid value encountered in log10\n",
      "  return 10**(np.interp(np.log10(x_int), np.log10(x), np.log10(R)))\n",
      "/home/apo/anaconda3/lib/python3.6/site-packages/twopoppy-0.0.0-py3.6.egg/twopoppy/distribution_reconstruction.py:412: RuntimeWarning: overflow encountered in power\n",
      "  np.exp(A * ((r[mask] / ra)**p[mask] - 1.)))\n"
     ]
    },
    {
     "name": "stdout",
     "output_type": "stream",
     "text": [
      "toy model running ... Done!\n"
     ]
    },
    {
     "name": "stderr",
     "output_type": "stream",
     "text": [
      "/home/apo/anaconda3/lib/python3.6/site-packages/twopoppy-0.0.0-py3.6.egg/twopoppy/distribution_reconstruction.py:213: RuntimeWarning: invalid value encountered in sqrt\n",
      "  a_fr = sig_g / (pi * rho_s) * (b - np.sqrt(b**2 - 4.))\n",
      "/home/apo/anaconda3/lib/python3.6/site-packages/twopoppy-0.0.0-py3.6.egg/twopoppy/distribution_reconstruction.py:30: RuntimeWarning: invalid value encountered in log10\n",
      "  return 10**(np.interp(np.log10(x_int), np.log10(x), np.log10(R)))\n",
      "/home/apo/anaconda3/lib/python3.6/site-packages/twopoppy-0.0.0-py3.6.egg/twopoppy/distribution_reconstruction.py:412: RuntimeWarning: overflow encountered in power\n",
      "  np.exp(A * ((r[mask] / ra)**p[mask] - 1.)))\n"
     ]
    },
    {
     "name": "stdout",
     "output_type": "stream",
     "text": [
      "toy model running ... Done!\n"
     ]
    },
    {
     "name": "stderr",
     "output_type": "stream",
     "text": [
      "/home/apo/anaconda3/lib/python3.6/site-packages/twopoppy-0.0.0-py3.6.egg/twopoppy/distribution_reconstruction.py:213: RuntimeWarning: invalid value encountered in sqrt\n",
      "  a_fr = sig_g / (pi * rho_s) * (b - np.sqrt(b**2 - 4.))\n",
      "/home/apo/anaconda3/lib/python3.6/site-packages/twopoppy-0.0.0-py3.6.egg/twopoppy/distribution_reconstruction.py:30: RuntimeWarning: invalid value encountered in log10\n",
      "  return 10**(np.interp(np.log10(x_int), np.log10(x), np.log10(R)))\n",
      "/home/apo/anaconda3/lib/python3.6/site-packages/twopoppy-0.0.0-py3.6.egg/twopoppy/distribution_reconstruction.py:412: RuntimeWarning: overflow encountered in power\n",
      "  np.exp(A * ((r[mask] / ra)**p[mask] - 1.)))\n"
     ]
    },
    {
     "name": "stdout",
     "output_type": "stream",
     "text": [
      "toy model running ... Done!\n"
     ]
    },
    {
     "name": "stderr",
     "output_type": "stream",
     "text": [
      "/home/apo/anaconda3/lib/python3.6/site-packages/twopoppy-0.0.0-py3.6.egg/twopoppy/distribution_reconstruction.py:213: RuntimeWarning: invalid value encountered in sqrt\n",
      "  a_fr = sig_g / (pi * rho_s) * (b - np.sqrt(b**2 - 4.))\n",
      "/home/apo/anaconda3/lib/python3.6/site-packages/twopoppy-0.0.0-py3.6.egg/twopoppy/distribution_reconstruction.py:30: RuntimeWarning: invalid value encountered in log10\n",
      "  return 10**(np.interp(np.log10(x_int), np.log10(x), np.log10(R)))\n",
      "/home/apo/anaconda3/lib/python3.6/site-packages/twopoppy-0.0.0-py3.6.egg/twopoppy/distribution_reconstruction.py:412: RuntimeWarning: overflow encountered in power\n",
      "  np.exp(A * ((r[mask] / ra)**p[mask] - 1.)))\n"
     ]
    },
    {
     "name": "stdout",
     "output_type": "stream",
     "text": [
      "toy model running ... Done!\n"
     ]
    },
    {
     "name": "stderr",
     "output_type": "stream",
     "text": [
      "/home/apo/anaconda3/lib/python3.6/site-packages/twopoppy-0.0.0-py3.6.egg/twopoppy/distribution_reconstruction.py:213: RuntimeWarning: invalid value encountered in sqrt\n",
      "  a_fr = sig_g / (pi * rho_s) * (b - np.sqrt(b**2 - 4.))\n",
      "/home/apo/anaconda3/lib/python3.6/site-packages/twopoppy-0.0.0-py3.6.egg/twopoppy/distribution_reconstruction.py:30: RuntimeWarning: invalid value encountered in log10\n",
      "  return 10**(np.interp(np.log10(x_int), np.log10(x), np.log10(R)))\n",
      "/home/apo/anaconda3/lib/python3.6/site-packages/twopoppy-0.0.0-py3.6.egg/twopoppy/distribution_reconstruction.py:412: RuntimeWarning: overflow encountered in power\n",
      "  np.exp(A * ((r[mask] / ra)**p[mask] - 1.)))\n"
     ]
    },
    {
     "name": "stdout",
     "output_type": "stream",
     "text": [
      "toy model running ... Done!\n"
     ]
    },
    {
     "name": "stderr",
     "output_type": "stream",
     "text": [
      "/home/apo/anaconda3/lib/python3.6/site-packages/twopoppy-0.0.0-py3.6.egg/twopoppy/distribution_reconstruction.py:213: RuntimeWarning: invalid value encountered in sqrt\n",
      "  a_fr = sig_g / (pi * rho_s) * (b - np.sqrt(b**2 - 4.))\n",
      "/home/apo/anaconda3/lib/python3.6/site-packages/twopoppy-0.0.0-py3.6.egg/twopoppy/distribution_reconstruction.py:30: RuntimeWarning: invalid value encountered in log10\n",
      "  return 10**(np.interp(np.log10(x_int), np.log10(x), np.log10(R)))\n",
      "/home/apo/anaconda3/lib/python3.6/site-packages/twopoppy-0.0.0-py3.6.egg/twopoppy/distribution_reconstruction.py:412: RuntimeWarning: overflow encountered in power\n",
      "  np.exp(A * ((r[mask] / ra)**p[mask] - 1.)))\n"
     ]
    },
    {
     "name": "stdout",
     "output_type": "stream",
     "text": [
      "toy model running ... Done!\n"
     ]
    },
    {
     "name": "stderr",
     "output_type": "stream",
     "text": [
      "/home/apo/anaconda3/lib/python3.6/site-packages/twopoppy-0.0.0-py3.6.egg/twopoppy/distribution_reconstruction.py:213: RuntimeWarning: invalid value encountered in sqrt\n",
      "  a_fr = sig_g / (pi * rho_s) * (b - np.sqrt(b**2 - 4.))\n",
      "/home/apo/anaconda3/lib/python3.6/site-packages/twopoppy-0.0.0-py3.6.egg/twopoppy/distribution_reconstruction.py:30: RuntimeWarning: invalid value encountered in log10\n",
      "  return 10**(np.interp(np.log10(x_int), np.log10(x), np.log10(R)))\n",
      "/home/apo/anaconda3/lib/python3.6/site-packages/twopoppy-0.0.0-py3.6.egg/twopoppy/distribution_reconstruction.py:412: RuntimeWarning: overflow encountered in power\n",
      "  np.exp(A * ((r[mask] / ra)**p[mask] - 1.)))\n"
     ]
    },
    {
     "name": "stdout",
     "output_type": "stream",
     "text": [
      "toy model running ... Done!\n"
     ]
    },
    {
     "name": "stderr",
     "output_type": "stream",
     "text": [
      "/home/apo/anaconda3/lib/python3.6/site-packages/twopoppy-0.0.0-py3.6.egg/twopoppy/distribution_reconstruction.py:213: RuntimeWarning: invalid value encountered in sqrt\n",
      "  a_fr = sig_g / (pi * rho_s) * (b - np.sqrt(b**2 - 4.))\n",
      "/home/apo/anaconda3/lib/python3.6/site-packages/twopoppy-0.0.0-py3.6.egg/twopoppy/distribution_reconstruction.py:30: RuntimeWarning: invalid value encountered in log10\n",
      "  return 10**(np.interp(np.log10(x_int), np.log10(x), np.log10(R)))\n",
      "/home/apo/anaconda3/lib/python3.6/site-packages/twopoppy-0.0.0-py3.6.egg/twopoppy/distribution_reconstruction.py:412: RuntimeWarning: overflow encountered in power\n",
      "  np.exp(A * ((r[mask] / ra)**p[mask] - 1.)))\n"
     ]
    },
    {
     "name": "stdout",
     "output_type": "stream",
     "text": [
      "toy model running ... Done!\n"
     ]
    },
    {
     "name": "stderr",
     "output_type": "stream",
     "text": [
      "/home/apo/anaconda3/lib/python3.6/site-packages/twopoppy-0.0.0-py3.6.egg/twopoppy/distribution_reconstruction.py:213: RuntimeWarning: invalid value encountered in sqrt\n",
      "  a_fr = sig_g / (pi * rho_s) * (b - np.sqrt(b**2 - 4.))\n",
      "/home/apo/anaconda3/lib/python3.6/site-packages/twopoppy-0.0.0-py3.6.egg/twopoppy/distribution_reconstruction.py:30: RuntimeWarning: invalid value encountered in log10\n",
      "  return 10**(np.interp(np.log10(x_int), np.log10(x), np.log10(R)))\n",
      "/home/apo/anaconda3/lib/python3.6/site-packages/twopoppy-0.0.0-py3.6.egg/twopoppy/distribution_reconstruction.py:412: RuntimeWarning: overflow encountered in power\n",
      "  np.exp(A * ((r[mask] / ra)**p[mask] - 1.)))\n"
     ]
    },
    {
     "name": "stdout",
     "output_type": "stream",
     "text": [
      "toy model running ... Done!\n"
     ]
    },
    {
     "name": "stderr",
     "output_type": "stream",
     "text": [
      "/home/apo/anaconda3/lib/python3.6/site-packages/twopoppy-0.0.0-py3.6.egg/twopoppy/distribution_reconstruction.py:213: RuntimeWarning: invalid value encountered in sqrt\n",
      "  a_fr = sig_g / (pi * rho_s) * (b - np.sqrt(b**2 - 4.))\n",
      "/home/apo/anaconda3/lib/python3.6/site-packages/twopoppy-0.0.0-py3.6.egg/twopoppy/distribution_reconstruction.py:30: RuntimeWarning: invalid value encountered in log10\n",
      "  return 10**(np.interp(np.log10(x_int), np.log10(x), np.log10(R)))\n",
      "/home/apo/anaconda3/lib/python3.6/site-packages/twopoppy-0.0.0-py3.6.egg/twopoppy/distribution_reconstruction.py:412: RuntimeWarning: overflow encountered in power\n",
      "  np.exp(A * ((r[mask] / ra)**p[mask] - 1.)))\n"
     ]
    },
    {
     "name": "stdout",
     "output_type": "stream",
     "text": [
      "toy model running ... Done!\n"
     ]
    },
    {
     "name": "stderr",
     "output_type": "stream",
     "text": [
      "/home/apo/anaconda3/lib/python3.6/site-packages/twopoppy-0.0.0-py3.6.egg/twopoppy/distribution_reconstruction.py:213: RuntimeWarning: invalid value encountered in sqrt\n",
      "  a_fr = sig_g / (pi * rho_s) * (b - np.sqrt(b**2 - 4.))\n",
      "/home/apo/anaconda3/lib/python3.6/site-packages/twopoppy-0.0.0-py3.6.egg/twopoppy/distribution_reconstruction.py:30: RuntimeWarning: invalid value encountered in log10\n",
      "  return 10**(np.interp(np.log10(x_int), np.log10(x), np.log10(R)))\n",
      "/home/apo/anaconda3/lib/python3.6/site-packages/twopoppy-0.0.0-py3.6.egg/twopoppy/distribution_reconstruction.py:412: RuntimeWarning: overflow encountered in power\n",
      "  np.exp(A * ((r[mask] / ra)**p[mask] - 1.)))\n"
     ]
    },
    {
     "name": "stdout",
     "output_type": "stream",
     "text": [
      "toy model running ... Done!\n"
     ]
    },
    {
     "name": "stderr",
     "output_type": "stream",
     "text": [
      "/home/apo/anaconda3/lib/python3.6/site-packages/twopoppy-0.0.0-py3.6.egg/twopoppy/distribution_reconstruction.py:213: RuntimeWarning: invalid value encountered in sqrt\n",
      "  a_fr = sig_g / (pi * rho_s) * (b - np.sqrt(b**2 - 4.))\n",
      "/home/apo/anaconda3/lib/python3.6/site-packages/twopoppy-0.0.0-py3.6.egg/twopoppy/distribution_reconstruction.py:30: RuntimeWarning: invalid value encountered in log10\n",
      "  return 10**(np.interp(np.log10(x_int), np.log10(x), np.log10(R)))\n",
      "/home/apo/anaconda3/lib/python3.6/site-packages/twopoppy-0.0.0-py3.6.egg/twopoppy/distribution_reconstruction.py:412: RuntimeWarning: overflow encountered in power\n",
      "  np.exp(A * ((r[mask] / ra)**p[mask] - 1.)))\n"
     ]
    },
    {
     "name": "stdout",
     "output_type": "stream",
     "text": [
      "toy model running ... Done!\n"
     ]
    },
    {
     "name": "stderr",
     "output_type": "stream",
     "text": [
      "/home/apo/anaconda3/lib/python3.6/site-packages/twopoppy-0.0.0-py3.6.egg/twopoppy/distribution_reconstruction.py:213: RuntimeWarning: invalid value encountered in sqrt\n",
      "  a_fr = sig_g / (pi * rho_s) * (b - np.sqrt(b**2 - 4.))\n",
      "/home/apo/anaconda3/lib/python3.6/site-packages/twopoppy-0.0.0-py3.6.egg/twopoppy/distribution_reconstruction.py:30: RuntimeWarning: invalid value encountered in log10\n",
      "  return 10**(np.interp(np.log10(x_int), np.log10(x), np.log10(R)))\n",
      "/home/apo/anaconda3/lib/python3.6/site-packages/twopoppy-0.0.0-py3.6.egg/twopoppy/distribution_reconstruction.py:412: RuntimeWarning: overflow encountered in power\n",
      "  np.exp(A * ((r[mask] / ra)**p[mask] - 1.)))\n"
     ]
    },
    {
     "name": "stdout",
     "output_type": "stream",
     "text": [
      "toy model running ... Done!\n"
     ]
    },
    {
     "name": "stderr",
     "output_type": "stream",
     "text": [
      "/home/apo/anaconda3/lib/python3.6/site-packages/twopoppy-0.0.0-py3.6.egg/twopoppy/distribution_reconstruction.py:213: RuntimeWarning: invalid value encountered in sqrt\n",
      "  a_fr = sig_g / (pi * rho_s) * (b - np.sqrt(b**2 - 4.))\n",
      "/home/apo/anaconda3/lib/python3.6/site-packages/twopoppy-0.0.0-py3.6.egg/twopoppy/distribution_reconstruction.py:30: RuntimeWarning: invalid value encountered in log10\n",
      "  return 10**(np.interp(np.log10(x_int), np.log10(x), np.log10(R)))\n",
      "/home/apo/anaconda3/lib/python3.6/site-packages/twopoppy-0.0.0-py3.6.egg/twopoppy/distribution_reconstruction.py:412: RuntimeWarning: overflow encountered in power\n",
      "  np.exp(A * ((r[mask] / ra)**p[mask] - 1.)))\n"
     ]
    },
    {
     "name": "stdout",
     "output_type": "stream",
     "text": [
      "toy model running ... Done!\n"
     ]
    },
    {
     "name": "stderr",
     "output_type": "stream",
     "text": [
      "/home/apo/anaconda3/lib/python3.6/site-packages/twopoppy-0.0.0-py3.6.egg/twopoppy/distribution_reconstruction.py:213: RuntimeWarning: invalid value encountered in sqrt\n",
      "  a_fr = sig_g / (pi * rho_s) * (b - np.sqrt(b**2 - 4.))\n",
      "/home/apo/anaconda3/lib/python3.6/site-packages/twopoppy-0.0.0-py3.6.egg/twopoppy/distribution_reconstruction.py:30: RuntimeWarning: invalid value encountered in log10\n",
      "  return 10**(np.interp(np.log10(x_int), np.log10(x), np.log10(R)))\n",
      "/home/apo/anaconda3/lib/python3.6/site-packages/twopoppy-0.0.0-py3.6.egg/twopoppy/distribution_reconstruction.py:412: RuntimeWarning: overflow encountered in power\n",
      "  np.exp(A * ((r[mask] / ra)**p[mask] - 1.)))\n"
     ]
    },
    {
     "name": "stdout",
     "output_type": "stream",
     "text": [
      "toy model running ... Done!\n"
     ]
    },
    {
     "name": "stderr",
     "output_type": "stream",
     "text": [
      "/home/apo/anaconda3/lib/python3.6/site-packages/twopoppy-0.0.0-py3.6.egg/twopoppy/distribution_reconstruction.py:213: RuntimeWarning: invalid value encountered in sqrt\n",
      "  a_fr = sig_g / (pi * rho_s) * (b - np.sqrt(b**2 - 4.))\n",
      "/home/apo/anaconda3/lib/python3.6/site-packages/twopoppy-0.0.0-py3.6.egg/twopoppy/distribution_reconstruction.py:30: RuntimeWarning: invalid value encountered in log10\n",
      "  return 10**(np.interp(np.log10(x_int), np.log10(x), np.log10(R)))\n",
      "/home/apo/anaconda3/lib/python3.6/site-packages/twopoppy-0.0.0-py3.6.egg/twopoppy/distribution_reconstruction.py:412: RuntimeWarning: overflow encountered in power\n",
      "  np.exp(A * ((r[mask] / ra)**p[mask] - 1.)))\n"
     ]
    },
    {
     "name": "stdout",
     "output_type": "stream",
     "text": [
      "toy model running ... Done!\n"
     ]
    },
    {
     "name": "stderr",
     "output_type": "stream",
     "text": [
      "/home/apo/anaconda3/lib/python3.6/site-packages/twopoppy-0.0.0-py3.6.egg/twopoppy/distribution_reconstruction.py:213: RuntimeWarning: invalid value encountered in sqrt\n",
      "  a_fr = sig_g / (pi * rho_s) * (b - np.sqrt(b**2 - 4.))\n",
      "/home/apo/anaconda3/lib/python3.6/site-packages/twopoppy-0.0.0-py3.6.egg/twopoppy/distribution_reconstruction.py:30: RuntimeWarning: invalid value encountered in log10\n",
      "  return 10**(np.interp(np.log10(x_int), np.log10(x), np.log10(R)))\n",
      "/home/apo/anaconda3/lib/python3.6/site-packages/twopoppy-0.0.0-py3.6.egg/twopoppy/distribution_reconstruction.py:412: RuntimeWarning: overflow encountered in power\n",
      "  np.exp(A * ((r[mask] / ra)**p[mask] - 1.)))\n"
     ]
    },
    {
     "name": "stdout",
     "output_type": "stream",
     "text": [
      "toy model running ... Done!\n"
     ]
    },
    {
     "name": "stderr",
     "output_type": "stream",
     "text": [
      "/home/apo/anaconda3/lib/python3.6/site-packages/twopoppy-0.0.0-py3.6.egg/twopoppy/distribution_reconstruction.py:213: RuntimeWarning: invalid value encountered in sqrt\n",
      "  a_fr = sig_g / (pi * rho_s) * (b - np.sqrt(b**2 - 4.))\n",
      "/home/apo/anaconda3/lib/python3.6/site-packages/twopoppy-0.0.0-py3.6.egg/twopoppy/distribution_reconstruction.py:30: RuntimeWarning: invalid value encountered in log10\n",
      "  return 10**(np.interp(np.log10(x_int), np.log10(x), np.log10(R)))\n",
      "/home/apo/anaconda3/lib/python3.6/site-packages/twopoppy-0.0.0-py3.6.egg/twopoppy/distribution_reconstruction.py:412: RuntimeWarning: overflow encountered in power\n",
      "  np.exp(A * ((r[mask] / ra)**p[mask] - 1.)))\n"
     ]
    },
    {
     "name": "stdout",
     "output_type": "stream",
     "text": [
      "toy model running ... Done!\n"
     ]
    },
    {
     "name": "stderr",
     "output_type": "stream",
     "text": [
      "/home/apo/anaconda3/lib/python3.6/site-packages/twopoppy-0.0.0-py3.6.egg/twopoppy/distribution_reconstruction.py:213: RuntimeWarning: invalid value encountered in sqrt\n",
      "  a_fr = sig_g / (pi * rho_s) * (b - np.sqrt(b**2 - 4.))\n",
      "/home/apo/anaconda3/lib/python3.6/site-packages/twopoppy-0.0.0-py3.6.egg/twopoppy/distribution_reconstruction.py:30: RuntimeWarning: invalid value encountered in log10\n",
      "  return 10**(np.interp(np.log10(x_int), np.log10(x), np.log10(R)))\n",
      "/home/apo/anaconda3/lib/python3.6/site-packages/twopoppy-0.0.0-py3.6.egg/twopoppy/distribution_reconstruction.py:412: RuntimeWarning: overflow encountered in power\n",
      "  np.exp(A * ((r[mask] / ra)**p[mask] - 1.)))\n"
     ]
    },
    {
     "name": "stdout",
     "output_type": "stream",
     "text": [
      "toy model running ... Done!\n"
     ]
    },
    {
     "name": "stderr",
     "output_type": "stream",
     "text": [
      "/home/apo/anaconda3/lib/python3.6/site-packages/twopoppy-0.0.0-py3.6.egg/twopoppy/distribution_reconstruction.py:213: RuntimeWarning: invalid value encountered in sqrt\n",
      "  a_fr = sig_g / (pi * rho_s) * (b - np.sqrt(b**2 - 4.))\n",
      "/home/apo/anaconda3/lib/python3.6/site-packages/twopoppy-0.0.0-py3.6.egg/twopoppy/distribution_reconstruction.py:30: RuntimeWarning: invalid value encountered in log10\n",
      "  return 10**(np.interp(np.log10(x_int), np.log10(x), np.log10(R)))\n",
      "/home/apo/anaconda3/lib/python3.6/site-packages/twopoppy-0.0.0-py3.6.egg/twopoppy/distribution_reconstruction.py:412: RuntimeWarning: overflow encountered in power\n",
      "  np.exp(A * ((r[mask] / ra)**p[mask] - 1.)))\n"
     ]
    },
    {
     "name": "stdout",
     "output_type": "stream",
     "text": [
      "toy model running ... Done!\n"
     ]
    },
    {
     "name": "stderr",
     "output_type": "stream",
     "text": [
      "/home/apo/anaconda3/lib/python3.6/site-packages/twopoppy-0.0.0-py3.6.egg/twopoppy/distribution_reconstruction.py:213: RuntimeWarning: invalid value encountered in sqrt\n",
      "  a_fr = sig_g / (pi * rho_s) * (b - np.sqrt(b**2 - 4.))\n",
      "/home/apo/anaconda3/lib/python3.6/site-packages/twopoppy-0.0.0-py3.6.egg/twopoppy/distribution_reconstruction.py:30: RuntimeWarning: invalid value encountered in log10\n",
      "  return 10**(np.interp(np.log10(x_int), np.log10(x), np.log10(R)))\n",
      "/home/apo/anaconda3/lib/python3.6/site-packages/twopoppy-0.0.0-py3.6.egg/twopoppy/distribution_reconstruction.py:412: RuntimeWarning: overflow encountered in power\n",
      "  np.exp(A * ((r[mask] / ra)**p[mask] - 1.)))\n"
     ]
    },
    {
     "name": "stdout",
     "output_type": "stream",
     "text": [
      "toy model running ... Done!\n"
     ]
    },
    {
     "name": "stderr",
     "output_type": "stream",
     "text": [
      "/home/apo/anaconda3/lib/python3.6/site-packages/twopoppy-0.0.0-py3.6.egg/twopoppy/distribution_reconstruction.py:213: RuntimeWarning: invalid value encountered in sqrt\n",
      "  a_fr = sig_g / (pi * rho_s) * (b - np.sqrt(b**2 - 4.))\n",
      "/home/apo/anaconda3/lib/python3.6/site-packages/twopoppy-0.0.0-py3.6.egg/twopoppy/distribution_reconstruction.py:30: RuntimeWarning: invalid value encountered in log10\n",
      "  return 10**(np.interp(np.log10(x_int), np.log10(x), np.log10(R)))\n",
      "/home/apo/anaconda3/lib/python3.6/site-packages/twopoppy-0.0.0-py3.6.egg/twopoppy/distribution_reconstruction.py:412: RuntimeWarning: overflow encountered in power\n",
      "  np.exp(A * ((r[mask] / ra)**p[mask] - 1.)))\n"
     ]
    },
    {
     "name": "stdout",
     "output_type": "stream",
     "text": [
      "toy model running ... Done!\n"
     ]
    },
    {
     "name": "stderr",
     "output_type": "stream",
     "text": [
      "/home/apo/anaconda3/lib/python3.6/site-packages/twopoppy-0.0.0-py3.6.egg/twopoppy/distribution_reconstruction.py:213: RuntimeWarning: invalid value encountered in sqrt\n",
      "  a_fr = sig_g / (pi * rho_s) * (b - np.sqrt(b**2 - 4.))\n",
      "/home/apo/anaconda3/lib/python3.6/site-packages/twopoppy-0.0.0-py3.6.egg/twopoppy/distribution_reconstruction.py:30: RuntimeWarning: invalid value encountered in log10\n",
      "  return 10**(np.interp(np.log10(x_int), np.log10(x), np.log10(R)))\n",
      "/home/apo/anaconda3/lib/python3.6/site-packages/twopoppy-0.0.0-py3.6.egg/twopoppy/distribution_reconstruction.py:412: RuntimeWarning: overflow encountered in power\n",
      "  np.exp(A * ((r[mask] / ra)**p[mask] - 1.)))\n"
     ]
    },
    {
     "name": "stdout",
     "output_type": "stream",
     "text": [
      "toy model running ... Done!\n"
     ]
    },
    {
     "name": "stderr",
     "output_type": "stream",
     "text": [
      "/home/apo/anaconda3/lib/python3.6/site-packages/twopoppy-0.0.0-py3.6.egg/twopoppy/distribution_reconstruction.py:213: RuntimeWarning: invalid value encountered in sqrt\n",
      "  a_fr = sig_g / (pi * rho_s) * (b - np.sqrt(b**2 - 4.))\n",
      "/home/apo/anaconda3/lib/python3.6/site-packages/twopoppy-0.0.0-py3.6.egg/twopoppy/distribution_reconstruction.py:30: RuntimeWarning: invalid value encountered in log10\n",
      "  return 10**(np.interp(np.log10(x_int), np.log10(x), np.log10(R)))\n",
      "/home/apo/anaconda3/lib/python3.6/site-packages/twopoppy-0.0.0-py3.6.egg/twopoppy/distribution_reconstruction.py:412: RuntimeWarning: overflow encountered in power\n",
      "  np.exp(A * ((r[mask] / ra)**p[mask] - 1.)))\n"
     ]
    },
    {
     "name": "stdout",
     "output_type": "stream",
     "text": [
      "toy model running ... Done!\n"
     ]
    },
    {
     "name": "stderr",
     "output_type": "stream",
     "text": [
      "/home/apo/anaconda3/lib/python3.6/site-packages/twopoppy-0.0.0-py3.6.egg/twopoppy/distribution_reconstruction.py:213: RuntimeWarning: invalid value encountered in sqrt\n",
      "  a_fr = sig_g / (pi * rho_s) * (b - np.sqrt(b**2 - 4.))\n",
      "/home/apo/anaconda3/lib/python3.6/site-packages/twopoppy-0.0.0-py3.6.egg/twopoppy/distribution_reconstruction.py:30: RuntimeWarning: invalid value encountered in log10\n",
      "  return 10**(np.interp(np.log10(x_int), np.log10(x), np.log10(R)))\n",
      "/home/apo/anaconda3/lib/python3.6/site-packages/twopoppy-0.0.0-py3.6.egg/twopoppy/distribution_reconstruction.py:412: RuntimeWarning: overflow encountered in power\n",
      "  np.exp(A * ((r[mask] / ra)**p[mask] - 1.)))\n"
     ]
    },
    {
     "name": "stdout",
     "output_type": "stream",
     "text": [
      "toy model running ... Done!\n"
     ]
    },
    {
     "name": "stderr",
     "output_type": "stream",
     "text": [
      "/home/apo/anaconda3/lib/python3.6/site-packages/twopoppy-0.0.0-py3.6.egg/twopoppy/distribution_reconstruction.py:213: RuntimeWarning: invalid value encountered in sqrt\n",
      "  a_fr = sig_g / (pi * rho_s) * (b - np.sqrt(b**2 - 4.))\n",
      "/home/apo/anaconda3/lib/python3.6/site-packages/twopoppy-0.0.0-py3.6.egg/twopoppy/distribution_reconstruction.py:30: RuntimeWarning: invalid value encountered in log10\n",
      "  return 10**(np.interp(np.log10(x_int), np.log10(x), np.log10(R)))\n",
      "/home/apo/anaconda3/lib/python3.6/site-packages/twopoppy-0.0.0-py3.6.egg/twopoppy/distribution_reconstruction.py:412: RuntimeWarning: overflow encountered in power\n",
      "  np.exp(A * ((r[mask] / ra)**p[mask] - 1.)))\n"
     ]
    },
    {
     "name": "stdout",
     "output_type": "stream",
     "text": [
      "toy model running ... Done!\n"
     ]
    },
    {
     "name": "stderr",
     "output_type": "stream",
     "text": [
      "/home/apo/anaconda3/lib/python3.6/site-packages/twopoppy-0.0.0-py3.6.egg/twopoppy/distribution_reconstruction.py:213: RuntimeWarning: invalid value encountered in sqrt\n",
      "  a_fr = sig_g / (pi * rho_s) * (b - np.sqrt(b**2 - 4.))\n",
      "/home/apo/anaconda3/lib/python3.6/site-packages/twopoppy-0.0.0-py3.6.egg/twopoppy/distribution_reconstruction.py:30: RuntimeWarning: invalid value encountered in log10\n",
      "  return 10**(np.interp(np.log10(x_int), np.log10(x), np.log10(R)))\n",
      "/home/apo/anaconda3/lib/python3.6/site-packages/twopoppy-0.0.0-py3.6.egg/twopoppy/distribution_reconstruction.py:412: RuntimeWarning: overflow encountered in power\n",
      "  np.exp(A * ((r[mask] / ra)**p[mask] - 1.)))\n"
     ]
    },
    {
     "name": "stdout",
     "output_type": "stream",
     "text": [
      "toy model running ... Done!\n"
     ]
    },
    {
     "name": "stderr",
     "output_type": "stream",
     "text": [
      "/home/apo/anaconda3/lib/python3.6/site-packages/twopoppy-0.0.0-py3.6.egg/twopoppy/distribution_reconstruction.py:213: RuntimeWarning: invalid value encountered in sqrt\n",
      "  a_fr = sig_g / (pi * rho_s) * (b - np.sqrt(b**2 - 4.))\n",
      "/home/apo/anaconda3/lib/python3.6/site-packages/twopoppy-0.0.0-py3.6.egg/twopoppy/distribution_reconstruction.py:30: RuntimeWarning: invalid value encountered in log10\n",
      "  return 10**(np.interp(np.log10(x_int), np.log10(x), np.log10(R)))\n",
      "/home/apo/anaconda3/lib/python3.6/site-packages/twopoppy-0.0.0-py3.6.egg/twopoppy/distribution_reconstruction.py:412: RuntimeWarning: overflow encountered in power\n",
      "  np.exp(A * ((r[mask] / ra)**p[mask] - 1.)))\n"
     ]
    },
    {
     "name": "stdout",
     "output_type": "stream",
     "text": [
      "toy model running ... Done!\n"
     ]
    },
    {
     "name": "stderr",
     "output_type": "stream",
     "text": [
      "/home/apo/anaconda3/lib/python3.6/site-packages/twopoppy-0.0.0-py3.6.egg/twopoppy/distribution_reconstruction.py:213: RuntimeWarning: invalid value encountered in sqrt\n",
      "  a_fr = sig_g / (pi * rho_s) * (b - np.sqrt(b**2 - 4.))\n",
      "/home/apo/anaconda3/lib/python3.6/site-packages/twopoppy-0.0.0-py3.6.egg/twopoppy/distribution_reconstruction.py:30: RuntimeWarning: invalid value encountered in log10\n",
      "  return 10**(np.interp(np.log10(x_int), np.log10(x), np.log10(R)))\n",
      "/home/apo/anaconda3/lib/python3.6/site-packages/twopoppy-0.0.0-py3.6.egg/twopoppy/distribution_reconstruction.py:412: RuntimeWarning: overflow encountered in power\n",
      "  np.exp(A * ((r[mask] / ra)**p[mask] - 1.)))\n"
     ]
    },
    {
     "name": "stdout",
     "output_type": "stream",
     "text": [
      "toy model running ... Done!\n"
     ]
    },
    {
     "name": "stderr",
     "output_type": "stream",
     "text": [
      "/home/apo/anaconda3/lib/python3.6/site-packages/twopoppy-0.0.0-py3.6.egg/twopoppy/distribution_reconstruction.py:213: RuntimeWarning: invalid value encountered in sqrt\n",
      "  a_fr = sig_g / (pi * rho_s) * (b - np.sqrt(b**2 - 4.))\n",
      "/home/apo/anaconda3/lib/python3.6/site-packages/twopoppy-0.0.0-py3.6.egg/twopoppy/distribution_reconstruction.py:30: RuntimeWarning: invalid value encountered in log10\n",
      "  return 10**(np.interp(np.log10(x_int), np.log10(x), np.log10(R)))\n",
      "/home/apo/anaconda3/lib/python3.6/site-packages/twopoppy-0.0.0-py3.6.egg/twopoppy/distribution_reconstruction.py:412: RuntimeWarning: overflow encountered in power\n",
      "  np.exp(A * ((r[mask] / ra)**p[mask] - 1.)))\n"
     ]
    },
    {
     "name": "stdout",
     "output_type": "stream",
     "text": [
      "toy model running ... Done!\n"
     ]
    },
    {
     "name": "stderr",
     "output_type": "stream",
     "text": [
      "/home/apo/anaconda3/lib/python3.6/site-packages/twopoppy-0.0.0-py3.6.egg/twopoppy/distribution_reconstruction.py:213: RuntimeWarning: invalid value encountered in sqrt\n",
      "  a_fr = sig_g / (pi * rho_s) * (b - np.sqrt(b**2 - 4.))\n",
      "/home/apo/anaconda3/lib/python3.6/site-packages/twopoppy-0.0.0-py3.6.egg/twopoppy/distribution_reconstruction.py:30: RuntimeWarning: invalid value encountered in log10\n",
      "  return 10**(np.interp(np.log10(x_int), np.log10(x), np.log10(R)))\n",
      "/home/apo/anaconda3/lib/python3.6/site-packages/twopoppy-0.0.0-py3.6.egg/twopoppy/distribution_reconstruction.py:412: RuntimeWarning: overflow encountered in power\n",
      "  np.exp(A * ((r[mask] / ra)**p[mask] - 1.)))\n"
     ]
    },
    {
     "name": "stdout",
     "output_type": "stream",
     "text": [
      "toy model running ... Done!\n"
     ]
    },
    {
     "name": "stderr",
     "output_type": "stream",
     "text": [
      "/home/apo/anaconda3/lib/python3.6/site-packages/twopoppy-0.0.0-py3.6.egg/twopoppy/distribution_reconstruction.py:213: RuntimeWarning: invalid value encountered in sqrt\n",
      "  a_fr = sig_g / (pi * rho_s) * (b - np.sqrt(b**2 - 4.))\n",
      "/home/apo/anaconda3/lib/python3.6/site-packages/twopoppy-0.0.0-py3.6.egg/twopoppy/distribution_reconstruction.py:30: RuntimeWarning: invalid value encountered in log10\n",
      "  return 10**(np.interp(np.log10(x_int), np.log10(x), np.log10(R)))\n",
      "/home/apo/anaconda3/lib/python3.6/site-packages/twopoppy-0.0.0-py3.6.egg/twopoppy/distribution_reconstruction.py:412: RuntimeWarning: overflow encountered in power\n",
      "  np.exp(A * ((r[mask] / ra)**p[mask] - 1.)))\n"
     ]
    },
    {
     "name": "stdout",
     "output_type": "stream",
     "text": [
      "toy model running ... Done!\n"
     ]
    },
    {
     "name": "stderr",
     "output_type": "stream",
     "text": [
      "/home/apo/anaconda3/lib/python3.6/site-packages/twopoppy-0.0.0-py3.6.egg/twopoppy/distribution_reconstruction.py:213: RuntimeWarning: invalid value encountered in sqrt\n",
      "  a_fr = sig_g / (pi * rho_s) * (b - np.sqrt(b**2 - 4.))\n",
      "/home/apo/anaconda3/lib/python3.6/site-packages/twopoppy-0.0.0-py3.6.egg/twopoppy/distribution_reconstruction.py:30: RuntimeWarning: invalid value encountered in log10\n",
      "  return 10**(np.interp(np.log10(x_int), np.log10(x), np.log10(R)))\n",
      "/home/apo/anaconda3/lib/python3.6/site-packages/twopoppy-0.0.0-py3.6.egg/twopoppy/distribution_reconstruction.py:412: RuntimeWarning: overflow encountered in power\n",
      "  np.exp(A * ((r[mask] / ra)**p[mask] - 1.)))\n"
     ]
    },
    {
     "name": "stdout",
     "output_type": "stream",
     "text": [
      "toy model running ... Done!\n"
     ]
    },
    {
     "name": "stderr",
     "output_type": "stream",
     "text": [
      "/home/apo/anaconda3/lib/python3.6/site-packages/twopoppy-0.0.0-py3.6.egg/twopoppy/distribution_reconstruction.py:213: RuntimeWarning: invalid value encountered in sqrt\n",
      "  a_fr = sig_g / (pi * rho_s) * (b - np.sqrt(b**2 - 4.))\n",
      "/home/apo/anaconda3/lib/python3.6/site-packages/twopoppy-0.0.0-py3.6.egg/twopoppy/distribution_reconstruction.py:30: RuntimeWarning: invalid value encountered in log10\n",
      "  return 10**(np.interp(np.log10(x_int), np.log10(x), np.log10(R)))\n",
      "/home/apo/anaconda3/lib/python3.6/site-packages/twopoppy-0.0.0-py3.6.egg/twopoppy/distribution_reconstruction.py:412: RuntimeWarning: overflow encountered in power\n",
      "  np.exp(A * ((r[mask] / ra)**p[mask] - 1.)))\n"
     ]
    },
    {
     "name": "stdout",
     "output_type": "stream",
     "text": [
      "toy model running ... Done!\n"
     ]
    },
    {
     "name": "stderr",
     "output_type": "stream",
     "text": [
      "/home/apo/anaconda3/lib/python3.6/site-packages/twopoppy-0.0.0-py3.6.egg/twopoppy/distribution_reconstruction.py:213: RuntimeWarning: invalid value encountered in sqrt\n",
      "  a_fr = sig_g / (pi * rho_s) * (b - np.sqrt(b**2 - 4.))\n",
      "/home/apo/anaconda3/lib/python3.6/site-packages/twopoppy-0.0.0-py3.6.egg/twopoppy/distribution_reconstruction.py:30: RuntimeWarning: invalid value encountered in log10\n",
      "  return 10**(np.interp(np.log10(x_int), np.log10(x), np.log10(R)))\n",
      "/home/apo/anaconda3/lib/python3.6/site-packages/twopoppy-0.0.0-py3.6.egg/twopoppy/distribution_reconstruction.py:412: RuntimeWarning: overflow encountered in power\n",
      "  np.exp(A * ((r[mask] / ra)**p[mask] - 1.)))\n"
     ]
    },
    {
     "name": "stdout",
     "output_type": "stream",
     "text": [
      "toy model running ... Done!\n"
     ]
    },
    {
     "name": "stderr",
     "output_type": "stream",
     "text": [
      "/home/apo/anaconda3/lib/python3.6/site-packages/twopoppy-0.0.0-py3.6.egg/twopoppy/distribution_reconstruction.py:213: RuntimeWarning: invalid value encountered in sqrt\n",
      "  a_fr = sig_g / (pi * rho_s) * (b - np.sqrt(b**2 - 4.))\n",
      "/home/apo/anaconda3/lib/python3.6/site-packages/twopoppy-0.0.0-py3.6.egg/twopoppy/distribution_reconstruction.py:30: RuntimeWarning: invalid value encountered in log10\n",
      "  return 10**(np.interp(np.log10(x_int), np.log10(x), np.log10(R)))\n",
      "/home/apo/anaconda3/lib/python3.6/site-packages/twopoppy-0.0.0-py3.6.egg/twopoppy/distribution_reconstruction.py:412: RuntimeWarning: overflow encountered in power\n",
      "  np.exp(A * ((r[mask] / ra)**p[mask] - 1.)))\n"
     ]
    },
    {
     "name": "stdout",
     "output_type": "stream",
     "text": [
      "toy model running ... Done!\n"
     ]
    },
    {
     "name": "stderr",
     "output_type": "stream",
     "text": [
      "/home/apo/anaconda3/lib/python3.6/site-packages/twopoppy-0.0.0-py3.6.egg/twopoppy/distribution_reconstruction.py:213: RuntimeWarning: invalid value encountered in sqrt\n",
      "  a_fr = sig_g / (pi * rho_s) * (b - np.sqrt(b**2 - 4.))\n",
      "/home/apo/anaconda3/lib/python3.6/site-packages/twopoppy-0.0.0-py3.6.egg/twopoppy/distribution_reconstruction.py:30: RuntimeWarning: invalid value encountered in log10\n",
      "  return 10**(np.interp(np.log10(x_int), np.log10(x), np.log10(R)))\n",
      "/home/apo/anaconda3/lib/python3.6/site-packages/twopoppy-0.0.0-py3.6.egg/twopoppy/distribution_reconstruction.py:412: RuntimeWarning: overflow encountered in power\n",
      "  np.exp(A * ((r[mask] / ra)**p[mask] - 1.)))\n"
     ]
    },
    {
     "name": "stdout",
     "output_type": "stream",
     "text": [
      "toy model running ... Done!\n"
     ]
    },
    {
     "name": "stderr",
     "output_type": "stream",
     "text": [
      "/home/apo/anaconda3/lib/python3.6/site-packages/twopoppy-0.0.0-py3.6.egg/twopoppy/distribution_reconstruction.py:213: RuntimeWarning: invalid value encountered in sqrt\n",
      "  a_fr = sig_g / (pi * rho_s) * (b - np.sqrt(b**2 - 4.))\n",
      "/home/apo/anaconda3/lib/python3.6/site-packages/twopoppy-0.0.0-py3.6.egg/twopoppy/distribution_reconstruction.py:30: RuntimeWarning: invalid value encountered in log10\n",
      "  return 10**(np.interp(np.log10(x_int), np.log10(x), np.log10(R)))\n",
      "/home/apo/anaconda3/lib/python3.6/site-packages/twopoppy-0.0.0-py3.6.egg/twopoppy/distribution_reconstruction.py:412: RuntimeWarning: overflow encountered in power\n",
      "  np.exp(A * ((r[mask] / ra)**p[mask] - 1.)))\n"
     ]
    },
    {
     "name": "stdout",
     "output_type": "stream",
     "text": [
      "toy model running ... Done!\n"
     ]
    },
    {
     "name": "stderr",
     "output_type": "stream",
     "text": [
      "/home/apo/anaconda3/lib/python3.6/site-packages/twopoppy-0.0.0-py3.6.egg/twopoppy/distribution_reconstruction.py:213: RuntimeWarning: invalid value encountered in sqrt\n",
      "  a_fr = sig_g / (pi * rho_s) * (b - np.sqrt(b**2 - 4.))\n",
      "/home/apo/anaconda3/lib/python3.6/site-packages/twopoppy-0.0.0-py3.6.egg/twopoppy/distribution_reconstruction.py:30: RuntimeWarning: invalid value encountered in log10\n",
      "  return 10**(np.interp(np.log10(x_int), np.log10(x), np.log10(R)))\n",
      "/home/apo/anaconda3/lib/python3.6/site-packages/twopoppy-0.0.0-py3.6.egg/twopoppy/distribution_reconstruction.py:412: RuntimeWarning: overflow encountered in power\n",
      "  np.exp(A * ((r[mask] / ra)**p[mask] - 1.)))\n"
     ]
    },
    {
     "name": "stdout",
     "output_type": "stream",
     "text": [
      "toy model running ... Done!\n"
     ]
    },
    {
     "name": "stderr",
     "output_type": "stream",
     "text": [
      "/home/apo/anaconda3/lib/python3.6/site-packages/twopoppy-0.0.0-py3.6.egg/twopoppy/distribution_reconstruction.py:213: RuntimeWarning: invalid value encountered in sqrt\n",
      "  a_fr = sig_g / (pi * rho_s) * (b - np.sqrt(b**2 - 4.))\n",
      "/home/apo/anaconda3/lib/python3.6/site-packages/twopoppy-0.0.0-py3.6.egg/twopoppy/distribution_reconstruction.py:30: RuntimeWarning: invalid value encountered in log10\n",
      "  return 10**(np.interp(np.log10(x_int), np.log10(x), np.log10(R)))\n",
      "/home/apo/anaconda3/lib/python3.6/site-packages/twopoppy-0.0.0-py3.6.egg/twopoppy/distribution_reconstruction.py:412: RuntimeWarning: overflow encountered in power\n",
      "  np.exp(A * ((r[mask] / ra)**p[mask] - 1.)))\n"
     ]
    },
    {
     "name": "stdout",
     "output_type": "stream",
     "text": [
      "toy model running ... Done!\n"
     ]
    },
    {
     "name": "stderr",
     "output_type": "stream",
     "text": [
      "/home/apo/anaconda3/lib/python3.6/site-packages/twopoppy-0.0.0-py3.6.egg/twopoppy/distribution_reconstruction.py:213: RuntimeWarning: invalid value encountered in sqrt\n",
      "  a_fr = sig_g / (pi * rho_s) * (b - np.sqrt(b**2 - 4.))\n",
      "/home/apo/anaconda3/lib/python3.6/site-packages/twopoppy-0.0.0-py3.6.egg/twopoppy/distribution_reconstruction.py:30: RuntimeWarning: invalid value encountered in log10\n",
      "  return 10**(np.interp(np.log10(x_int), np.log10(x), np.log10(R)))\n",
      "/home/apo/anaconda3/lib/python3.6/site-packages/twopoppy-0.0.0-py3.6.egg/twopoppy/distribution_reconstruction.py:412: RuntimeWarning: overflow encountered in power\n",
      "  np.exp(A * ((r[mask] / ra)**p[mask] - 1.)))\n"
     ]
    },
    {
     "name": "stdout",
     "output_type": "stream",
     "text": [
      "toy model running ... Done!\n"
     ]
    },
    {
     "name": "stderr",
     "output_type": "stream",
     "text": [
      "/home/apo/anaconda3/lib/python3.6/site-packages/twopoppy-0.0.0-py3.6.egg/twopoppy/distribution_reconstruction.py:213: RuntimeWarning: invalid value encountered in sqrt\n",
      "  a_fr = sig_g / (pi * rho_s) * (b - np.sqrt(b**2 - 4.))\n",
      "/home/apo/anaconda3/lib/python3.6/site-packages/twopoppy-0.0.0-py3.6.egg/twopoppy/distribution_reconstruction.py:30: RuntimeWarning: invalid value encountered in log10\n",
      "  return 10**(np.interp(np.log10(x_int), np.log10(x), np.log10(R)))\n",
      "/home/apo/anaconda3/lib/python3.6/site-packages/twopoppy-0.0.0-py3.6.egg/twopoppy/distribution_reconstruction.py:412: RuntimeWarning: overflow encountered in power\n",
      "  np.exp(A * ((r[mask] / ra)**p[mask] - 1.)))\n"
     ]
    },
    {
     "name": "stdout",
     "output_type": "stream",
     "text": [
      "toy model running ... Done!\n"
     ]
    },
    {
     "name": "stderr",
     "output_type": "stream",
     "text": [
      "/home/apo/anaconda3/lib/python3.6/site-packages/twopoppy-0.0.0-py3.6.egg/twopoppy/distribution_reconstruction.py:213: RuntimeWarning: invalid value encountered in sqrt\n",
      "  a_fr = sig_g / (pi * rho_s) * (b - np.sqrt(b**2 - 4.))\n",
      "/home/apo/anaconda3/lib/python3.6/site-packages/twopoppy-0.0.0-py3.6.egg/twopoppy/distribution_reconstruction.py:30: RuntimeWarning: invalid value encountered in log10\n",
      "  return 10**(np.interp(np.log10(x_int), np.log10(x), np.log10(R)))\n",
      "/home/apo/anaconda3/lib/python3.6/site-packages/twopoppy-0.0.0-py3.6.egg/twopoppy/distribution_reconstruction.py:412: RuntimeWarning: overflow encountered in power\n",
      "  np.exp(A * ((r[mask] / ra)**p[mask] - 1.)))\n"
     ]
    },
    {
     "name": "stdout",
     "output_type": "stream",
     "text": [
      "toy model running ... Done!\n"
     ]
    },
    {
     "name": "stderr",
     "output_type": "stream",
     "text": [
      "/home/apo/anaconda3/lib/python3.6/site-packages/twopoppy-0.0.0-py3.6.egg/twopoppy/distribution_reconstruction.py:213: RuntimeWarning: invalid value encountered in sqrt\n",
      "  a_fr = sig_g / (pi * rho_s) * (b - np.sqrt(b**2 - 4.))\n",
      "/home/apo/anaconda3/lib/python3.6/site-packages/twopoppy-0.0.0-py3.6.egg/twopoppy/distribution_reconstruction.py:30: RuntimeWarning: invalid value encountered in log10\n",
      "  return 10**(np.interp(np.log10(x_int), np.log10(x), np.log10(R)))\n",
      "/home/apo/anaconda3/lib/python3.6/site-packages/twopoppy-0.0.0-py3.6.egg/twopoppy/distribution_reconstruction.py:412: RuntimeWarning: overflow encountered in power\n",
      "  np.exp(A * ((r[mask] / ra)**p[mask] - 1.)))\n"
     ]
    },
    {
     "name": "stdout",
     "output_type": "stream",
     "text": [
      "toy model running ... Done!\n"
     ]
    },
    {
     "name": "stderr",
     "output_type": "stream",
     "text": [
      "/home/apo/anaconda3/lib/python3.6/site-packages/twopoppy-0.0.0-py3.6.egg/twopoppy/distribution_reconstruction.py:213: RuntimeWarning: invalid value encountered in sqrt\n",
      "  a_fr = sig_g / (pi * rho_s) * (b - np.sqrt(b**2 - 4.))\n",
      "/home/apo/anaconda3/lib/python3.6/site-packages/twopoppy-0.0.0-py3.6.egg/twopoppy/distribution_reconstruction.py:30: RuntimeWarning: invalid value encountered in log10\n",
      "  return 10**(np.interp(np.log10(x_int), np.log10(x), np.log10(R)))\n",
      "/home/apo/anaconda3/lib/python3.6/site-packages/twopoppy-0.0.0-py3.6.egg/twopoppy/distribution_reconstruction.py:412: RuntimeWarning: overflow encountered in power\n",
      "  np.exp(A * ((r[mask] / ra)**p[mask] - 1.)))\n"
     ]
    },
    {
     "name": "stdout",
     "output_type": "stream",
     "text": [
      "toy model running ... Done!\n"
     ]
    },
    {
     "name": "stderr",
     "output_type": "stream",
     "text": [
      "/home/apo/anaconda3/lib/python3.6/site-packages/twopoppy-0.0.0-py3.6.egg/twopoppy/distribution_reconstruction.py:213: RuntimeWarning: invalid value encountered in sqrt\n",
      "  a_fr = sig_g / (pi * rho_s) * (b - np.sqrt(b**2 - 4.))\n",
      "/home/apo/anaconda3/lib/python3.6/site-packages/twopoppy-0.0.0-py3.6.egg/twopoppy/distribution_reconstruction.py:30: RuntimeWarning: invalid value encountered in log10\n",
      "  return 10**(np.interp(np.log10(x_int), np.log10(x), np.log10(R)))\n",
      "/home/apo/anaconda3/lib/python3.6/site-packages/twopoppy-0.0.0-py3.6.egg/twopoppy/distribution_reconstruction.py:412: RuntimeWarning: overflow encountered in power\n",
      "  np.exp(A * ((r[mask] / ra)**p[mask] - 1.)))\n"
     ]
    },
    {
     "name": "stdout",
     "output_type": "stream",
     "text": [
      "toy model running ... Done!\n"
     ]
    },
    {
     "name": "stderr",
     "output_type": "stream",
     "text": [
      "/home/apo/anaconda3/lib/python3.6/site-packages/twopoppy-0.0.0-py3.6.egg/twopoppy/distribution_reconstruction.py:213: RuntimeWarning: invalid value encountered in sqrt\n",
      "  a_fr = sig_g / (pi * rho_s) * (b - np.sqrt(b**2 - 4.))\n",
      "/home/apo/anaconda3/lib/python3.6/site-packages/twopoppy-0.0.0-py3.6.egg/twopoppy/distribution_reconstruction.py:30: RuntimeWarning: invalid value encountered in log10\n",
      "  return 10**(np.interp(np.log10(x_int), np.log10(x), np.log10(R)))\n",
      "/home/apo/anaconda3/lib/python3.6/site-packages/twopoppy-0.0.0-py3.6.egg/twopoppy/distribution_reconstruction.py:412: RuntimeWarning: overflow encountered in power\n",
      "  np.exp(A * ((r[mask] / ra)**p[mask] - 1.)))\n"
     ]
    },
    {
     "name": "stdout",
     "output_type": "stream",
     "text": [
      "toy model running ... Done!\n"
     ]
    },
    {
     "name": "stderr",
     "output_type": "stream",
     "text": [
      "/home/apo/anaconda3/lib/python3.6/site-packages/twopoppy-0.0.0-py3.6.egg/twopoppy/distribution_reconstruction.py:213: RuntimeWarning: invalid value encountered in sqrt\n",
      "  a_fr = sig_g / (pi * rho_s) * (b - np.sqrt(b**2 - 4.))\n",
      "/home/apo/anaconda3/lib/python3.6/site-packages/twopoppy-0.0.0-py3.6.egg/twopoppy/distribution_reconstruction.py:30: RuntimeWarning: invalid value encountered in log10\n",
      "  return 10**(np.interp(np.log10(x_int), np.log10(x), np.log10(R)))\n",
      "/home/apo/anaconda3/lib/python3.6/site-packages/twopoppy-0.0.0-py3.6.egg/twopoppy/distribution_reconstruction.py:412: RuntimeWarning: overflow encountered in power\n",
      "  np.exp(A * ((r[mask] / ra)**p[mask] - 1.)))\n"
     ]
    },
    {
     "name": "stdout",
     "output_type": "stream",
     "text": [
      "toy model running ... Done!\n"
     ]
    },
    {
     "name": "stderr",
     "output_type": "stream",
     "text": [
      "/home/apo/anaconda3/lib/python3.6/site-packages/twopoppy-0.0.0-py3.6.egg/twopoppy/distribution_reconstruction.py:213: RuntimeWarning: invalid value encountered in sqrt\n",
      "  a_fr = sig_g / (pi * rho_s) * (b - np.sqrt(b**2 - 4.))\n",
      "/home/apo/anaconda3/lib/python3.6/site-packages/twopoppy-0.0.0-py3.6.egg/twopoppy/distribution_reconstruction.py:30: RuntimeWarning: invalid value encountered in log10\n",
      "  return 10**(np.interp(np.log10(x_int), np.log10(x), np.log10(R)))\n",
      "/home/apo/anaconda3/lib/python3.6/site-packages/twopoppy-0.0.0-py3.6.egg/twopoppy/distribution_reconstruction.py:412: RuntimeWarning: overflow encountered in power\n",
      "  np.exp(A * ((r[mask] / ra)**p[mask] - 1.)))\n"
     ]
    },
    {
     "name": "stdout",
     "output_type": "stream",
     "text": [
      "toy model running ... Done!\n"
     ]
    },
    {
     "name": "stderr",
     "output_type": "stream",
     "text": [
      "/home/apo/anaconda3/lib/python3.6/site-packages/twopoppy-0.0.0-py3.6.egg/twopoppy/distribution_reconstruction.py:213: RuntimeWarning: invalid value encountered in sqrt\n",
      "  a_fr = sig_g / (pi * rho_s) * (b - np.sqrt(b**2 - 4.))\n",
      "/home/apo/anaconda3/lib/python3.6/site-packages/twopoppy-0.0.0-py3.6.egg/twopoppy/distribution_reconstruction.py:30: RuntimeWarning: invalid value encountered in log10\n",
      "  return 10**(np.interp(np.log10(x_int), np.log10(x), np.log10(R)))\n",
      "/home/apo/anaconda3/lib/python3.6/site-packages/twopoppy-0.0.0-py3.6.egg/twopoppy/distribution_reconstruction.py:412: RuntimeWarning: overflow encountered in power\n",
      "  np.exp(A * ((r[mask] / ra)**p[mask] - 1.)))\n"
     ]
    },
    {
     "name": "stdout",
     "output_type": "stream",
     "text": [
      "toy model running ... Done!\n"
     ]
    },
    {
     "name": "stderr",
     "output_type": "stream",
     "text": [
      "/home/apo/anaconda3/lib/python3.6/site-packages/twopoppy-0.0.0-py3.6.egg/twopoppy/distribution_reconstruction.py:213: RuntimeWarning: invalid value encountered in sqrt\n",
      "  a_fr = sig_g / (pi * rho_s) * (b - np.sqrt(b**2 - 4.))\n",
      "/home/apo/anaconda3/lib/python3.6/site-packages/twopoppy-0.0.0-py3.6.egg/twopoppy/distribution_reconstruction.py:30: RuntimeWarning: invalid value encountered in log10\n",
      "  return 10**(np.interp(np.log10(x_int), np.log10(x), np.log10(R)))\n",
      "/home/apo/anaconda3/lib/python3.6/site-packages/twopoppy-0.0.0-py3.6.egg/twopoppy/distribution_reconstruction.py:412: RuntimeWarning: overflow encountered in power\n",
      "  np.exp(A * ((r[mask] / ra)**p[mask] - 1.)))\n"
     ]
    },
    {
     "name": "stdout",
     "output_type": "stream",
     "text": [
      "toy model running ... Done!\n"
     ]
    },
    {
     "name": "stderr",
     "output_type": "stream",
     "text": [
      "/home/apo/anaconda3/lib/python3.6/site-packages/twopoppy-0.0.0-py3.6.egg/twopoppy/distribution_reconstruction.py:213: RuntimeWarning: invalid value encountered in sqrt\n",
      "  a_fr = sig_g / (pi * rho_s) * (b - np.sqrt(b**2 - 4.))\n",
      "/home/apo/anaconda3/lib/python3.6/site-packages/twopoppy-0.0.0-py3.6.egg/twopoppy/distribution_reconstruction.py:30: RuntimeWarning: invalid value encountered in log10\n",
      "  return 10**(np.interp(np.log10(x_int), np.log10(x), np.log10(R)))\n",
      "/home/apo/anaconda3/lib/python3.6/site-packages/twopoppy-0.0.0-py3.6.egg/twopoppy/distribution_reconstruction.py:412: RuntimeWarning: overflow encountered in power\n",
      "  np.exp(A * ((r[mask] / ra)**p[mask] - 1.)))\n"
     ]
    },
    {
     "name": "stdout",
     "output_type": "stream",
     "text": [
      "toy model running ... Done!\n"
     ]
    },
    {
     "name": "stderr",
     "output_type": "stream",
     "text": [
      "/home/apo/anaconda3/lib/python3.6/site-packages/twopoppy-0.0.0-py3.6.egg/twopoppy/distribution_reconstruction.py:213: RuntimeWarning: invalid value encountered in sqrt\n",
      "  a_fr = sig_g / (pi * rho_s) * (b - np.sqrt(b**2 - 4.))\n",
      "/home/apo/anaconda3/lib/python3.6/site-packages/twopoppy-0.0.0-py3.6.egg/twopoppy/distribution_reconstruction.py:30: RuntimeWarning: invalid value encountered in log10\n",
      "  return 10**(np.interp(np.log10(x_int), np.log10(x), np.log10(R)))\n",
      "/home/apo/anaconda3/lib/python3.6/site-packages/twopoppy-0.0.0-py3.6.egg/twopoppy/distribution_reconstruction.py:412: RuntimeWarning: overflow encountered in power\n",
      "  np.exp(A * ((r[mask] / ra)**p[mask] - 1.)))\n"
     ]
    },
    {
     "name": "stdout",
     "output_type": "stream",
     "text": [
      "toy model running ... Done!\n"
     ]
    },
    {
     "name": "stderr",
     "output_type": "stream",
     "text": [
      "/home/apo/anaconda3/lib/python3.6/site-packages/twopoppy-0.0.0-py3.6.egg/twopoppy/distribution_reconstruction.py:213: RuntimeWarning: invalid value encountered in sqrt\n",
      "  a_fr = sig_g / (pi * rho_s) * (b - np.sqrt(b**2 - 4.))\n",
      "/home/apo/anaconda3/lib/python3.6/site-packages/twopoppy-0.0.0-py3.6.egg/twopoppy/distribution_reconstruction.py:30: RuntimeWarning: invalid value encountered in log10\n",
      "  return 10**(np.interp(np.log10(x_int), np.log10(x), np.log10(R)))\n",
      "/home/apo/anaconda3/lib/python3.6/site-packages/twopoppy-0.0.0-py3.6.egg/twopoppy/distribution_reconstruction.py:412: RuntimeWarning: overflow encountered in power\n",
      "  np.exp(A * ((r[mask] / ra)**p[mask] - 1.)))\n"
     ]
    },
    {
     "name": "stdout",
     "output_type": "stream",
     "text": [
      "toy model running ... Done!\n"
     ]
    },
    {
     "name": "stderr",
     "output_type": "stream",
     "text": [
      "/home/apo/anaconda3/lib/python3.6/site-packages/twopoppy-0.0.0-py3.6.egg/twopoppy/distribution_reconstruction.py:213: RuntimeWarning: invalid value encountered in sqrt\n",
      "  a_fr = sig_g / (pi * rho_s) * (b - np.sqrt(b**2 - 4.))\n",
      "/home/apo/anaconda3/lib/python3.6/site-packages/twopoppy-0.0.0-py3.6.egg/twopoppy/distribution_reconstruction.py:30: RuntimeWarning: invalid value encountered in log10\n",
      "  return 10**(np.interp(np.log10(x_int), np.log10(x), np.log10(R)))\n",
      "/home/apo/anaconda3/lib/python3.6/site-packages/twopoppy-0.0.0-py3.6.egg/twopoppy/distribution_reconstruction.py:412: RuntimeWarning: overflow encountered in power\n",
      "  np.exp(A * ((r[mask] / ra)**p[mask] - 1.)))\n"
     ]
    },
    {
     "name": "stdout",
     "output_type": "stream",
     "text": [
      "toy model running ... Done!\n"
     ]
    },
    {
     "name": "stderr",
     "output_type": "stream",
     "text": [
      "/home/apo/anaconda3/lib/python3.6/site-packages/twopoppy-0.0.0-py3.6.egg/twopoppy/distribution_reconstruction.py:213: RuntimeWarning: invalid value encountered in sqrt\n",
      "  a_fr = sig_g / (pi * rho_s) * (b - np.sqrt(b**2 - 4.))\n",
      "/home/apo/anaconda3/lib/python3.6/site-packages/twopoppy-0.0.0-py3.6.egg/twopoppy/distribution_reconstruction.py:30: RuntimeWarning: invalid value encountered in log10\n",
      "  return 10**(np.interp(np.log10(x_int), np.log10(x), np.log10(R)))\n",
      "/home/apo/anaconda3/lib/python3.6/site-packages/twopoppy-0.0.0-py3.6.egg/twopoppy/distribution_reconstruction.py:412: RuntimeWarning: overflow encountered in power\n",
      "  np.exp(A * ((r[mask] / ra)**p[mask] - 1.)))\n"
     ]
    },
    {
     "name": "stdout",
     "output_type": "stream",
     "text": [
      "toy model running ... Done!\n"
     ]
    },
    {
     "name": "stderr",
     "output_type": "stream",
     "text": [
      "/home/apo/anaconda3/lib/python3.6/site-packages/twopoppy-0.0.0-py3.6.egg/twopoppy/distribution_reconstruction.py:213: RuntimeWarning: invalid value encountered in sqrt\n",
      "  a_fr = sig_g / (pi * rho_s) * (b - np.sqrt(b**2 - 4.))\n",
      "/home/apo/anaconda3/lib/python3.6/site-packages/twopoppy-0.0.0-py3.6.egg/twopoppy/distribution_reconstruction.py:30: RuntimeWarning: invalid value encountered in log10\n",
      "  return 10**(np.interp(np.log10(x_int), np.log10(x), np.log10(R)))\n",
      "/home/apo/anaconda3/lib/python3.6/site-packages/twopoppy-0.0.0-py3.6.egg/twopoppy/distribution_reconstruction.py:412: RuntimeWarning: overflow encountered in power\n",
      "  np.exp(A * ((r[mask] / ra)**p[mask] - 1.)))\n"
     ]
    },
    {
     "name": "stdout",
     "output_type": "stream",
     "text": [
      "toy model running ... Done!\n"
     ]
    },
    {
     "name": "stderr",
     "output_type": "stream",
     "text": [
      "/home/apo/anaconda3/lib/python3.6/site-packages/twopoppy-0.0.0-py3.6.egg/twopoppy/distribution_reconstruction.py:213: RuntimeWarning: invalid value encountered in sqrt\n",
      "  a_fr = sig_g / (pi * rho_s) * (b - np.sqrt(b**2 - 4.))\n",
      "/home/apo/anaconda3/lib/python3.6/site-packages/twopoppy-0.0.0-py3.6.egg/twopoppy/distribution_reconstruction.py:30: RuntimeWarning: invalid value encountered in log10\n",
      "  return 10**(np.interp(np.log10(x_int), np.log10(x), np.log10(R)))\n",
      "/home/apo/anaconda3/lib/python3.6/site-packages/twopoppy-0.0.0-py3.6.egg/twopoppy/distribution_reconstruction.py:412: RuntimeWarning: overflow encountered in power\n",
      "  np.exp(A * ((r[mask] / ra)**p[mask] - 1.)))\n"
     ]
    },
    {
     "name": "stdout",
     "output_type": "stream",
     "text": [
      "toy model running ... Done!\n"
     ]
    },
    {
     "name": "stderr",
     "output_type": "stream",
     "text": [
      "/home/apo/anaconda3/lib/python3.6/site-packages/twopoppy-0.0.0-py3.6.egg/twopoppy/distribution_reconstruction.py:213: RuntimeWarning: invalid value encountered in sqrt\n",
      "  a_fr = sig_g / (pi * rho_s) * (b - np.sqrt(b**2 - 4.))\n",
      "/home/apo/anaconda3/lib/python3.6/site-packages/twopoppy-0.0.0-py3.6.egg/twopoppy/distribution_reconstruction.py:30: RuntimeWarning: invalid value encountered in log10\n",
      "  return 10**(np.interp(np.log10(x_int), np.log10(x), np.log10(R)))\n",
      "/home/apo/anaconda3/lib/python3.6/site-packages/twopoppy-0.0.0-py3.6.egg/twopoppy/distribution_reconstruction.py:412: RuntimeWarning: overflow encountered in power\n",
      "  np.exp(A * ((r[mask] / ra)**p[mask] - 1.)))\n"
     ]
    },
    {
     "name": "stdout",
     "output_type": "stream",
     "text": [
      "toy model running ... Done!\n"
     ]
    },
    {
     "name": "stderr",
     "output_type": "stream",
     "text": [
      "/home/apo/anaconda3/lib/python3.6/site-packages/twopoppy-0.0.0-py3.6.egg/twopoppy/distribution_reconstruction.py:213: RuntimeWarning: invalid value encountered in sqrt\n",
      "  a_fr = sig_g / (pi * rho_s) * (b - np.sqrt(b**2 - 4.))\n",
      "/home/apo/anaconda3/lib/python3.6/site-packages/twopoppy-0.0.0-py3.6.egg/twopoppy/distribution_reconstruction.py:30: RuntimeWarning: invalid value encountered in log10\n",
      "  return 10**(np.interp(np.log10(x_int), np.log10(x), np.log10(R)))\n",
      "/home/apo/anaconda3/lib/python3.6/site-packages/twopoppy-0.0.0-py3.6.egg/twopoppy/distribution_reconstruction.py:412: RuntimeWarning: overflow encountered in power\n",
      "  np.exp(A * ((r[mask] / ra)**p[mask] - 1.)))\n"
     ]
    },
    {
     "name": "stdout",
     "output_type": "stream",
     "text": [
      "toy model running ... Done!\n"
     ]
    },
    {
     "name": "stderr",
     "output_type": "stream",
     "text": [
      "/home/apo/anaconda3/lib/python3.6/site-packages/twopoppy-0.0.0-py3.6.egg/twopoppy/distribution_reconstruction.py:213: RuntimeWarning: invalid value encountered in sqrt\n",
      "  a_fr = sig_g / (pi * rho_s) * (b - np.sqrt(b**2 - 4.))\n",
      "/home/apo/anaconda3/lib/python3.6/site-packages/twopoppy-0.0.0-py3.6.egg/twopoppy/distribution_reconstruction.py:30: RuntimeWarning: invalid value encountered in log10\n",
      "  return 10**(np.interp(np.log10(x_int), np.log10(x), np.log10(R)))\n",
      "/home/apo/anaconda3/lib/python3.6/site-packages/twopoppy-0.0.0-py3.6.egg/twopoppy/distribution_reconstruction.py:412: RuntimeWarning: overflow encountered in power\n",
      "  np.exp(A * ((r[mask] / ra)**p[mask] - 1.)))\n"
     ]
    },
    {
     "name": "stdout",
     "output_type": "stream",
     "text": [
      "toy model running ... Done!\n"
     ]
    },
    {
     "name": "stderr",
     "output_type": "stream",
     "text": [
      "/home/apo/anaconda3/lib/python3.6/site-packages/twopoppy-0.0.0-py3.6.egg/twopoppy/distribution_reconstruction.py:213: RuntimeWarning: invalid value encountered in sqrt\n",
      "  a_fr = sig_g / (pi * rho_s) * (b - np.sqrt(b**2 - 4.))\n",
      "/home/apo/anaconda3/lib/python3.6/site-packages/twopoppy-0.0.0-py3.6.egg/twopoppy/distribution_reconstruction.py:30: RuntimeWarning: invalid value encountered in log10\n",
      "  return 10**(np.interp(np.log10(x_int), np.log10(x), np.log10(R)))\n",
      "/home/apo/anaconda3/lib/python3.6/site-packages/twopoppy-0.0.0-py3.6.egg/twopoppy/distribution_reconstruction.py:412: RuntimeWarning: overflow encountered in power\n",
      "  np.exp(A * ((r[mask] / ra)**p[mask] - 1.)))\n"
     ]
    },
    {
     "name": "stdout",
     "output_type": "stream",
     "text": [
      "toy model running ... Done!\n"
     ]
    },
    {
     "name": "stderr",
     "output_type": "stream",
     "text": [
      "/home/apo/anaconda3/lib/python3.6/site-packages/twopoppy-0.0.0-py3.6.egg/twopoppy/distribution_reconstruction.py:213: RuntimeWarning: invalid value encountered in sqrt\n",
      "  a_fr = sig_g / (pi * rho_s) * (b - np.sqrt(b**2 - 4.))\n",
      "/home/apo/anaconda3/lib/python3.6/site-packages/twopoppy-0.0.0-py3.6.egg/twopoppy/distribution_reconstruction.py:30: RuntimeWarning: invalid value encountered in log10\n",
      "  return 10**(np.interp(np.log10(x_int), np.log10(x), np.log10(R)))\n",
      "/home/apo/anaconda3/lib/python3.6/site-packages/twopoppy-0.0.0-py3.6.egg/twopoppy/distribution_reconstruction.py:412: RuntimeWarning: overflow encountered in power\n",
      "  np.exp(A * ((r[mask] / ra)**p[mask] - 1.)))\n"
     ]
    },
    {
     "name": "stdout",
     "output_type": "stream",
     "text": [
      "toy model running ... Done!\n"
     ]
    },
    {
     "name": "stderr",
     "output_type": "stream",
     "text": [
      "/home/apo/anaconda3/lib/python3.6/site-packages/twopoppy-0.0.0-py3.6.egg/twopoppy/distribution_reconstruction.py:213: RuntimeWarning: invalid value encountered in sqrt\n",
      "  a_fr = sig_g / (pi * rho_s) * (b - np.sqrt(b**2 - 4.))\n",
      "/home/apo/anaconda3/lib/python3.6/site-packages/twopoppy-0.0.0-py3.6.egg/twopoppy/distribution_reconstruction.py:30: RuntimeWarning: invalid value encountered in log10\n",
      "  return 10**(np.interp(np.log10(x_int), np.log10(x), np.log10(R)))\n",
      "/home/apo/anaconda3/lib/python3.6/site-packages/twopoppy-0.0.0-py3.6.egg/twopoppy/distribution_reconstruction.py:412: RuntimeWarning: overflow encountered in power\n",
      "  np.exp(A * ((r[mask] / ra)**p[mask] - 1.)))\n"
     ]
    },
    {
     "name": "stdout",
     "output_type": "stream",
     "text": [
      "toy model running ... Done!\n"
     ]
    },
    {
     "name": "stderr",
     "output_type": "stream",
     "text": [
      "/home/apo/anaconda3/lib/python3.6/site-packages/twopoppy-0.0.0-py3.6.egg/twopoppy/distribution_reconstruction.py:213: RuntimeWarning: invalid value encountered in sqrt\n",
      "  a_fr = sig_g / (pi * rho_s) * (b - np.sqrt(b**2 - 4.))\n",
      "/home/apo/anaconda3/lib/python3.6/site-packages/twopoppy-0.0.0-py3.6.egg/twopoppy/distribution_reconstruction.py:30: RuntimeWarning: invalid value encountered in log10\n",
      "  return 10**(np.interp(np.log10(x_int), np.log10(x), np.log10(R)))\n",
      "/home/apo/anaconda3/lib/python3.6/site-packages/twopoppy-0.0.0-py3.6.egg/twopoppy/distribution_reconstruction.py:412: RuntimeWarning: overflow encountered in power\n",
      "  np.exp(A * ((r[mask] / ra)**p[mask] - 1.)))\n"
     ]
    },
    {
     "name": "stdout",
     "output_type": "stream",
     "text": [
      "toy model running ... Done!\n"
     ]
    },
    {
     "name": "stderr",
     "output_type": "stream",
     "text": [
      "/home/apo/anaconda3/lib/python3.6/site-packages/twopoppy-0.0.0-py3.6.egg/twopoppy/distribution_reconstruction.py:213: RuntimeWarning: invalid value encountered in sqrt\n",
      "  a_fr = sig_g / (pi * rho_s) * (b - np.sqrt(b**2 - 4.))\n",
      "/home/apo/anaconda3/lib/python3.6/site-packages/twopoppy-0.0.0-py3.6.egg/twopoppy/distribution_reconstruction.py:30: RuntimeWarning: invalid value encountered in log10\n",
      "  return 10**(np.interp(np.log10(x_int), np.log10(x), np.log10(R)))\n",
      "/home/apo/anaconda3/lib/python3.6/site-packages/twopoppy-0.0.0-py3.6.egg/twopoppy/distribution_reconstruction.py:412: RuntimeWarning: overflow encountered in power\n",
      "  np.exp(A * ((r[mask] / ra)**p[mask] - 1.)))\n"
     ]
    },
    {
     "name": "stdout",
     "output_type": "stream",
     "text": [
      "toy model running ... Done!\n"
     ]
    },
    {
     "name": "stderr",
     "output_type": "stream",
     "text": [
      "/home/apo/anaconda3/lib/python3.6/site-packages/twopoppy-0.0.0-py3.6.egg/twopoppy/distribution_reconstruction.py:213: RuntimeWarning: invalid value encountered in sqrt\n",
      "  a_fr = sig_g / (pi * rho_s) * (b - np.sqrt(b**2 - 4.))\n",
      "/home/apo/anaconda3/lib/python3.6/site-packages/twopoppy-0.0.0-py3.6.egg/twopoppy/distribution_reconstruction.py:30: RuntimeWarning: invalid value encountered in log10\n",
      "  return 10**(np.interp(np.log10(x_int), np.log10(x), np.log10(R)))\n",
      "/home/apo/anaconda3/lib/python3.6/site-packages/twopoppy-0.0.0-py3.6.egg/twopoppy/distribution_reconstruction.py:412: RuntimeWarning: overflow encountered in power\n",
      "  np.exp(A * ((r[mask] / ra)**p[mask] - 1.)))\n"
     ]
    },
    {
     "name": "stdout",
     "output_type": "stream",
     "text": [
      "toy model running ... Done!\n"
     ]
    },
    {
     "name": "stderr",
     "output_type": "stream",
     "text": [
      "/home/apo/anaconda3/lib/python3.6/site-packages/twopoppy-0.0.0-py3.6.egg/twopoppy/distribution_reconstruction.py:213: RuntimeWarning: invalid value encountered in sqrt\n",
      "  a_fr = sig_g / (pi * rho_s) * (b - np.sqrt(b**2 - 4.))\n",
      "/home/apo/anaconda3/lib/python3.6/site-packages/twopoppy-0.0.0-py3.6.egg/twopoppy/distribution_reconstruction.py:30: RuntimeWarning: invalid value encountered in log10\n",
      "  return 10**(np.interp(np.log10(x_int), np.log10(x), np.log10(R)))\n",
      "/home/apo/anaconda3/lib/python3.6/site-packages/twopoppy-0.0.0-py3.6.egg/twopoppy/distribution_reconstruction.py:412: RuntimeWarning: overflow encountered in power\n",
      "  np.exp(A * ((r[mask] / ra)**p[mask] - 1.)))\n"
     ]
    },
    {
     "name": "stdout",
     "output_type": "stream",
     "text": [
      "toy model running ... Done!\n"
     ]
    },
    {
     "name": "stderr",
     "output_type": "stream",
     "text": [
      "/home/apo/anaconda3/lib/python3.6/site-packages/twopoppy-0.0.0-py3.6.egg/twopoppy/distribution_reconstruction.py:213: RuntimeWarning: invalid value encountered in sqrt\n",
      "  a_fr = sig_g / (pi * rho_s) * (b - np.sqrt(b**2 - 4.))\n",
      "/home/apo/anaconda3/lib/python3.6/site-packages/twopoppy-0.0.0-py3.6.egg/twopoppy/distribution_reconstruction.py:30: RuntimeWarning: invalid value encountered in log10\n",
      "  return 10**(np.interp(np.log10(x_int), np.log10(x), np.log10(R)))\n",
      "/home/apo/anaconda3/lib/python3.6/site-packages/twopoppy-0.0.0-py3.6.egg/twopoppy/distribution_reconstruction.py:412: RuntimeWarning: overflow encountered in power\n",
      "  np.exp(A * ((r[mask] / ra)**p[mask] - 1.)))\n"
     ]
    },
    {
     "name": "stdout",
     "output_type": "stream",
     "text": [
      "toy model running ... Done!\n"
     ]
    },
    {
     "name": "stderr",
     "output_type": "stream",
     "text": [
      "/home/apo/anaconda3/lib/python3.6/site-packages/twopoppy-0.0.0-py3.6.egg/twopoppy/distribution_reconstruction.py:213: RuntimeWarning: invalid value encountered in sqrt\n",
      "  a_fr = sig_g / (pi * rho_s) * (b - np.sqrt(b**2 - 4.))\n",
      "/home/apo/anaconda3/lib/python3.6/site-packages/twopoppy-0.0.0-py3.6.egg/twopoppy/distribution_reconstruction.py:30: RuntimeWarning: invalid value encountered in log10\n",
      "  return 10**(np.interp(np.log10(x_int), np.log10(x), np.log10(R)))\n",
      "/home/apo/anaconda3/lib/python3.6/site-packages/twopoppy-0.0.0-py3.6.egg/twopoppy/distribution_reconstruction.py:412: RuntimeWarning: overflow encountered in power\n",
      "  np.exp(A * ((r[mask] / ra)**p[mask] - 1.)))\n"
     ]
    },
    {
     "name": "stdout",
     "output_type": "stream",
     "text": [
      "toy model running ... Done!\n"
     ]
    },
    {
     "name": "stderr",
     "output_type": "stream",
     "text": [
      "/home/apo/anaconda3/lib/python3.6/site-packages/twopoppy-0.0.0-py3.6.egg/twopoppy/distribution_reconstruction.py:213: RuntimeWarning: invalid value encountered in sqrt\n",
      "  a_fr = sig_g / (pi * rho_s) * (b - np.sqrt(b**2 - 4.))\n",
      "/home/apo/anaconda3/lib/python3.6/site-packages/twopoppy-0.0.0-py3.6.egg/twopoppy/distribution_reconstruction.py:30: RuntimeWarning: invalid value encountered in log10\n",
      "  return 10**(np.interp(np.log10(x_int), np.log10(x), np.log10(R)))\n",
      "/home/apo/anaconda3/lib/python3.6/site-packages/twopoppy-0.0.0-py3.6.egg/twopoppy/distribution_reconstruction.py:412: RuntimeWarning: overflow encountered in power\n",
      "  np.exp(A * ((r[mask] / ra)**p[mask] - 1.)))\n"
     ]
    },
    {
     "name": "stdout",
     "output_type": "stream",
     "text": [
      "toy model running ... Done!\n"
     ]
    },
    {
     "name": "stderr",
     "output_type": "stream",
     "text": [
      "/home/apo/anaconda3/lib/python3.6/site-packages/twopoppy-0.0.0-py3.6.egg/twopoppy/distribution_reconstruction.py:213: RuntimeWarning: invalid value encountered in sqrt\n",
      "  a_fr = sig_g / (pi * rho_s) * (b - np.sqrt(b**2 - 4.))\n",
      "/home/apo/anaconda3/lib/python3.6/site-packages/twopoppy-0.0.0-py3.6.egg/twopoppy/distribution_reconstruction.py:30: RuntimeWarning: invalid value encountered in log10\n",
      "  return 10**(np.interp(np.log10(x_int), np.log10(x), np.log10(R)))\n",
      "/home/apo/anaconda3/lib/python3.6/site-packages/twopoppy-0.0.0-py3.6.egg/twopoppy/distribution_reconstruction.py:412: RuntimeWarning: overflow encountered in power\n",
      "  np.exp(A * ((r[mask] / ra)**p[mask] - 1.)))\n"
     ]
    },
    {
     "name": "stdout",
     "output_type": "stream",
     "text": [
      "toy model running ... Done!\n"
     ]
    },
    {
     "name": "stderr",
     "output_type": "stream",
     "text": [
      "/home/apo/anaconda3/lib/python3.6/site-packages/twopoppy-0.0.0-py3.6.egg/twopoppy/distribution_reconstruction.py:213: RuntimeWarning: invalid value encountered in sqrt\n",
      "  a_fr = sig_g / (pi * rho_s) * (b - np.sqrt(b**2 - 4.))\n",
      "/home/apo/anaconda3/lib/python3.6/site-packages/twopoppy-0.0.0-py3.6.egg/twopoppy/distribution_reconstruction.py:30: RuntimeWarning: invalid value encountered in log10\n",
      "  return 10**(np.interp(np.log10(x_int), np.log10(x), np.log10(R)))\n",
      "/home/apo/anaconda3/lib/python3.6/site-packages/twopoppy-0.0.0-py3.6.egg/twopoppy/distribution_reconstruction.py:412: RuntimeWarning: overflow encountered in power\n",
      "  np.exp(A * ((r[mask] / ra)**p[mask] - 1.)))\n"
     ]
    },
    {
     "name": "stdout",
     "output_type": "stream",
     "text": [
      "toy model running ... Done!\n"
     ]
    },
    {
     "name": "stderr",
     "output_type": "stream",
     "text": [
      "/home/apo/anaconda3/lib/python3.6/site-packages/twopoppy-0.0.0-py3.6.egg/twopoppy/distribution_reconstruction.py:213: RuntimeWarning: invalid value encountered in sqrt\n",
      "  a_fr = sig_g / (pi * rho_s) * (b - np.sqrt(b**2 - 4.))\n",
      "/home/apo/anaconda3/lib/python3.6/site-packages/twopoppy-0.0.0-py3.6.egg/twopoppy/distribution_reconstruction.py:30: RuntimeWarning: invalid value encountered in log10\n",
      "  return 10**(np.interp(np.log10(x_int), np.log10(x), np.log10(R)))\n",
      "/home/apo/anaconda3/lib/python3.6/site-packages/twopoppy-0.0.0-py3.6.egg/twopoppy/distribution_reconstruction.py:412: RuntimeWarning: overflow encountered in power\n",
      "  np.exp(A * ((r[mask] / ra)**p[mask] - 1.)))\n"
     ]
    },
    {
     "name": "stdout",
     "output_type": "stream",
     "text": [
      "toy model running ... Done!\n"
     ]
    },
    {
     "name": "stderr",
     "output_type": "stream",
     "text": [
      "/home/apo/anaconda3/lib/python3.6/site-packages/twopoppy-0.0.0-py3.6.egg/twopoppy/distribution_reconstruction.py:213: RuntimeWarning: invalid value encountered in sqrt\n",
      "  a_fr = sig_g / (pi * rho_s) * (b - np.sqrt(b**2 - 4.))\n",
      "/home/apo/anaconda3/lib/python3.6/site-packages/twopoppy-0.0.0-py3.6.egg/twopoppy/distribution_reconstruction.py:30: RuntimeWarning: invalid value encountered in log10\n",
      "  return 10**(np.interp(np.log10(x_int), np.log10(x), np.log10(R)))\n",
      "/home/apo/anaconda3/lib/python3.6/site-packages/twopoppy-0.0.0-py3.6.egg/twopoppy/distribution_reconstruction.py:412: RuntimeWarning: overflow encountered in power\n",
      "  np.exp(A * ((r[mask] / ra)**p[mask] - 1.)))\n"
     ]
    },
    {
     "name": "stdout",
     "output_type": "stream",
     "text": [
      "toy model running ... Done!\n"
     ]
    },
    {
     "name": "stderr",
     "output_type": "stream",
     "text": [
      "/home/apo/anaconda3/lib/python3.6/site-packages/twopoppy-0.0.0-py3.6.egg/twopoppy/distribution_reconstruction.py:213: RuntimeWarning: invalid value encountered in sqrt\n",
      "  a_fr = sig_g / (pi * rho_s) * (b - np.sqrt(b**2 - 4.))\n",
      "/home/apo/anaconda3/lib/python3.6/site-packages/twopoppy-0.0.0-py3.6.egg/twopoppy/distribution_reconstruction.py:30: RuntimeWarning: invalid value encountered in log10\n",
      "  return 10**(np.interp(np.log10(x_int), np.log10(x), np.log10(R)))\n",
      "/home/apo/anaconda3/lib/python3.6/site-packages/twopoppy-0.0.0-py3.6.egg/twopoppy/distribution_reconstruction.py:412: RuntimeWarning: overflow encountered in power\n",
      "  np.exp(A * ((r[mask] / ra)**p[mask] - 1.)))\n"
     ]
    },
    {
     "name": "stdout",
     "output_type": "stream",
     "text": [
      "toy model running ... Done!\n"
     ]
    },
    {
     "name": "stderr",
     "output_type": "stream",
     "text": [
      "/home/apo/anaconda3/lib/python3.6/site-packages/twopoppy-0.0.0-py3.6.egg/twopoppy/distribution_reconstruction.py:213: RuntimeWarning: invalid value encountered in sqrt\n",
      "  a_fr = sig_g / (pi * rho_s) * (b - np.sqrt(b**2 - 4.))\n",
      "/home/apo/anaconda3/lib/python3.6/site-packages/twopoppy-0.0.0-py3.6.egg/twopoppy/distribution_reconstruction.py:30: RuntimeWarning: invalid value encountered in log10\n",
      "  return 10**(np.interp(np.log10(x_int), np.log10(x), np.log10(R)))\n",
      "/home/apo/anaconda3/lib/python3.6/site-packages/twopoppy-0.0.0-py3.6.egg/twopoppy/distribution_reconstruction.py:412: RuntimeWarning: overflow encountered in power\n",
      "  np.exp(A * ((r[mask] / ra)**p[mask] - 1.)))\n"
     ]
    },
    {
     "name": "stdout",
     "output_type": "stream",
     "text": [
      "toy model running ... Done!\n"
     ]
    },
    {
     "name": "stderr",
     "output_type": "stream",
     "text": [
      "/home/apo/anaconda3/lib/python3.6/site-packages/twopoppy-0.0.0-py3.6.egg/twopoppy/distribution_reconstruction.py:213: RuntimeWarning: invalid value encountered in sqrt\n",
      "  a_fr = sig_g / (pi * rho_s) * (b - np.sqrt(b**2 - 4.))\n",
      "/home/apo/anaconda3/lib/python3.6/site-packages/twopoppy-0.0.0-py3.6.egg/twopoppy/distribution_reconstruction.py:30: RuntimeWarning: invalid value encountered in log10\n",
      "  return 10**(np.interp(np.log10(x_int), np.log10(x), np.log10(R)))\n",
      "/home/apo/anaconda3/lib/python3.6/site-packages/twopoppy-0.0.0-py3.6.egg/twopoppy/distribution_reconstruction.py:412: RuntimeWarning: overflow encountered in power\n",
      "  np.exp(A * ((r[mask] / ra)**p[mask] - 1.)))\n"
     ]
    },
    {
     "name": "stdout",
     "output_type": "stream",
     "text": [
      "toy model running ... Done!\n"
     ]
    },
    {
     "name": "stderr",
     "output_type": "stream",
     "text": [
      "/home/apo/anaconda3/lib/python3.6/site-packages/twopoppy-0.0.0-py3.6.egg/twopoppy/distribution_reconstruction.py:213: RuntimeWarning: invalid value encountered in sqrt\n",
      "  a_fr = sig_g / (pi * rho_s) * (b - np.sqrt(b**2 - 4.))\n",
      "/home/apo/anaconda3/lib/python3.6/site-packages/twopoppy-0.0.0-py3.6.egg/twopoppy/distribution_reconstruction.py:30: RuntimeWarning: invalid value encountered in log10\n",
      "  return 10**(np.interp(np.log10(x_int), np.log10(x), np.log10(R)))\n",
      "/home/apo/anaconda3/lib/python3.6/site-packages/twopoppy-0.0.0-py3.6.egg/twopoppy/distribution_reconstruction.py:412: RuntimeWarning: overflow encountered in power\n",
      "  np.exp(A * ((r[mask] / ra)**p[mask] - 1.)))\n"
     ]
    },
    {
     "name": "stdout",
     "output_type": "stream",
     "text": [
      "toy model running ... Done!\n"
     ]
    },
    {
     "name": "stderr",
     "output_type": "stream",
     "text": [
      "/home/apo/anaconda3/lib/python3.6/site-packages/twopoppy-0.0.0-py3.6.egg/twopoppy/distribution_reconstruction.py:213: RuntimeWarning: invalid value encountered in sqrt\n",
      "  a_fr = sig_g / (pi * rho_s) * (b - np.sqrt(b**2 - 4.))\n",
      "/home/apo/anaconda3/lib/python3.6/site-packages/twopoppy-0.0.0-py3.6.egg/twopoppy/distribution_reconstruction.py:30: RuntimeWarning: invalid value encountered in log10\n",
      "  return 10**(np.interp(np.log10(x_int), np.log10(x), np.log10(R)))\n",
      "/home/apo/anaconda3/lib/python3.6/site-packages/twopoppy-0.0.0-py3.6.egg/twopoppy/distribution_reconstruction.py:412: RuntimeWarning: overflow encountered in power\n",
      "  np.exp(A * ((r[mask] / ra)**p[mask] - 1.)))\n"
     ]
    },
    {
     "name": "stdout",
     "output_type": "stream",
     "text": [
      "toy model running ... Done!\n"
     ]
    },
    {
     "name": "stderr",
     "output_type": "stream",
     "text": [
      "/home/apo/anaconda3/lib/python3.6/site-packages/twopoppy-0.0.0-py3.6.egg/twopoppy/distribution_reconstruction.py:213: RuntimeWarning: invalid value encountered in sqrt\n",
      "  a_fr = sig_g / (pi * rho_s) * (b - np.sqrt(b**2 - 4.))\n",
      "/home/apo/anaconda3/lib/python3.6/site-packages/twopoppy-0.0.0-py3.6.egg/twopoppy/distribution_reconstruction.py:30: RuntimeWarning: invalid value encountered in log10\n",
      "  return 10**(np.interp(np.log10(x_int), np.log10(x), np.log10(R)))\n",
      "/home/apo/anaconda3/lib/python3.6/site-packages/twopoppy-0.0.0-py3.6.egg/twopoppy/distribution_reconstruction.py:412: RuntimeWarning: overflow encountered in power\n",
      "  np.exp(A * ((r[mask] / ra)**p[mask] - 1.)))\n"
     ]
    },
    {
     "name": "stdout",
     "output_type": "stream",
     "text": [
      "toy model running ... Done!\n"
     ]
    },
    {
     "name": "stderr",
     "output_type": "stream",
     "text": [
      "/home/apo/anaconda3/lib/python3.6/site-packages/twopoppy-0.0.0-py3.6.egg/twopoppy/distribution_reconstruction.py:213: RuntimeWarning: invalid value encountered in sqrt\n",
      "  a_fr = sig_g / (pi * rho_s) * (b - np.sqrt(b**2 - 4.))\n",
      "/home/apo/anaconda3/lib/python3.6/site-packages/twopoppy-0.0.0-py3.6.egg/twopoppy/distribution_reconstruction.py:30: RuntimeWarning: invalid value encountered in log10\n",
      "  return 10**(np.interp(np.log10(x_int), np.log10(x), np.log10(R)))\n",
      "/home/apo/anaconda3/lib/python3.6/site-packages/twopoppy-0.0.0-py3.6.egg/twopoppy/distribution_reconstruction.py:412: RuntimeWarning: overflow encountered in power\n",
      "  np.exp(A * ((r[mask] / ra)**p[mask] - 1.)))\n"
     ]
    },
    {
     "name": "stdout",
     "output_type": "stream",
     "text": [
      "toy model running ... Done!\n"
     ]
    },
    {
     "name": "stderr",
     "output_type": "stream",
     "text": [
      "/home/apo/anaconda3/lib/python3.6/site-packages/twopoppy-0.0.0-py3.6.egg/twopoppy/distribution_reconstruction.py:213: RuntimeWarning: invalid value encountered in sqrt\n",
      "  a_fr = sig_g / (pi * rho_s) * (b - np.sqrt(b**2 - 4.))\n",
      "/home/apo/anaconda3/lib/python3.6/site-packages/twopoppy-0.0.0-py3.6.egg/twopoppy/distribution_reconstruction.py:30: RuntimeWarning: invalid value encountered in log10\n",
      "  return 10**(np.interp(np.log10(x_int), np.log10(x), np.log10(R)))\n",
      "/home/apo/anaconda3/lib/python3.6/site-packages/twopoppy-0.0.0-py3.6.egg/twopoppy/distribution_reconstruction.py:412: RuntimeWarning: overflow encountered in power\n",
      "  np.exp(A * ((r[mask] / ra)**p[mask] - 1.)))\n"
     ]
    },
    {
     "name": "stdout",
     "output_type": "stream",
     "text": [
      "toy model running ... Done!\n"
     ]
    },
    {
     "name": "stderr",
     "output_type": "stream",
     "text": [
      "/home/apo/anaconda3/lib/python3.6/site-packages/twopoppy-0.0.0-py3.6.egg/twopoppy/distribution_reconstruction.py:213: RuntimeWarning: invalid value encountered in sqrt\n",
      "  a_fr = sig_g / (pi * rho_s) * (b - np.sqrt(b**2 - 4.))\n",
      "/home/apo/anaconda3/lib/python3.6/site-packages/twopoppy-0.0.0-py3.6.egg/twopoppy/distribution_reconstruction.py:30: RuntimeWarning: invalid value encountered in log10\n",
      "  return 10**(np.interp(np.log10(x_int), np.log10(x), np.log10(R)))\n",
      "/home/apo/anaconda3/lib/python3.6/site-packages/twopoppy-0.0.0-py3.6.egg/twopoppy/distribution_reconstruction.py:412: RuntimeWarning: overflow encountered in power\n",
      "  np.exp(A * ((r[mask] / ra)**p[mask] - 1.)))\n"
     ]
    },
    {
     "name": "stdout",
     "output_type": "stream",
     "text": [
      "toy model running ... Done!\n"
     ]
    },
    {
     "name": "stderr",
     "output_type": "stream",
     "text": [
      "/home/apo/anaconda3/lib/python3.6/site-packages/twopoppy-0.0.0-py3.6.egg/twopoppy/distribution_reconstruction.py:213: RuntimeWarning: invalid value encountered in sqrt\n",
      "  a_fr = sig_g / (pi * rho_s) * (b - np.sqrt(b**2 - 4.))\n",
      "/home/apo/anaconda3/lib/python3.6/site-packages/twopoppy-0.0.0-py3.6.egg/twopoppy/distribution_reconstruction.py:30: RuntimeWarning: invalid value encountered in log10\n",
      "  return 10**(np.interp(np.log10(x_int), np.log10(x), np.log10(R)))\n",
      "/home/apo/anaconda3/lib/python3.6/site-packages/twopoppy-0.0.0-py3.6.egg/twopoppy/distribution_reconstruction.py:412: RuntimeWarning: overflow encountered in power\n",
      "  np.exp(A * ((r[mask] / ra)**p[mask] - 1.)))\n"
     ]
    },
    {
     "name": "stdout",
     "output_type": "stream",
     "text": [
      "toy model running ... Done!\n"
     ]
    },
    {
     "name": "stderr",
     "output_type": "stream",
     "text": [
      "/home/apo/anaconda3/lib/python3.6/site-packages/twopoppy-0.0.0-py3.6.egg/twopoppy/distribution_reconstruction.py:213: RuntimeWarning: invalid value encountered in sqrt\n",
      "  a_fr = sig_g / (pi * rho_s) * (b - np.sqrt(b**2 - 4.))\n",
      "/home/apo/anaconda3/lib/python3.6/site-packages/twopoppy-0.0.0-py3.6.egg/twopoppy/distribution_reconstruction.py:30: RuntimeWarning: invalid value encountered in log10\n",
      "  return 10**(np.interp(np.log10(x_int), np.log10(x), np.log10(R)))\n",
      "/home/apo/anaconda3/lib/python3.6/site-packages/twopoppy-0.0.0-py3.6.egg/twopoppy/distribution_reconstruction.py:412: RuntimeWarning: overflow encountered in power\n",
      "  np.exp(A * ((r[mask] / ra)**p[mask] - 1.)))\n"
     ]
    },
    {
     "name": "stdout",
     "output_type": "stream",
     "text": [
      "toy model running ... Done!\n"
     ]
    },
    {
     "name": "stderr",
     "output_type": "stream",
     "text": [
      "/home/apo/anaconda3/lib/python3.6/site-packages/twopoppy-0.0.0-py3.6.egg/twopoppy/distribution_reconstruction.py:213: RuntimeWarning: invalid value encountered in sqrt\n",
      "  a_fr = sig_g / (pi * rho_s) * (b - np.sqrt(b**2 - 4.))\n",
      "/home/apo/anaconda3/lib/python3.6/site-packages/twopoppy-0.0.0-py3.6.egg/twopoppy/distribution_reconstruction.py:30: RuntimeWarning: invalid value encountered in log10\n",
      "  return 10**(np.interp(np.log10(x_int), np.log10(x), np.log10(R)))\n",
      "/home/apo/anaconda3/lib/python3.6/site-packages/twopoppy-0.0.0-py3.6.egg/twopoppy/distribution_reconstruction.py:412: RuntimeWarning: overflow encountered in power\n",
      "  np.exp(A * ((r[mask] / ra)**p[mask] - 1.)))\n"
     ]
    },
    {
     "name": "stdout",
     "output_type": "stream",
     "text": [
      "toy model running ... Done!\n"
     ]
    },
    {
     "name": "stderr",
     "output_type": "stream",
     "text": [
      "/home/apo/anaconda3/lib/python3.6/site-packages/twopoppy-0.0.0-py3.6.egg/twopoppy/distribution_reconstruction.py:213: RuntimeWarning: invalid value encountered in sqrt\n",
      "  a_fr = sig_g / (pi * rho_s) * (b - np.sqrt(b**2 - 4.))\n",
      "/home/apo/anaconda3/lib/python3.6/site-packages/twopoppy-0.0.0-py3.6.egg/twopoppy/distribution_reconstruction.py:30: RuntimeWarning: invalid value encountered in log10\n",
      "  return 10**(np.interp(np.log10(x_int), np.log10(x), np.log10(R)))\n",
      "/home/apo/anaconda3/lib/python3.6/site-packages/twopoppy-0.0.0-py3.6.egg/twopoppy/distribution_reconstruction.py:412: RuntimeWarning: overflow encountered in power\n",
      "  np.exp(A * ((r[mask] / ra)**p[mask] - 1.)))\n"
     ]
    },
    {
     "name": "stdout",
     "output_type": "stream",
     "text": [
      "toy model running ... Done!\n"
     ]
    },
    {
     "name": "stderr",
     "output_type": "stream",
     "text": [
      "/home/apo/anaconda3/lib/python3.6/site-packages/twopoppy-0.0.0-py3.6.egg/twopoppy/distribution_reconstruction.py:213: RuntimeWarning: invalid value encountered in sqrt\n",
      "  a_fr = sig_g / (pi * rho_s) * (b - np.sqrt(b**2 - 4.))\n",
      "/home/apo/anaconda3/lib/python3.6/site-packages/twopoppy-0.0.0-py3.6.egg/twopoppy/distribution_reconstruction.py:30: RuntimeWarning: invalid value encountered in log10\n",
      "  return 10**(np.interp(np.log10(x_int), np.log10(x), np.log10(R)))\n",
      "/home/apo/anaconda3/lib/python3.6/site-packages/twopoppy-0.0.0-py3.6.egg/twopoppy/distribution_reconstruction.py:412: RuntimeWarning: overflow encountered in power\n",
      "  np.exp(A * ((r[mask] / ra)**p[mask] - 1.)))\n"
     ]
    },
    {
     "name": "stdout",
     "output_type": "stream",
     "text": [
      "toy model running ... Done!\n"
     ]
    },
    {
     "name": "stderr",
     "output_type": "stream",
     "text": [
      "/home/apo/anaconda3/lib/python3.6/site-packages/twopoppy-0.0.0-py3.6.egg/twopoppy/distribution_reconstruction.py:213: RuntimeWarning: invalid value encountered in sqrt\n",
      "  a_fr = sig_g / (pi * rho_s) * (b - np.sqrt(b**2 - 4.))\n",
      "/home/apo/anaconda3/lib/python3.6/site-packages/twopoppy-0.0.0-py3.6.egg/twopoppy/distribution_reconstruction.py:30: RuntimeWarning: invalid value encountered in log10\n",
      "  return 10**(np.interp(np.log10(x_int), np.log10(x), np.log10(R)))\n",
      "/home/apo/anaconda3/lib/python3.6/site-packages/twopoppy-0.0.0-py3.6.egg/twopoppy/distribution_reconstruction.py:412: RuntimeWarning: overflow encountered in power\n",
      "  np.exp(A * ((r[mask] / ra)**p[mask] - 1.)))\n"
     ]
    },
    {
     "name": "stdout",
     "output_type": "stream",
     "text": [
      "toy model running ... Done!\n"
     ]
    },
    {
     "name": "stderr",
     "output_type": "stream",
     "text": [
      "/home/apo/anaconda3/lib/python3.6/site-packages/twopoppy-0.0.0-py3.6.egg/twopoppy/distribution_reconstruction.py:213: RuntimeWarning: invalid value encountered in sqrt\n",
      "  a_fr = sig_g / (pi * rho_s) * (b - np.sqrt(b**2 - 4.))\n",
      "/home/apo/anaconda3/lib/python3.6/site-packages/twopoppy-0.0.0-py3.6.egg/twopoppy/distribution_reconstruction.py:30: RuntimeWarning: invalid value encountered in log10\n",
      "  return 10**(np.interp(np.log10(x_int), np.log10(x), np.log10(R)))\n",
      "/home/apo/anaconda3/lib/python3.6/site-packages/twopoppy-0.0.0-py3.6.egg/twopoppy/distribution_reconstruction.py:412: RuntimeWarning: overflow encountered in power\n",
      "  np.exp(A * ((r[mask] / ra)**p[mask] - 1.)))\n"
     ]
    },
    {
     "name": "stdout",
     "output_type": "stream",
     "text": [
      "toy model running ... Done!\n"
     ]
    },
    {
     "name": "stderr",
     "output_type": "stream",
     "text": [
      "/home/apo/anaconda3/lib/python3.6/site-packages/twopoppy-0.0.0-py3.6.egg/twopoppy/distribution_reconstruction.py:213: RuntimeWarning: invalid value encountered in sqrt\n",
      "  a_fr = sig_g / (pi * rho_s) * (b - np.sqrt(b**2 - 4.))\n",
      "/home/apo/anaconda3/lib/python3.6/site-packages/twopoppy-0.0.0-py3.6.egg/twopoppy/distribution_reconstruction.py:30: RuntimeWarning: invalid value encountered in log10\n",
      "  return 10**(np.interp(np.log10(x_int), np.log10(x), np.log10(R)))\n",
      "/home/apo/anaconda3/lib/python3.6/site-packages/twopoppy-0.0.0-py3.6.egg/twopoppy/distribution_reconstruction.py:412: RuntimeWarning: overflow encountered in power\n",
      "  np.exp(A * ((r[mask] / ra)**p[mask] - 1.)))\n"
     ]
    },
    {
     "name": "stdout",
     "output_type": "stream",
     "text": [
      "toy model running ... Done!\n"
     ]
    },
    {
     "name": "stderr",
     "output_type": "stream",
     "text": [
      "/home/apo/anaconda3/lib/python3.6/site-packages/twopoppy-0.0.0-py3.6.egg/twopoppy/distribution_reconstruction.py:213: RuntimeWarning: invalid value encountered in sqrt\n",
      "  a_fr = sig_g / (pi * rho_s) * (b - np.sqrt(b**2 - 4.))\n",
      "/home/apo/anaconda3/lib/python3.6/site-packages/twopoppy-0.0.0-py3.6.egg/twopoppy/distribution_reconstruction.py:30: RuntimeWarning: invalid value encountered in log10\n",
      "  return 10**(np.interp(np.log10(x_int), np.log10(x), np.log10(R)))\n",
      "/home/apo/anaconda3/lib/python3.6/site-packages/twopoppy-0.0.0-py3.6.egg/twopoppy/distribution_reconstruction.py:412: RuntimeWarning: overflow encountered in power\n",
      "  np.exp(A * ((r[mask] / ra)**p[mask] - 1.)))\n"
     ]
    },
    {
     "name": "stdout",
     "output_type": "stream",
     "text": [
      "toy model running ... Done!\n"
     ]
    },
    {
     "name": "stderr",
     "output_type": "stream",
     "text": [
      "/home/apo/anaconda3/lib/python3.6/site-packages/twopoppy-0.0.0-py3.6.egg/twopoppy/distribution_reconstruction.py:213: RuntimeWarning: invalid value encountered in sqrt\n",
      "  a_fr = sig_g / (pi * rho_s) * (b - np.sqrt(b**2 - 4.))\n",
      "/home/apo/anaconda3/lib/python3.6/site-packages/twopoppy-0.0.0-py3.6.egg/twopoppy/distribution_reconstruction.py:30: RuntimeWarning: invalid value encountered in log10\n",
      "  return 10**(np.interp(np.log10(x_int), np.log10(x), np.log10(R)))\n",
      "/home/apo/anaconda3/lib/python3.6/site-packages/twopoppy-0.0.0-py3.6.egg/twopoppy/distribution_reconstruction.py:412: RuntimeWarning: overflow encountered in power\n",
      "  np.exp(A * ((r[mask] / ra)**p[mask] - 1.)))\n"
     ]
    },
    {
     "name": "stdout",
     "output_type": "stream",
     "text": [
      "toy model running ... Done!\n"
     ]
    },
    {
     "name": "stderr",
     "output_type": "stream",
     "text": [
      "/home/apo/anaconda3/lib/python3.6/site-packages/twopoppy-0.0.0-py3.6.egg/twopoppy/distribution_reconstruction.py:213: RuntimeWarning: invalid value encountered in sqrt\n",
      "  a_fr = sig_g / (pi * rho_s) * (b - np.sqrt(b**2 - 4.))\n",
      "/home/apo/anaconda3/lib/python3.6/site-packages/twopoppy-0.0.0-py3.6.egg/twopoppy/distribution_reconstruction.py:30: RuntimeWarning: invalid value encountered in log10\n",
      "  return 10**(np.interp(np.log10(x_int), np.log10(x), np.log10(R)))\n",
      "/home/apo/anaconda3/lib/python3.6/site-packages/twopoppy-0.0.0-py3.6.egg/twopoppy/distribution_reconstruction.py:412: RuntimeWarning: overflow encountered in power\n",
      "  np.exp(A * ((r[mask] / ra)**p[mask] - 1.)))\n"
     ]
    },
    {
     "name": "stdout",
     "output_type": "stream",
     "text": [
      "toy model running ... Done!\n"
     ]
    },
    {
     "name": "stderr",
     "output_type": "stream",
     "text": [
      "/home/apo/anaconda3/lib/python3.6/site-packages/twopoppy-0.0.0-py3.6.egg/twopoppy/distribution_reconstruction.py:213: RuntimeWarning: invalid value encountered in sqrt\n",
      "  a_fr = sig_g / (pi * rho_s) * (b - np.sqrt(b**2 - 4.))\n",
      "/home/apo/anaconda3/lib/python3.6/site-packages/twopoppy-0.0.0-py3.6.egg/twopoppy/distribution_reconstruction.py:30: RuntimeWarning: invalid value encountered in log10\n",
      "  return 10**(np.interp(np.log10(x_int), np.log10(x), np.log10(R)))\n",
      "/home/apo/anaconda3/lib/python3.6/site-packages/twopoppy-0.0.0-py3.6.egg/twopoppy/distribution_reconstruction.py:412: RuntimeWarning: overflow encountered in power\n",
      "  np.exp(A * ((r[mask] / ra)**p[mask] - 1.)))\n"
     ]
    },
    {
     "name": "stdout",
     "output_type": "stream",
     "text": [
      "toy model running ... Done!\n"
     ]
    },
    {
     "name": "stderr",
     "output_type": "stream",
     "text": [
      "/home/apo/anaconda3/lib/python3.6/site-packages/twopoppy-0.0.0-py3.6.egg/twopoppy/distribution_reconstruction.py:213: RuntimeWarning: invalid value encountered in sqrt\n",
      "  a_fr = sig_g / (pi * rho_s) * (b - np.sqrt(b**2 - 4.))\n",
      "/home/apo/anaconda3/lib/python3.6/site-packages/twopoppy-0.0.0-py3.6.egg/twopoppy/distribution_reconstruction.py:30: RuntimeWarning: invalid value encountered in log10\n",
      "  return 10**(np.interp(np.log10(x_int), np.log10(x), np.log10(R)))\n",
      "/home/apo/anaconda3/lib/python3.6/site-packages/twopoppy-0.0.0-py3.6.egg/twopoppy/distribution_reconstruction.py:412: RuntimeWarning: overflow encountered in power\n",
      "  np.exp(A * ((r[mask] / ra)**p[mask] - 1.)))\n"
     ]
    },
    {
     "name": "stdout",
     "output_type": "stream",
     "text": [
      "toy model running ... Done!\n"
     ]
    },
    {
     "name": "stderr",
     "output_type": "stream",
     "text": [
      "/home/apo/anaconda3/lib/python3.6/site-packages/twopoppy-0.0.0-py3.6.egg/twopoppy/distribution_reconstruction.py:213: RuntimeWarning: invalid value encountered in sqrt\n",
      "  a_fr = sig_g / (pi * rho_s) * (b - np.sqrt(b**2 - 4.))\n",
      "/home/apo/anaconda3/lib/python3.6/site-packages/twopoppy-0.0.0-py3.6.egg/twopoppy/distribution_reconstruction.py:30: RuntimeWarning: invalid value encountered in log10\n",
      "  return 10**(np.interp(np.log10(x_int), np.log10(x), np.log10(R)))\n",
      "/home/apo/anaconda3/lib/python3.6/site-packages/twopoppy-0.0.0-py3.6.egg/twopoppy/distribution_reconstruction.py:412: RuntimeWarning: overflow encountered in power\n",
      "  np.exp(A * ((r[mask] / ra)**p[mask] - 1.)))\n"
     ]
    },
    {
     "name": "stdout",
     "output_type": "stream",
     "text": [
      "toy model running ... Done!\n"
     ]
    },
    {
     "name": "stderr",
     "output_type": "stream",
     "text": [
      "/home/apo/anaconda3/lib/python3.6/site-packages/twopoppy-0.0.0-py3.6.egg/twopoppy/distribution_reconstruction.py:213: RuntimeWarning: invalid value encountered in sqrt\n",
      "  a_fr = sig_g / (pi * rho_s) * (b - np.sqrt(b**2 - 4.))\n",
      "/home/apo/anaconda3/lib/python3.6/site-packages/twopoppy-0.0.0-py3.6.egg/twopoppy/distribution_reconstruction.py:30: RuntimeWarning: invalid value encountered in log10\n",
      "  return 10**(np.interp(np.log10(x_int), np.log10(x), np.log10(R)))\n",
      "/home/apo/anaconda3/lib/python3.6/site-packages/twopoppy-0.0.0-py3.6.egg/twopoppy/distribution_reconstruction.py:412: RuntimeWarning: overflow encountered in power\n",
      "  np.exp(A * ((r[mask] / ra)**p[mask] - 1.)))\n"
     ]
    },
    {
     "name": "stdout",
     "output_type": "stream",
     "text": [
      "toy model running ... Done!\n"
     ]
    },
    {
     "name": "stderr",
     "output_type": "stream",
     "text": [
      "/home/apo/anaconda3/lib/python3.6/site-packages/twopoppy-0.0.0-py3.6.egg/twopoppy/distribution_reconstruction.py:213: RuntimeWarning: invalid value encountered in sqrt\n",
      "  a_fr = sig_g / (pi * rho_s) * (b - np.sqrt(b**2 - 4.))\n",
      "/home/apo/anaconda3/lib/python3.6/site-packages/twopoppy-0.0.0-py3.6.egg/twopoppy/distribution_reconstruction.py:30: RuntimeWarning: invalid value encountered in log10\n",
      "  return 10**(np.interp(np.log10(x_int), np.log10(x), np.log10(R)))\n",
      "/home/apo/anaconda3/lib/python3.6/site-packages/twopoppy-0.0.0-py3.6.egg/twopoppy/distribution_reconstruction.py:412: RuntimeWarning: overflow encountered in power\n",
      "  np.exp(A * ((r[mask] / ra)**p[mask] - 1.)))\n"
     ]
    },
    {
     "name": "stdout",
     "output_type": "stream",
     "text": [
      "toy model running ... Done!\n"
     ]
    },
    {
     "name": "stderr",
     "output_type": "stream",
     "text": [
      "/home/apo/anaconda3/lib/python3.6/site-packages/twopoppy-0.0.0-py3.6.egg/twopoppy/distribution_reconstruction.py:213: RuntimeWarning: invalid value encountered in sqrt\n",
      "  a_fr = sig_g / (pi * rho_s) * (b - np.sqrt(b**2 - 4.))\n",
      "/home/apo/anaconda3/lib/python3.6/site-packages/twopoppy-0.0.0-py3.6.egg/twopoppy/distribution_reconstruction.py:30: RuntimeWarning: invalid value encountered in log10\n",
      "  return 10**(np.interp(np.log10(x_int), np.log10(x), np.log10(R)))\n",
      "/home/apo/anaconda3/lib/python3.6/site-packages/twopoppy-0.0.0-py3.6.egg/twopoppy/distribution_reconstruction.py:412: RuntimeWarning: overflow encountered in power\n",
      "  np.exp(A * ((r[mask] / ra)**p[mask] - 1.)))\n"
     ]
    },
    {
     "name": "stdout",
     "output_type": "stream",
     "text": [
      "toy model running ... Done!\n"
     ]
    },
    {
     "name": "stderr",
     "output_type": "stream",
     "text": [
      "/home/apo/anaconda3/lib/python3.6/site-packages/twopoppy-0.0.0-py3.6.egg/twopoppy/distribution_reconstruction.py:213: RuntimeWarning: invalid value encountered in sqrt\n",
      "  a_fr = sig_g / (pi * rho_s) * (b - np.sqrt(b**2 - 4.))\n",
      "/home/apo/anaconda3/lib/python3.6/site-packages/twopoppy-0.0.0-py3.6.egg/twopoppy/distribution_reconstruction.py:30: RuntimeWarning: invalid value encountered in log10\n",
      "  return 10**(np.interp(np.log10(x_int), np.log10(x), np.log10(R)))\n",
      "/home/apo/anaconda3/lib/python3.6/site-packages/twopoppy-0.0.0-py3.6.egg/twopoppy/distribution_reconstruction.py:412: RuntimeWarning: overflow encountered in power\n",
      "  np.exp(A * ((r[mask] / ra)**p[mask] - 1.)))\n"
     ]
    },
    {
     "name": "stdout",
     "output_type": "stream",
     "text": [
      "toy model running ... Done!\n"
     ]
    },
    {
     "name": "stderr",
     "output_type": "stream",
     "text": [
      "/home/apo/anaconda3/lib/python3.6/site-packages/twopoppy-0.0.0-py3.6.egg/twopoppy/distribution_reconstruction.py:213: RuntimeWarning: invalid value encountered in sqrt\n",
      "  a_fr = sig_g / (pi * rho_s) * (b - np.sqrt(b**2 - 4.))\n",
      "/home/apo/anaconda3/lib/python3.6/site-packages/twopoppy-0.0.0-py3.6.egg/twopoppy/distribution_reconstruction.py:30: RuntimeWarning: invalid value encountered in log10\n",
      "  return 10**(np.interp(np.log10(x_int), np.log10(x), np.log10(R)))\n",
      "/home/apo/anaconda3/lib/python3.6/site-packages/twopoppy-0.0.0-py3.6.egg/twopoppy/distribution_reconstruction.py:412: RuntimeWarning: overflow encountered in power\n",
      "  np.exp(A * ((r[mask] / ra)**p[mask] - 1.)))\n"
     ]
    },
    {
     "name": "stdout",
     "output_type": "stream",
     "text": [
      "toy model running ... Done!\n"
     ]
    },
    {
     "name": "stderr",
     "output_type": "stream",
     "text": [
      "/home/apo/anaconda3/lib/python3.6/site-packages/twopoppy-0.0.0-py3.6.egg/twopoppy/distribution_reconstruction.py:213: RuntimeWarning: invalid value encountered in sqrt\n",
      "  a_fr = sig_g / (pi * rho_s) * (b - np.sqrt(b**2 - 4.))\n",
      "/home/apo/anaconda3/lib/python3.6/site-packages/twopoppy-0.0.0-py3.6.egg/twopoppy/distribution_reconstruction.py:30: RuntimeWarning: invalid value encountered in log10\n",
      "  return 10**(np.interp(np.log10(x_int), np.log10(x), np.log10(R)))\n",
      "/home/apo/anaconda3/lib/python3.6/site-packages/twopoppy-0.0.0-py3.6.egg/twopoppy/distribution_reconstruction.py:412: RuntimeWarning: overflow encountered in power\n",
      "  np.exp(A * ((r[mask] / ra)**p[mask] - 1.)))\n"
     ]
    },
    {
     "name": "stdout",
     "output_type": "stream",
     "text": [
      "toy model running ... Done!\n"
     ]
    },
    {
     "name": "stderr",
     "output_type": "stream",
     "text": [
      "/home/apo/anaconda3/lib/python3.6/site-packages/twopoppy-0.0.0-py3.6.egg/twopoppy/distribution_reconstruction.py:213: RuntimeWarning: invalid value encountered in sqrt\n",
      "  a_fr = sig_g / (pi * rho_s) * (b - np.sqrt(b**2 - 4.))\n",
      "/home/apo/anaconda3/lib/python3.6/site-packages/twopoppy-0.0.0-py3.6.egg/twopoppy/distribution_reconstruction.py:30: RuntimeWarning: invalid value encountered in log10\n",
      "  return 10**(np.interp(np.log10(x_int), np.log10(x), np.log10(R)))\n",
      "/home/apo/anaconda3/lib/python3.6/site-packages/twopoppy-0.0.0-py3.6.egg/twopoppy/distribution_reconstruction.py:412: RuntimeWarning: overflow encountered in power\n",
      "  np.exp(A * ((r[mask] / ra)**p[mask] - 1.)))\n"
     ]
    },
    {
     "name": "stdout",
     "output_type": "stream",
     "text": [
      "toy model running ... Done!\n"
     ]
    },
    {
     "name": "stderr",
     "output_type": "stream",
     "text": [
      "/home/apo/anaconda3/lib/python3.6/site-packages/twopoppy-0.0.0-py3.6.egg/twopoppy/distribution_reconstruction.py:213: RuntimeWarning: invalid value encountered in sqrt\n",
      "  a_fr = sig_g / (pi * rho_s) * (b - np.sqrt(b**2 - 4.))\n",
      "/home/apo/anaconda3/lib/python3.6/site-packages/twopoppy-0.0.0-py3.6.egg/twopoppy/distribution_reconstruction.py:30: RuntimeWarning: invalid value encountered in log10\n",
      "  return 10**(np.interp(np.log10(x_int), np.log10(x), np.log10(R)))\n",
      "/home/apo/anaconda3/lib/python3.6/site-packages/twopoppy-0.0.0-py3.6.egg/twopoppy/distribution_reconstruction.py:412: RuntimeWarning: overflow encountered in power\n",
      "  np.exp(A * ((r[mask] / ra)**p[mask] - 1.)))\n"
     ]
    },
    {
     "name": "stdout",
     "output_type": "stream",
     "text": [
      "toy model running ... Done!\n"
     ]
    },
    {
     "name": "stderr",
     "output_type": "stream",
     "text": [
      "/home/apo/anaconda3/lib/python3.6/site-packages/twopoppy-0.0.0-py3.6.egg/twopoppy/distribution_reconstruction.py:213: RuntimeWarning: invalid value encountered in sqrt\n",
      "  a_fr = sig_g / (pi * rho_s) * (b - np.sqrt(b**2 - 4.))\n",
      "/home/apo/anaconda3/lib/python3.6/site-packages/twopoppy-0.0.0-py3.6.egg/twopoppy/distribution_reconstruction.py:30: RuntimeWarning: invalid value encountered in log10\n",
      "  return 10**(np.interp(np.log10(x_int), np.log10(x), np.log10(R)))\n",
      "/home/apo/anaconda3/lib/python3.6/site-packages/twopoppy-0.0.0-py3.6.egg/twopoppy/distribution_reconstruction.py:412: RuntimeWarning: overflow encountered in power\n",
      "  np.exp(A * ((r[mask] / ra)**p[mask] - 1.)))\n"
     ]
    },
    {
     "name": "stdout",
     "output_type": "stream",
     "text": [
      "toy model running ... Done!\n"
     ]
    },
    {
     "name": "stderr",
     "output_type": "stream",
     "text": [
      "/home/apo/anaconda3/lib/python3.6/site-packages/twopoppy-0.0.0-py3.6.egg/twopoppy/distribution_reconstruction.py:213: RuntimeWarning: invalid value encountered in sqrt\n",
      "  a_fr = sig_g / (pi * rho_s) * (b - np.sqrt(b**2 - 4.))\n",
      "/home/apo/anaconda3/lib/python3.6/site-packages/twopoppy-0.0.0-py3.6.egg/twopoppy/distribution_reconstruction.py:30: RuntimeWarning: invalid value encountered in log10\n",
      "  return 10**(np.interp(np.log10(x_int), np.log10(x), np.log10(R)))\n",
      "/home/apo/anaconda3/lib/python3.6/site-packages/twopoppy-0.0.0-py3.6.egg/twopoppy/distribution_reconstruction.py:412: RuntimeWarning: overflow encountered in power\n",
      "  np.exp(A * ((r[mask] / ra)**p[mask] - 1.)))\n"
     ]
    },
    {
     "name": "stdout",
     "output_type": "stream",
     "text": [
      "toy model running ... Done!\n"
     ]
    },
    {
     "name": "stderr",
     "output_type": "stream",
     "text": [
      "/home/apo/anaconda3/lib/python3.6/site-packages/twopoppy-0.0.0-py3.6.egg/twopoppy/distribution_reconstruction.py:213: RuntimeWarning: invalid value encountered in sqrt\n",
      "  a_fr = sig_g / (pi * rho_s) * (b - np.sqrt(b**2 - 4.))\n",
      "/home/apo/anaconda3/lib/python3.6/site-packages/twopoppy-0.0.0-py3.6.egg/twopoppy/distribution_reconstruction.py:30: RuntimeWarning: invalid value encountered in log10\n",
      "  return 10**(np.interp(np.log10(x_int), np.log10(x), np.log10(R)))\n",
      "/home/apo/anaconda3/lib/python3.6/site-packages/twopoppy-0.0.0-py3.6.egg/twopoppy/distribution_reconstruction.py:412: RuntimeWarning: overflow encountered in power\n",
      "  np.exp(A * ((r[mask] / ra)**p[mask] - 1.)))\n"
     ]
    },
    {
     "name": "stdout",
     "output_type": "stream",
     "text": [
      "toy model running ... Done!\n"
     ]
    },
    {
     "name": "stderr",
     "output_type": "stream",
     "text": [
      "/home/apo/anaconda3/lib/python3.6/site-packages/twopoppy-0.0.0-py3.6.egg/twopoppy/distribution_reconstruction.py:213: RuntimeWarning: invalid value encountered in sqrt\n",
      "  a_fr = sig_g / (pi * rho_s) * (b - np.sqrt(b**2 - 4.))\n",
      "/home/apo/anaconda3/lib/python3.6/site-packages/twopoppy-0.0.0-py3.6.egg/twopoppy/distribution_reconstruction.py:30: RuntimeWarning: invalid value encountered in log10\n",
      "  return 10**(np.interp(np.log10(x_int), np.log10(x), np.log10(R)))\n",
      "/home/apo/anaconda3/lib/python3.6/site-packages/twopoppy-0.0.0-py3.6.egg/twopoppy/distribution_reconstruction.py:412: RuntimeWarning: overflow encountered in power\n",
      "  np.exp(A * ((r[mask] / ra)**p[mask] - 1.)))\n"
     ]
    },
    {
     "name": "stdout",
     "output_type": "stream",
     "text": [
      "toy model running ... Done!\n"
     ]
    },
    {
     "name": "stderr",
     "output_type": "stream",
     "text": [
      "/home/apo/anaconda3/lib/python3.6/site-packages/twopoppy-0.0.0-py3.6.egg/twopoppy/distribution_reconstruction.py:213: RuntimeWarning: invalid value encountered in sqrt\n",
      "  a_fr = sig_g / (pi * rho_s) * (b - np.sqrt(b**2 - 4.))\n",
      "/home/apo/anaconda3/lib/python3.6/site-packages/twopoppy-0.0.0-py3.6.egg/twopoppy/distribution_reconstruction.py:30: RuntimeWarning: invalid value encountered in log10\n",
      "  return 10**(np.interp(np.log10(x_int), np.log10(x), np.log10(R)))\n",
      "/home/apo/anaconda3/lib/python3.6/site-packages/twopoppy-0.0.0-py3.6.egg/twopoppy/distribution_reconstruction.py:412: RuntimeWarning: overflow encountered in power\n",
      "  np.exp(A * ((r[mask] / ra)**p[mask] - 1.)))\n"
     ]
    },
    {
     "name": "stdout",
     "output_type": "stream",
     "text": [
      "toy model running ... Done!\n"
     ]
    },
    {
     "name": "stderr",
     "output_type": "stream",
     "text": [
      "/home/apo/anaconda3/lib/python3.6/site-packages/twopoppy-0.0.0-py3.6.egg/twopoppy/distribution_reconstruction.py:213: RuntimeWarning: invalid value encountered in sqrt\n",
      "  a_fr = sig_g / (pi * rho_s) * (b - np.sqrt(b**2 - 4.))\n",
      "/home/apo/anaconda3/lib/python3.6/site-packages/twopoppy-0.0.0-py3.6.egg/twopoppy/distribution_reconstruction.py:30: RuntimeWarning: invalid value encountered in log10\n",
      "  return 10**(np.interp(np.log10(x_int), np.log10(x), np.log10(R)))\n",
      "/home/apo/anaconda3/lib/python3.6/site-packages/twopoppy-0.0.0-py3.6.egg/twopoppy/distribution_reconstruction.py:412: RuntimeWarning: overflow encountered in power\n",
      "  np.exp(A * ((r[mask] / ra)**p[mask] - 1.)))\n"
     ]
    },
    {
     "name": "stdout",
     "output_type": "stream",
     "text": [
      "toy model running ... Done!\n"
     ]
    },
    {
     "name": "stderr",
     "output_type": "stream",
     "text": [
      "/home/apo/anaconda3/lib/python3.6/site-packages/twopoppy-0.0.0-py3.6.egg/twopoppy/distribution_reconstruction.py:213: RuntimeWarning: invalid value encountered in sqrt\n",
      "  a_fr = sig_g / (pi * rho_s) * (b - np.sqrt(b**2 - 4.))\n",
      "/home/apo/anaconda3/lib/python3.6/site-packages/twopoppy-0.0.0-py3.6.egg/twopoppy/distribution_reconstruction.py:30: RuntimeWarning: invalid value encountered in log10\n",
      "  return 10**(np.interp(np.log10(x_int), np.log10(x), np.log10(R)))\n",
      "/home/apo/anaconda3/lib/python3.6/site-packages/twopoppy-0.0.0-py3.6.egg/twopoppy/distribution_reconstruction.py:412: RuntimeWarning: overflow encountered in power\n",
      "  np.exp(A * ((r[mask] / ra)**p[mask] - 1.)))\n"
     ]
    },
    {
     "name": "stdout",
     "output_type": "stream",
     "text": [
      "toy model running ... Done!\n"
     ]
    },
    {
     "name": "stderr",
     "output_type": "stream",
     "text": [
      "/home/apo/anaconda3/lib/python3.6/site-packages/twopoppy-0.0.0-py3.6.egg/twopoppy/distribution_reconstruction.py:213: RuntimeWarning: invalid value encountered in sqrt\n",
      "  a_fr = sig_g / (pi * rho_s) * (b - np.sqrt(b**2 - 4.))\n",
      "/home/apo/anaconda3/lib/python3.6/site-packages/twopoppy-0.0.0-py3.6.egg/twopoppy/distribution_reconstruction.py:30: RuntimeWarning: invalid value encountered in log10\n",
      "  return 10**(np.interp(np.log10(x_int), np.log10(x), np.log10(R)))\n",
      "/home/apo/anaconda3/lib/python3.6/site-packages/twopoppy-0.0.0-py3.6.egg/twopoppy/distribution_reconstruction.py:412: RuntimeWarning: overflow encountered in power\n",
      "  np.exp(A * ((r[mask] / ra)**p[mask] - 1.)))\n"
     ]
    },
    {
     "name": "stdout",
     "output_type": "stream",
     "text": [
      "toy model running ... Done!\n"
     ]
    },
    {
     "name": "stderr",
     "output_type": "stream",
     "text": [
      "/home/apo/anaconda3/lib/python3.6/site-packages/twopoppy-0.0.0-py3.6.egg/twopoppy/distribution_reconstruction.py:213: RuntimeWarning: invalid value encountered in sqrt\n",
      "  a_fr = sig_g / (pi * rho_s) * (b - np.sqrt(b**2 - 4.))\n",
      "/home/apo/anaconda3/lib/python3.6/site-packages/twopoppy-0.0.0-py3.6.egg/twopoppy/distribution_reconstruction.py:30: RuntimeWarning: invalid value encountered in log10\n",
      "  return 10**(np.interp(np.log10(x_int), np.log10(x), np.log10(R)))\n",
      "/home/apo/anaconda3/lib/python3.6/site-packages/twopoppy-0.0.0-py3.6.egg/twopoppy/distribution_reconstruction.py:412: RuntimeWarning: overflow encountered in power\n",
      "  np.exp(A * ((r[mask] / ra)**p[mask] - 1.)))\n"
     ]
    },
    {
     "name": "stdout",
     "output_type": "stream",
     "text": [
      "toy model running ... Done!\n"
     ]
    },
    {
     "name": "stderr",
     "output_type": "stream",
     "text": [
      "/home/apo/anaconda3/lib/python3.6/site-packages/twopoppy-0.0.0-py3.6.egg/twopoppy/distribution_reconstruction.py:213: RuntimeWarning: invalid value encountered in sqrt\n",
      "  a_fr = sig_g / (pi * rho_s) * (b - np.sqrt(b**2 - 4.))\n",
      "/home/apo/anaconda3/lib/python3.6/site-packages/twopoppy-0.0.0-py3.6.egg/twopoppy/distribution_reconstruction.py:30: RuntimeWarning: invalid value encountered in log10\n",
      "  return 10**(np.interp(np.log10(x_int), np.log10(x), np.log10(R)))\n",
      "/home/apo/anaconda3/lib/python3.6/site-packages/twopoppy-0.0.0-py3.6.egg/twopoppy/distribution_reconstruction.py:412: RuntimeWarning: overflow encountered in power\n",
      "  np.exp(A * ((r[mask] / ra)**p[mask] - 1.)))\n"
     ]
    },
    {
     "name": "stdout",
     "output_type": "stream",
     "text": [
      "toy model running ... Done!\n"
     ]
    },
    {
     "name": "stderr",
     "output_type": "stream",
     "text": [
      "/home/apo/anaconda3/lib/python3.6/site-packages/twopoppy-0.0.0-py3.6.egg/twopoppy/distribution_reconstruction.py:213: RuntimeWarning: invalid value encountered in sqrt\n",
      "  a_fr = sig_g / (pi * rho_s) * (b - np.sqrt(b**2 - 4.))\n",
      "/home/apo/anaconda3/lib/python3.6/site-packages/twopoppy-0.0.0-py3.6.egg/twopoppy/distribution_reconstruction.py:30: RuntimeWarning: invalid value encountered in log10\n",
      "  return 10**(np.interp(np.log10(x_int), np.log10(x), np.log10(R)))\n",
      "/home/apo/anaconda3/lib/python3.6/site-packages/twopoppy-0.0.0-py3.6.egg/twopoppy/distribution_reconstruction.py:412: RuntimeWarning: overflow encountered in power\n",
      "  np.exp(A * ((r[mask] / ra)**p[mask] - 1.)))\n"
     ]
    },
    {
     "name": "stdout",
     "output_type": "stream",
     "text": [
      "toy model running ... Done!\n"
     ]
    },
    {
     "name": "stderr",
     "output_type": "stream",
     "text": [
      "/home/apo/anaconda3/lib/python3.6/site-packages/twopoppy-0.0.0-py3.6.egg/twopoppy/distribution_reconstruction.py:213: RuntimeWarning: invalid value encountered in sqrt\n",
      "  a_fr = sig_g / (pi * rho_s) * (b - np.sqrt(b**2 - 4.))\n",
      "/home/apo/anaconda3/lib/python3.6/site-packages/twopoppy-0.0.0-py3.6.egg/twopoppy/distribution_reconstruction.py:30: RuntimeWarning: invalid value encountered in log10\n",
      "  return 10**(np.interp(np.log10(x_int), np.log10(x), np.log10(R)))\n",
      "/home/apo/anaconda3/lib/python3.6/site-packages/twopoppy-0.0.0-py3.6.egg/twopoppy/distribution_reconstruction.py:412: RuntimeWarning: overflow encountered in power\n",
      "  np.exp(A * ((r[mask] / ra)**p[mask] - 1.)))\n"
     ]
    },
    {
     "name": "stdout",
     "output_type": "stream",
     "text": [
      "toy model running ... Done!\n"
     ]
    },
    {
     "name": "stderr",
     "output_type": "stream",
     "text": [
      "/home/apo/anaconda3/lib/python3.6/site-packages/twopoppy-0.0.0-py3.6.egg/twopoppy/distribution_reconstruction.py:213: RuntimeWarning: invalid value encountered in sqrt\n",
      "  a_fr = sig_g / (pi * rho_s) * (b - np.sqrt(b**2 - 4.))\n",
      "/home/apo/anaconda3/lib/python3.6/site-packages/twopoppy-0.0.0-py3.6.egg/twopoppy/distribution_reconstruction.py:30: RuntimeWarning: invalid value encountered in log10\n",
      "  return 10**(np.interp(np.log10(x_int), np.log10(x), np.log10(R)))\n",
      "/home/apo/anaconda3/lib/python3.6/site-packages/twopoppy-0.0.0-py3.6.egg/twopoppy/distribution_reconstruction.py:412: RuntimeWarning: overflow encountered in power\n",
      "  np.exp(A * ((r[mask] / ra)**p[mask] - 1.)))\n"
     ]
    },
    {
     "name": "stdout",
     "output_type": "stream",
     "text": [
      "toy model running ... Done!\n"
     ]
    },
    {
     "name": "stderr",
     "output_type": "stream",
     "text": [
      "/home/apo/anaconda3/lib/python3.6/site-packages/twopoppy-0.0.0-py3.6.egg/twopoppy/distribution_reconstruction.py:213: RuntimeWarning: invalid value encountered in sqrt\n",
      "  a_fr = sig_g / (pi * rho_s) * (b - np.sqrt(b**2 - 4.))\n",
      "/home/apo/anaconda3/lib/python3.6/site-packages/twopoppy-0.0.0-py3.6.egg/twopoppy/distribution_reconstruction.py:30: RuntimeWarning: invalid value encountered in log10\n",
      "  return 10**(np.interp(np.log10(x_int), np.log10(x), np.log10(R)))\n",
      "/home/apo/anaconda3/lib/python3.6/site-packages/twopoppy-0.0.0-py3.6.egg/twopoppy/distribution_reconstruction.py:412: RuntimeWarning: overflow encountered in power\n",
      "  np.exp(A * ((r[mask] / ra)**p[mask] - 1.)))\n"
     ]
    },
    {
     "name": "stdout",
     "output_type": "stream",
     "text": [
      "toy model running ... Done!\n"
     ]
    },
    {
     "name": "stderr",
     "output_type": "stream",
     "text": [
      "/home/apo/anaconda3/lib/python3.6/site-packages/twopoppy-0.0.0-py3.6.egg/twopoppy/distribution_reconstruction.py:213: RuntimeWarning: invalid value encountered in sqrt\n",
      "  a_fr = sig_g / (pi * rho_s) * (b - np.sqrt(b**2 - 4.))\n",
      "/home/apo/anaconda3/lib/python3.6/site-packages/twopoppy-0.0.0-py3.6.egg/twopoppy/distribution_reconstruction.py:30: RuntimeWarning: invalid value encountered in log10\n",
      "  return 10**(np.interp(np.log10(x_int), np.log10(x), np.log10(R)))\n",
      "/home/apo/anaconda3/lib/python3.6/site-packages/twopoppy-0.0.0-py3.6.egg/twopoppy/distribution_reconstruction.py:412: RuntimeWarning: overflow encountered in power\n",
      "  np.exp(A * ((r[mask] / ra)**p[mask] - 1.)))\n"
     ]
    },
    {
     "name": "stdout",
     "output_type": "stream",
     "text": [
      "toy model running ... Done!\n"
     ]
    },
    {
     "name": "stderr",
     "output_type": "stream",
     "text": [
      "/home/apo/anaconda3/lib/python3.6/site-packages/twopoppy-0.0.0-py3.6.egg/twopoppy/distribution_reconstruction.py:213: RuntimeWarning: invalid value encountered in sqrt\n",
      "  a_fr = sig_g / (pi * rho_s) * (b - np.sqrt(b**2 - 4.))\n",
      "/home/apo/anaconda3/lib/python3.6/site-packages/twopoppy-0.0.0-py3.6.egg/twopoppy/distribution_reconstruction.py:30: RuntimeWarning: invalid value encountered in log10\n",
      "  return 10**(np.interp(np.log10(x_int), np.log10(x), np.log10(R)))\n",
      "/home/apo/anaconda3/lib/python3.6/site-packages/twopoppy-0.0.0-py3.6.egg/twopoppy/distribution_reconstruction.py:412: RuntimeWarning: overflow encountered in power\n",
      "  np.exp(A * ((r[mask] / ra)**p[mask] - 1.)))\n"
     ]
    },
    {
     "name": "stdout",
     "output_type": "stream",
     "text": [
      "toy model running ... Done!\n"
     ]
    },
    {
     "name": "stderr",
     "output_type": "stream",
     "text": [
      "/home/apo/anaconda3/lib/python3.6/site-packages/twopoppy-0.0.0-py3.6.egg/twopoppy/distribution_reconstruction.py:213: RuntimeWarning: invalid value encountered in sqrt\n",
      "  a_fr = sig_g / (pi * rho_s) * (b - np.sqrt(b**2 - 4.))\n",
      "/home/apo/anaconda3/lib/python3.6/site-packages/twopoppy-0.0.0-py3.6.egg/twopoppy/distribution_reconstruction.py:30: RuntimeWarning: invalid value encountered in log10\n",
      "  return 10**(np.interp(np.log10(x_int), np.log10(x), np.log10(R)))\n",
      "/home/apo/anaconda3/lib/python3.6/site-packages/twopoppy-0.0.0-py3.6.egg/twopoppy/distribution_reconstruction.py:412: RuntimeWarning: overflow encountered in power\n",
      "  np.exp(A * ((r[mask] / ra)**p[mask] - 1.)))\n"
     ]
    },
    {
     "name": "stdout",
     "output_type": "stream",
     "text": [
      "toy model running ... Done!\n"
     ]
    },
    {
     "name": "stderr",
     "output_type": "stream",
     "text": [
      "/home/apo/anaconda3/lib/python3.6/site-packages/twopoppy-0.0.0-py3.6.egg/twopoppy/distribution_reconstruction.py:213: RuntimeWarning: invalid value encountered in sqrt\n",
      "  a_fr = sig_g / (pi * rho_s) * (b - np.sqrt(b**2 - 4.))\n",
      "/home/apo/anaconda3/lib/python3.6/site-packages/twopoppy-0.0.0-py3.6.egg/twopoppy/distribution_reconstruction.py:30: RuntimeWarning: invalid value encountered in log10\n",
      "  return 10**(np.interp(np.log10(x_int), np.log10(x), np.log10(R)))\n",
      "/home/apo/anaconda3/lib/python3.6/site-packages/twopoppy-0.0.0-py3.6.egg/twopoppy/distribution_reconstruction.py:412: RuntimeWarning: overflow encountered in power\n",
      "  np.exp(A * ((r[mask] / ra)**p[mask] - 1.)))\n"
     ]
    },
    {
     "name": "stdout",
     "output_type": "stream",
     "text": [
      "toy model running ... Done!\n"
     ]
    },
    {
     "name": "stderr",
     "output_type": "stream",
     "text": [
      "/home/apo/anaconda3/lib/python3.6/site-packages/twopoppy-0.0.0-py3.6.egg/twopoppy/distribution_reconstruction.py:213: RuntimeWarning: invalid value encountered in sqrt\n",
      "  a_fr = sig_g / (pi * rho_s) * (b - np.sqrt(b**2 - 4.))\n",
      "/home/apo/anaconda3/lib/python3.6/site-packages/twopoppy-0.0.0-py3.6.egg/twopoppy/distribution_reconstruction.py:30: RuntimeWarning: invalid value encountered in log10\n",
      "  return 10**(np.interp(np.log10(x_int), np.log10(x), np.log10(R)))\n",
      "/home/apo/anaconda3/lib/python3.6/site-packages/twopoppy-0.0.0-py3.6.egg/twopoppy/distribution_reconstruction.py:412: RuntimeWarning: overflow encountered in power\n",
      "  np.exp(A * ((r[mask] / ra)**p[mask] - 1.)))\n"
     ]
    },
    {
     "name": "stdout",
     "output_type": "stream",
     "text": [
      "toy model running ... Done!\n"
     ]
    },
    {
     "name": "stderr",
     "output_type": "stream",
     "text": [
      "/home/apo/anaconda3/lib/python3.6/site-packages/twopoppy-0.0.0-py3.6.egg/twopoppy/distribution_reconstruction.py:213: RuntimeWarning: invalid value encountered in sqrt\n",
      "  a_fr = sig_g / (pi * rho_s) * (b - np.sqrt(b**2 - 4.))\n",
      "/home/apo/anaconda3/lib/python3.6/site-packages/twopoppy-0.0.0-py3.6.egg/twopoppy/distribution_reconstruction.py:30: RuntimeWarning: invalid value encountered in log10\n",
      "  return 10**(np.interp(np.log10(x_int), np.log10(x), np.log10(R)))\n",
      "/home/apo/anaconda3/lib/python3.6/site-packages/twopoppy-0.0.0-py3.6.egg/twopoppy/distribution_reconstruction.py:412: RuntimeWarning: overflow encountered in power\n",
      "  np.exp(A * ((r[mask] / ra)**p[mask] - 1.)))\n"
     ]
    },
    {
     "name": "stdout",
     "output_type": "stream",
     "text": [
      "toy model running ... Done!\n"
     ]
    },
    {
     "name": "stderr",
     "output_type": "stream",
     "text": [
      "/home/apo/anaconda3/lib/python3.6/site-packages/twopoppy-0.0.0-py3.6.egg/twopoppy/distribution_reconstruction.py:213: RuntimeWarning: invalid value encountered in sqrt\n",
      "  a_fr = sig_g / (pi * rho_s) * (b - np.sqrt(b**2 - 4.))\n",
      "/home/apo/anaconda3/lib/python3.6/site-packages/twopoppy-0.0.0-py3.6.egg/twopoppy/distribution_reconstruction.py:30: RuntimeWarning: invalid value encountered in log10\n",
      "  return 10**(np.interp(np.log10(x_int), np.log10(x), np.log10(R)))\n",
      "/home/apo/anaconda3/lib/python3.6/site-packages/twopoppy-0.0.0-py3.6.egg/twopoppy/distribution_reconstruction.py:412: RuntimeWarning: overflow encountered in power\n",
      "  np.exp(A * ((r[mask] / ra)**p[mask] - 1.)))\n"
     ]
    },
    {
     "name": "stdout",
     "output_type": "stream",
     "text": [
      "toy model running ... Done!\n"
     ]
    },
    {
     "name": "stderr",
     "output_type": "stream",
     "text": [
      "/home/apo/anaconda3/lib/python3.6/site-packages/twopoppy-0.0.0-py3.6.egg/twopoppy/distribution_reconstruction.py:213: RuntimeWarning: invalid value encountered in sqrt\n",
      "  a_fr = sig_g / (pi * rho_s) * (b - np.sqrt(b**2 - 4.))\n",
      "/home/apo/anaconda3/lib/python3.6/site-packages/twopoppy-0.0.0-py3.6.egg/twopoppy/distribution_reconstruction.py:30: RuntimeWarning: invalid value encountered in log10\n",
      "  return 10**(np.interp(np.log10(x_int), np.log10(x), np.log10(R)))\n",
      "/home/apo/anaconda3/lib/python3.6/site-packages/twopoppy-0.0.0-py3.6.egg/twopoppy/distribution_reconstruction.py:412: RuntimeWarning: overflow encountered in power\n",
      "  np.exp(A * ((r[mask] / ra)**p[mask] - 1.)))\n"
     ]
    },
    {
     "name": "stdout",
     "output_type": "stream",
     "text": [
      "toy model running ... Done!\n"
     ]
    },
    {
     "name": "stderr",
     "output_type": "stream",
     "text": [
      "/home/apo/anaconda3/lib/python3.6/site-packages/twopoppy-0.0.0-py3.6.egg/twopoppy/distribution_reconstruction.py:213: RuntimeWarning: invalid value encountered in sqrt\n",
      "  a_fr = sig_g / (pi * rho_s) * (b - np.sqrt(b**2 - 4.))\n",
      "/home/apo/anaconda3/lib/python3.6/site-packages/twopoppy-0.0.0-py3.6.egg/twopoppy/distribution_reconstruction.py:30: RuntimeWarning: invalid value encountered in log10\n",
      "  return 10**(np.interp(np.log10(x_int), np.log10(x), np.log10(R)))\n",
      "/home/apo/anaconda3/lib/python3.6/site-packages/twopoppy-0.0.0-py3.6.egg/twopoppy/distribution_reconstruction.py:412: RuntimeWarning: overflow encountered in power\n",
      "  np.exp(A * ((r[mask] / ra)**p[mask] - 1.)))\n"
     ]
    },
    {
     "name": "stdout",
     "output_type": "stream",
     "text": [
      "toy model running ... Done!\n"
     ]
    },
    {
     "name": "stderr",
     "output_type": "stream",
     "text": [
      "/home/apo/anaconda3/lib/python3.6/site-packages/twopoppy-0.0.0-py3.6.egg/twopoppy/distribution_reconstruction.py:213: RuntimeWarning: invalid value encountered in sqrt\n",
      "  a_fr = sig_g / (pi * rho_s) * (b - np.sqrt(b**2 - 4.))\n",
      "/home/apo/anaconda3/lib/python3.6/site-packages/twopoppy-0.0.0-py3.6.egg/twopoppy/distribution_reconstruction.py:30: RuntimeWarning: invalid value encountered in log10\n",
      "  return 10**(np.interp(np.log10(x_int), np.log10(x), np.log10(R)))\n",
      "/home/apo/anaconda3/lib/python3.6/site-packages/twopoppy-0.0.0-py3.6.egg/twopoppy/distribution_reconstruction.py:412: RuntimeWarning: overflow encountered in power\n",
      "  np.exp(A * ((r[mask] / ra)**p[mask] - 1.)))\n"
     ]
    }
   ],
   "source": [
    "for ALPHA in [0.01, 0.005, 0.001, 0.0001]:\n",
    "    for MD in [0.005, 0.025, 0.05, 0.1]:\n",
    "        for rc in [20, 80, 140, 200]:\n",
    "            for v_frag in [1000, 3000, 6000, 10000]:             \n",
    "                \n",
    "                r_c    = rc*au        # disk characteristic radius [cm]\n",
    "                rho_s  = 1.2          # material density of in Drazkowska\n",
    "                M_star = M_sun        # stellar mass [g]\n",
    "                M_disk = MD*M_star  # gas disk mass [g]\n",
    "                d2g    = 0.01         # dust-to-gas ratio [-]\n",
    "                a_0    = 1e-5         # initial particle size [cm]\n",
    "# snapshot time [s]\n",
    "\n",
    "                time  = np.logspace(2,6,n_t)*year\n",
    "\n",
    "# initial conditions: gas and dust surface densities [g cm^-2]\n",
    "\n",
    "                sig_g = (r/r_c)**-1*np.exp(-(r/r_c))\n",
    "                sig_g = sig_g/np.trapz(2*np.pi*r*sig_g,x=r)*M_disk\n",
    "                sig_d = d2g*sig_g\n",
    "\n",
    "# power-law temperature [K]\n",
    "\n",
    "                Temp     = 200.*(r/au)**-0.5\n",
    "\n",
    "# alpha profile: a dip at 30*au - no scientific reason\n",
    "                alpha = ALPHA*np.ones_like(r)\n",
    "#alpha = 1e-2*np.ones_like(r)-9e-3*np.exp(-(r-30*au)**2/(2*(5*au)**2))\n",
    "\n",
    "# v_gas is only for non-evolving gas disks, where you still\n",
    "# want the dust to feel a gas velocity (e.g. a steady-state disk)\n",
    "                v_gas = np.zeros_like(r)\n",
    "\n",
    "                estick = 1.0\n",
    "                opacity = np.load('opacity.npz') # load an npz file (array)\n",
    "                k_a = opacity['k_a'] #len(k_a) = 1500\n",
    "                k_s = opacity['k_s'] #len(k_s) = 1500\n",
    "                lam = opacity['lam']  #all the three are contained in opacity.npz\n",
    "                a_opac = opacity['a'] #len(a_opac) = 1500\n",
    "                n_lam = len(lam)\n",
    "                \n",
    "                res = model.run(r, a_0, time, sig_g, sig_d, v_gas, Temp, alpha, M_star, v_frag, rho_s, 1)\n",
    "\n",
    "                t     = res[0]\n",
    "                sig_d = res[1]\n",
    "                sig_g = res[2]\n",
    "                v_bar = res[3]\n",
    "                v_gas = res[4]\n",
    "                v_0   = res[5]\n",
    "                v_1   = res[6]\n",
    "                a_dr  = res[7]\n",
    "                a_fr  = res[8]\n",
    "                a_df  = res[9]\n",
    "                a_t   = res[10]\n",
    "                \n",
    "                a = np.logspace(np.log10(a_0), np.log10(5 * a_t.max()), 150) \n",
    "                from twopoppy.distribution_reconstruction import reconstruct_size_distribution as rsd\n",
    "                def get_distri( it, r, a, time, sig_g, sig_d, alpha, rho_s, Temp, M_star, v_frag, a0=a_0):\n",
    "    \n",
    "                    if Temp.ndim == 1:\n",
    "                        T = Temp\n",
    "                    else:\n",
    "                        T = Temp[it]\n",
    "    \n",
    "                    distri = rsd(\n",
    "                        r, \n",
    "                        a, \n",
    "                        time[it],\n",
    "                        sig_g[it],\n",
    "                        sig_d[it], \n",
    "                        alpha, \n",
    "                        rho_s, \n",
    "                        T, \n",
    "                        M_star, \n",
    "                        v_frag,\n",
    "                        a_0 = 1e-5) \n",
    "                    return distri[:2]\n",
    "\n",
    "        \n",
    "                def get_results(r, t, a, Temp, sample_time, it, lam, a_opac, k_a, distance=140 * pc, flux_fraction=0.68):\n",
    "    \n",
    "\n",
    "    # interpolate opacity on the same particle size grid as the size distribution\n",
    "   \n",
    "                    kappa = np.array([10.**np.interp(np.log10(a), np.log10(a_opac), np.log10(k)) for k in k_a.T]).T  #interpolates the opacity\n",
    "    \n",
    "                    it = np.abs(t - sample_time).argmin()\n",
    "    \n",
    "                    if Temp.ndim == 1:\n",
    "                        T = Temp\n",
    "                    else:\n",
    "                        T = Temp[it]\n",
    "        \n",
    "    # reconstruct the size distribution\n",
    "        \n",
    "                    sig_da, a_max = get_distri(2, r, a, time, sig_g, sig_d, alpha, rho_s, T, M_star, v_frag,a_0)\n",
    "    \n",
    "    # calculate planck function at every wavelength and radius\n",
    "\n",
    "                    Bnu = planck_B_nu(c_light / (np.array(lam, ndmin=2).T), np.array(T, ndmin=2))  # shape = (n_lam, n_r)\n",
    "\n",
    "    # calculate optical depth\n",
    "\n",
    "                    tau = (kappa.T[:, :, np.newaxis] * sig_da[np.newaxis, :, :])  # shape = (n_l, n_a, n_r)\n",
    "                    tau = tau.sum(1)  # shape = (n_l, n_r)\n",
    "\n",
    "    # calculate intensity at every wavelength and radius for this snapshot\n",
    "    # here the intensity is still in plain CGS units (per sterad)\n",
    "\n",
    "                    intens = Bnu * (1 - np.exp(-tau))\n",
    "\n",
    "    # calculate the fluxes\n",
    "    \n",
    "                    flux = distance**-2 * cumtrapz(2 * np.pi * r * intens, x=r, axis=1, initial=0)\n",
    "    \n",
    "                    flux_t = flux[:, -1] / 1e-23  # store the integrated flux density in Jy (sanity check: TW Hya @ 870 micron and 54 parsec is about 1.5 Jy)\n",
    "\n",
    "    # converted intensity to Jy/arcsec**2\n",
    "\n",
    "                    Inu = intens * arcsec_sq / 1e-23\n",
    "    \n",
    "#   interpolate radius whithin which >=68% of the dust mass is  # Effective radius (see Tripani)\n",
    "#   rf = np.array([np.interp(flux_fraction, _f / _f[-1], res.x) for _f in flux])\n",
    "    \n",
    "                    rf = np.array([np.interp(flux_fraction, _f / _f[-1], r) for _f in flux])\n",
    "    \n",
    "                    path = '/home/apo/Codes/two-pop-py/results.csv'\n",
    "    \n",
    "                    import pandas as pd\n",
    "        \n",
    "                    data_dict = {'mdisk': [M_disk/M_sun], 'alpha' : [alpha[0]], 'r_c [AU]' : [r_c/au], 'v_frag' : [v_frag], 'reff [AU]' : [rf/au], 'fluxmm' : [flux_t]}\n",
    "                    df = pd.DataFrame(data=data_dict)\n",
    "                    column_order = [ 'mdisk', 'alpha', 'r_c [AU]', 'v_frag', 'reff [AU]', 'fluxmm']\n",
    "                    df = df[column_order]\n",
    "\n",
    "    #df = df.append(data_dict, ignore_index=True)\n",
    "                    with open('/home/apo/Codes/two-pop-py/results.csv', 'a') as f:\n",
    "                        df.to_csv(f, header=False)\n",
    "     \n",
    "                    return rf, flux_t, tau, Inu, sig_da, a_max\n",
    "        \n",
    "\n",
    "                \n",
    "                sample_time = t.searchsorted(1e6 * year)  #check searchsorted\n",
    "                IT  = [-1]\n",
    "                rf, flux_t, tau, Inu, sig_da, a_max = get_results(r, t, a, Temp, sample_time, IT, lam, a_opac, k_a)\n",
    "                "
   ]
  },
  {
   "cell_type": "code",
   "execution_count": 34,
   "metadata": {
    "scrolled": true
   },
   "outputs": [
    {
     "name": "stderr",
     "output_type": "stream",
     "text": [
      "/home/apo/anaconda3/lib/python3.6/site-packages/twopoppy-0.0.0-py3.6.egg/twopoppy/distribution_reconstruction.py:30: RuntimeWarning: invalid value encountered in log10\n",
      "  return 10**(np.interp(np.log10(x_int), np.log10(x), np.log10(R)))\n"
     ]
    }
   ],
   "source": [
    "sample_time = t.searchsorted(1e6 * year)  #check searchsorted\n",
    "#it = np.abs(t - sample_time).argmin()\n",
    "IT  = [-1]\n",
    "rf, flux_t, tau, Inu, sig_da, a_max = get_results(r, t, a, Temp, sample_time, IT, lam, a_opac, k_a)"
   ]
  },
  {
   "cell_type": "markdown",
   "metadata": {},
   "source": [
    "Plot the reconstructed size distribution"
   ]
  },
  {
   "cell_type": "code",
   "execution_count": null,
   "metadata": {},
   "outputs": [],
   "source": [
    "df = pd.read_csv('/home/apo/Codes/two-pop-py/results.csv')\n",
    "df"
   ]
  },
  {
   "cell_type": "code",
   "execution_count": 35,
   "metadata": {},
   "outputs": [
    {
     "name": "stdout",
     "output_type": "stream",
     "text": [
      "[  1.35495248e+00   3.31908708e-01   1.71508069e-01   6.73708287e-02\n",
      "   1.23299100e-02   2.13628893e-03   3.63266812e-04   6.17103009e-05\n",
      "   1.07360949e-05]\n"
     ]
    }
   ],
   "source": [
    "print(flux_t)"
   ]
  },
  {
   "cell_type": "code",
   "execution_count": null,
   "metadata": {
    "collapsed": true
   },
   "outputs": [],
   "source": [
    "#it = np.abs(t - sample_time).argmin()\n",
    "f, ax = plt.subplots()\n",
    "ymax = np.ceil(np.log10(sig_da.max()))\n",
    "for it in IT:\n",
    "    cc = ax.contourf(r / au, a, np.log10(sig_da), np.arange(ymax - 10, ymax + 1))\n",
    "    ax.loglog(r / au, a_fr[it], label='a_fr, t = {:.3g} yr'.format(t[it]/year))\n",
    "    ax.loglog(r / au, a_dr[it], '--', label='a_dr, t = {:.3g} yr'.format(t[it]/year))\n",
    "ax.legend()\n",
    "ax.set_ylim(ymin=a[0])\n",
    "ax.set_xscale('log')\n",
    "ax.set_yscale('log')\n",
    "ax.set_xlabel('$r$ [au]')\n",
    "ax.set_ylabel('particle size [cm]')\n",
    "cb = plt.colorbar(cc)\n",
    "cb.set_label('$\\log_{10}\\,\\Sigma_\\mathrm{dust}$ [g cm$^{-2}$]');"
   ]
  },
  {
   "cell_type": "markdown",
   "metadata": {},
   "source": [
    "## Plot the emission profiles"
   ]
  },
  {
   "cell_type": "code",
   "execution_count": null,
   "metadata": {
    "collapsed": true
   },
   "outputs": [],
   "source": [
    "f, ax = plt.subplots(2, 1, figsize=(6, 8))\n",
    "\n",
    "for i_lam in range(len(lam)):\n",
    "\n",
    "    l, = ax[0].loglog(r / au, Inu[i_lam])\n",
    "\n",
    "    cum = cumtrapz(2 * np.pi * r * Inu[i_lam], x=r, initial=1e-10)\n",
    "    cum = cum / cum[-1]\n",
    "    ax[1].semilogx(r / au, cum, color=l.get_color(), label='{:.3g} cm'.format(lam[i_lam]))\n",
    "\n",
    "ax[1].axhline(0.68, c='k', ls='--', label='0.68') \n",
    "    \n",
    "ax[0].set_ylim(1e-10, 1e2)\n",
    "ax[1].set_ylim(0.1, 0.9)\n",
    "ax[1].set_xlim(1e-1, 3e2)\n",
    "ax[1].legend();"
   ]
  },
  {
   "cell_type": "markdown",
   "metadata": {},
   "source": [
    "## Plot the spectral dependence of $r_\\mathrm{eff}$ and the flux"
   ]
  },
  {
   "cell_type": "code",
   "execution_count": null,
   "metadata": {
    "collapsed": true
   },
   "outputs": [],
   "source": [
    "f, ax = plt.subplots(3, 1, figsize=(6, 10))\n",
    "ax[0].semilogx(c_light / lam / 1e9, rf / au)\n",
    "ax[0].set_ylim(0, 100)\n",
    "ax[0].set_xlim(10, 1000)\n",
    "ax[0].set_xlabel(r'$\\nu$ [GHz]')\n",
    "ax[0].set_ylabel(r'$R_\\mathrm{eff}$ [au]')\n",
    "ax[1].loglog(c_light / lam / 1e9, flux_t * 1e3)\n",
    "ax[1].set_ylim(4e-2, 9e2)\n",
    "ax[1].set_xlim(10, 9e2)\n",
    "ax[1].set_xlabel(r'$\\nu$ [GHz]')\n",
    "ax[1].set_ylabel(r'$F_\\nu$ [mJy]')\n",
    "\n",
    "ax[0].set_title('(Md,Rc,alpha,vfrag) = {:.4g}M*, {:.4g}AU, {:.4g} , {:.4g}cm/s'.format(M_disk / M_star, r_c / au, alpha[0], v_frag ))\n",
    "f.savefig('fig1.pdf')"
   ]
  },
  {
   "cell_type": "code",
   "execution_count": null,
   "metadata": {
    "collapsed": true
   },
   "outputs": [],
   "source": [
    "print(rf)"
   ]
  },
  {
   "cell_type": "code",
   "execution_count": null,
   "metadata": {
    "collapsed": true
   },
   "outputs": [],
   "source": []
  }
 ],
 "metadata": {
  "kernelspec": {
   "display_name": "Python 3",
   "language": "python",
   "name": "python3"
  },
  "language_info": {
   "codemirror_mode": {
    "name": "ipython",
    "version": 3
   },
   "file_extension": ".py",
   "mimetype": "text/x-python",
   "name": "python",
   "nbconvert_exporter": "python",
   "pygments_lexer": "ipython3",
   "version": "3.6.4"
  }
 },
 "nbformat": 4,
 "nbformat_minor": 2
}
