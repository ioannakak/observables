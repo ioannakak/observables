{
 "cells": [
  {
   "cell_type": "markdown",
   "metadata": {},
   "source": [
    "# Observables from twopoppy\n",
    "\n",
    "You need to **clone** (not download) the `twopoppy code`:\n",
    "\n",
    "    git clone https://github.com/birnstiel/two-pop-py\n",
    "    \n",
    "Then go in the repository and install it e.g. with\n",
    "\n",
    "    pip install -e ."
   ]
  },
  {
   "cell_type": "markdown",
   "metadata": {},
   "source": [
    "All the imports and setup stuff:"
   ]
  },
  {
   "cell_type": "code",
   "execution_count": null,
   "metadata": {},
   "outputs": [],
   "source": [
    "from planck_B_nu import planck_B_nu\n",
    "import numpy as np\n",
    "import matplotlib.pyplot as plt\n",
    "from astropy import constants as c\n",
    "from astropy import units as u\n",
    "from scipy.integrate import cumtrapz\n",
    "import os, pandas as pd\n",
    "\n",
    "\n",
    "#import twopoppy\n",
    "#from twopoppy.wrapper import model_wrapper\n",
    "#from twopoppy.args import args\n",
    "from twopoppy import model\n",
    "\n",
    "c_light = c.c.cgs.value\n",
    "au = u.au.to('cm')\n",
    "pc = u.pc.to('cm')\n",
    "K =  u.Kelvin\n",
    "M_sun = c.M_sun.cgs.value\n",
    "year = u.year.to('s')\n",
    "arcsec_sq = (u.arcsec**2).to(u.sr)  # arcsec**2 in steradian\n",
    "R_sun        = 69550800000.0\n",
    "%matplotlib inline\n",
    "plt.style.use({'figure.dpi': 200})"
   ]
  },
  {
   "cell_type": "markdown",
   "metadata": {},
   "source": [
    "Get some data"
   ]
  },
  {
   "cell_type": "code",
   "execution_count": null,
   "metadata": {},
   "outputs": [],
   "source": [
    "n_r       = 200\n",
    "n_t       = 100\n",
    "r_in      = 5*au\n",
    "r_out     = 300*au\n",
    "r         = np.logspace(np.log10(r_in),np.log10(r_out),n_r)\n",
    "tstar     = 4010\n",
    "rstar     = 1.806*R_sun\n",
    "#TT = ((0.05**0.25 * tstar * (r / rstar)**-0.5)**4 + (7.)**4)**0.25\n",
    "Temp     = 200.*(r/au)**-0.5"
   ]
  },
  {
   "cell_type": "markdown",
   "metadata": {},
   "source": [
    "Read in the opacity"
   ]
  },
  {
   "cell_type": "code",
   "execution_count": null,
   "metadata": {},
   "outputs": [],
   "source": [
    "opacity = np.load('opacity.npz') # load an npz file (array)\n",
    "k_a = opacity['k_a'] #len(k_a) = 1500\n",
    "k_s = opacity['k_s'] #len(k_s) = 1500\n",
    "lam = opacity['lam']  #all the three are contained in opacity.npz\n",
    "a_opac = opacity['a'] #len(a_opac) = 1500\n",
    "n_lam = len(lam)"
   ]
  },
  {
   "cell_type": "markdown",
   "metadata": {},
   "source": [
    "## Calculate optical depth and emission profiles"
   ]
  },
  {
   "cell_type": "markdown",
   "metadata": {},
   "source": [
    "Define the function that reconstructs the size distribution"
   ]
  },
  {
   "cell_type": "markdown",
   "metadata": {},
   "source": [
    "Now we call the function, passing our selected simulation, the time at which we want the results, and size/wavelength/opacity grids"
   ]
  },
  {
   "cell_type": "code",
   "execution_count": null,
   "metadata": {},
   "outputs": [],
   "source": [
    "i_lambda = 2 # select which wavelength to keep\n",
    "filename = 'results_088.csv'\n",
    "\n",
    "if os.path.isfile(filename):\n",
    "    print('filename \\'{}\\' already exists, will overwrite it'.format(filename))\n",
    "    with open(filename,'w') as f:\n",
    "        f.write('#,Mdisk,alpha,r_c,v_frag,Reff,Fmm\\n')"
   ]
  },
  {
   "cell_type": "code",
   "execution_count": null,
   "metadata": {},
   "outputs": [],
   "source": [
    "from observables_helper import get_results"
   ]
  },
  {
   "cell_type": "code",
   "execution_count": null,
   "metadata": {},
   "outputs": [],
   "source": [
    "for ALPHA in [0.01, 0.005, 0.001, 0.0001]:\n",
    "    for MD in [0.005, 0.025, 0.05, 0.1]:\n",
    "        for rc in [20, 80, 140, 200]:\n",
    "            for v_frag in [100, 300, 600, 1000]:                     \n",
    "                \n",
    "                r_c    = rc*au        # disk characteristic radius [cm]\n",
    "                rho_s  = 1.2          # material density of in Drazkowska\n",
    "                M_star = M_sun        # stellar mass [g]\n",
    "                M_disk = MD*M_star  # gas disk mass [g]\n",
    "                d2g    = 0.01         # dust-to-gas ratio [-]\n",
    "                a_0    = 1e-5         # initial particle size [cm]\n",
    "                # snapshot time [s]\n",
    "\n",
    "                time  = np.logspace(2,6,n_t)*year\n",
    "\n",
    "                # initial conditions: gas and dust surface densities [g cm^-2]\n",
    "\n",
    "                sig_g = (r/r_c)**-1*np.exp(-(r/r_c))\n",
    "                sig_g = sig_g/np.trapz(2*np.pi*r*sig_g,x=r)*M_disk\n",
    "                sig_d = d2g*sig_g\n",
    "\n",
    "                # alpha profile: a dip at 30*au - no scientific reason\n",
    "                alpha = ALPHA*np.ones_like(r)\n",
    "                #alpha = 1e-2*np.ones_like(r)-9e-3*np.exp(-(r-30*au)**2/(2*(5*au)**2))\n",
    "\n",
    "                # v_gas is only for non-evolving gas disks, where you still\n",
    "                # want the dust to feel a gas velocity (e.g. a steady-state disk)\n",
    "                v_gas = np.zeros_like(r)\n",
    "\n",
    "                estick = 1.0\n",
    "                \n",
    "                res = model.run(r, a_0, time, sig_g, sig_d, v_gas, Temp, alpha, M_star, v_frag, rho_s, 1)\n",
    "\n",
    "                t     = res[0]\n",
    "                sig_d = res[1]\n",
    "                sig_g = res[2]\n",
    "                v_bar = res[3]\n",
    "                v_gas = res[4]\n",
    "                v_0   = res[5]\n",
    "                v_1   = res[6]\n",
    "                a_dr  = res[7]\n",
    "                a_fr  = res[8]\n",
    "                a_df  = res[9]\n",
    "                a_t   = res[10]\n",
    "                \n",
    "                a = np.logspace(np.log10(a_0), np.log10(5 * a_t.max()), 150) \n",
    "\n",
    "                IT  = -1\n",
    "                sample_time = t[IT]\n",
    "                \n",
    "                rf, flux_t, tau, Inu, sig_da, a_max = get_results(r, t, a, sig_g, sig_d, alpha, rho_s, M_star, v_frag, Temp, IT, lam, a_opac, k_a)\n",
    "                \n",
    "                data_dict = {'mdisk': [M_disk / M_sun],\n",
    "                             'alpha': [alpha[0]],\n",
    "                             'r_c [AU]': [r_c / au],\n",
    "                             'v_frag': [v_frag],\n",
    "                             'reff [AU]': [rf[i_lambda] / au],\n",
    "                             'fluxmm': [flux_t[i_lambda]]}\n",
    "                \n",
    "                df = pd.DataFrame(data=data_dict)\n",
    "                \n",
    "                column_order = ['mdisk', 'alpha', 'r_c [AU]', 'v_frag', 'reff [AU]', 'fluxmm']\n",
    "                df = df[column_order]\n",
    "\n",
    "                # df = df.append(data_dict, ignore_index=True)\n",
    "                \n",
    "                with open(filename, 'a') as f:\n",
    "                    df.to_csv(f, header=False)\n",
    "                "
   ]
  },
  {
   "cell_type": "code",
   "execution_count": null,
   "metadata": {},
   "outputs": [],
   "source": [
    "df = pd.read_csv('results_088.csv')\n",
    "df"
   ]
  },
  {
   "cell_type": "code",
   "execution_count": null,
   "metadata": {},
   "outputs": [],
   "source": [
    "d = np.loadtxt('results_088.csv',skiprows=1,delimiter=',')"
   ]
  },
  {
   "cell_type": "code",
   "execution_count": null,
   "metadata": {},
   "outputs": [],
   "source": [
    "plt.scatter(d[:,-1],d[:,-2])\n",
    "plt.xscale('log')\n",
    "plt.yscale('log')"
   ]
  },
  {
   "cell_type": "code",
   "execution_count": null,
   "metadata": {},
   "outputs": [],
   "source": [
    "df_01M     =  df.loc[df['Mdisk'] == 0.1]\n",
    "df_005M    =  df.loc[df['Mdisk'] == 0.05]\n",
    "df_0025M   =  df.loc[df['Mdisk'] == 0.025]\n",
    "df_0005M   =  df.loc[df['Mdisk'] == 0.005]\n",
    "\n",
    "df_001a    =  df.loc[df['alpha'] == 0.01]\n",
    "df_0005a   =  df.loc[df['alpha'] == 0.005]\n",
    "df_0001a   =  df.loc[df['alpha'] == 0.001]\n",
    "df_00001a  =  df.loc[df['alpha'] == 0.0001]\n",
    "\n",
    "df_20r     =  df.loc[df['r_c']  == 20]\n",
    "df_80r     =  df.loc[df['r_c']  == 80]\n",
    "df_140r    =  df.loc[df['r_c']  == 140]\n",
    "df_200r    =  df.loc[df['r_c']  == 200]\n",
    "\n",
    "df_1000v   =  df.loc[df['v_frag']  == 1000]\n",
    "df_3000v   =  df.loc[df['v_frag']  == 3000]\n",
    "df_6000v   =  df.loc[df['v_frag']  == 6000]\n",
    "df_10000v  =  df.loc[df['v_frag']  == 10000]\n",
    "\n",
    "\n",
    "Fmmall     =  df['Fmm'].values\n",
    "Reffall    =  df['Reff'].values\n",
    "Reff01     =  df_01M['Reff'].values\n",
    "Reff005    =  df_005M['Reff'].values\n",
    "Reff0025   =  df_0025M['Reff'].values\n",
    "Reff0005   =  df_0005M['Reff'].values\n",
    "\n",
    "Fmm01      =  df_01M['Fmm'].values\n",
    "Fmm005     =  df_005M['Fmm'].values\n",
    "Fmm0025    =  df_0025M['Fmm'].values\n",
    "Fmm0005    =  df_0005M['Fmm'].values\n",
    "\n",
    "Reff001a   =  df_001a['Reff'].values\n",
    "Reff0005a  =  df_0005a['Reff'].values\n",
    "Reff0001a  =  df_0001a['Reff'].values\n",
    "Reff00001a =  df_00001a['Reff'].values\n",
    "\n",
    "Fmm001a    =  df_001a['Fmm'].values\n",
    "Fmm0005a   =  df_0005a['Fmm'].values\n",
    "Fmm0001a   =  df_0001a['Fmm'].values\n",
    "Fmm00001a  =  df_00001a['Fmm'].values\n"
   ]
  },
  {
   "cell_type": "markdown",
   "metadata": {},
   "source": [
    "## Plot the opacity"
   ]
  },
  {
   "cell_type": "code",
   "execution_count": null,
   "metadata": {
    "scrolled": true
   },
   "outputs": [],
   "source": [
    "f, ax = plt.subplots()\n",
    "for ilam in range(n_lam):\n",
    "    ax.loglog(a_opac, k_a[:, ilam], label='$\\lambda = {:.3g}$ mm'.format(10 * lam[ilam]))\n",
    "ax.legend()\n",
    "ax.set_xlabel('particle size [cm]')\n",
    "ax.set_ylabel('$\\kappa_\\mathrm{abs}$ [cm$^2$/g]');"
   ]
  },
  {
   "cell_type": "markdown",
   "metadata": {},
   "source": [
    "## Plot the spectral dependence of $r_\\mathrm{eff}$ and the flux"
   ]
  },
  {
   "cell_type": "code",
   "execution_count": null,
   "metadata": {},
   "outputs": [],
   "source": [
    "f, ax = plt.subplots()\n",
    "\n",
    "ax.scatter(np.log10(Fmm01),np.log10(Reff01), c = 'g', label='Mdisk = 0.1')\n",
    "ax.scatter(np.log10(Fmm005),np.log10(Reff005), c = 'r',label='Mdisk = 0.05')\n",
    "ax.scatter(np.log10(Fmm0025),np.log10(Reff0025), c = 'k', label='Mdisk = 0.025')\n",
    "ax.scatter(np.log10(Fmm0005),np.log10(Reff0005), c = 'b',label='Mdisk = 0.005', alpha=0.3)\n",
    "\n",
    "ax.set_xlim(-2, 1)\n",
    "ax.set_ylim(1, 3)\n",
    "ax.set_xlabel(r'log $F_\\nu$ [Jy]')\n",
    "ax.set_ylabel(r'log $R_\\mathrm{eff}$ [AU]')\n",
    "\n",
    "ax.legend();\n",
    "#ax.set_title('(Md,Rc,alpha,vfrag) = {:.4g}M*, {:.4g}AU, {:.4g} , {:.4g}cm/s'.format(M_disk / M_star, r_c / au, alpha[0], v_frag ))\n",
    "#f.savefig('fig1.pdf')"
   ]
  },
  {
   "cell_type": "code",
   "execution_count": null,
   "metadata": {},
   "outputs": [],
   "source": [
    "f, ax = plt.subplots()\n",
    "ax.scatter(np.log(Fmm0001a),np.log(Reff0001a), c = 'g', label='a = 0.01')\n",
    "ax.set_xlim(-3, 1.5)\n",
    "ax.set_ylim(2, 5)\n",
    "ax.set_xlabel(r'log $F_\\nu$ [Jy]')\n",
    "ax.set_ylabel(r'log $R_\\mathrm{eff}$ [au]')\n",
    "\n",
    "\n",
    "ax.scatter(np.log(Fmm0005a),np.log(Reff0005a), c = 'r',label='a = 0.05' )\n",
    "ax.set_xlim(-3, 1.5)\n",
    "ax.set_ylim(2, 5)\n",
    "ax.set_xlabel(r'log $F_\\nu$ [Jy]')\n",
    "ax.set_ylabel(r'log $R_\\mathrm{eff}$ [au]')\n",
    "\n",
    "ax.scatter(np.log(Fmm00001a),np.log(Reff00001a), c = 'k', label='a = 0.0001')\n",
    "ax.set_xlim(-3, 1.5)\n",
    "ax.set_ylim(2, 5)\n",
    "ax.set_xlabel(r'log $F_\\nu$ [Jy]')\n",
    "ax.set_ylabel(r'log $R_\\mathrm{eff}$ [au]')\n",
    "\n",
    "\n",
    "ax.scatter(np.log(Fmm0001a),np.log(Reff0001a), c = 'b',label='a = 0.001')\n",
    "ax.set_xlim(-3, 1.5)\n",
    "ax.set_ylim(2, 5)\n",
    "ax.set_xlabel(r'log $F_\\nu$ [Jy]')\n",
    "ax.set_ylabel(r'log $R_\\mathrm{eff}$ [au]')\n",
    "\n",
    "\n",
    "ax.legend();"
   ]
  },
  {
   "cell_type": "code",
   "execution_count": null,
   "metadata": {
    "collapsed": true
   },
   "outputs": [],
   "source": []
  }
 ],
 "metadata": {
  "kernelspec": {
   "display_name": "Python 3",
   "language": "python",
   "name": "python3"
  },
  "language_info": {
   "codemirror_mode": {
    "name": "ipython",
    "version": 3
   },
   "file_extension": ".py",
   "mimetype": "text/x-python",
   "name": "python",
   "nbconvert_exporter": "python",
   "pygments_lexer": "ipython3",
   "version": "3.6.3"
  }
 },
 "nbformat": 4,
 "nbformat_minor": 2
}
